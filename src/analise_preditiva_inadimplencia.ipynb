{
 "cells": [
  {
   "cell_type": "markdown",
   "metadata": {},
   "source": [
    "# Análise Preditiva de Inadimplência\n",
    "---\n",
    "Desafio proposto pela }`Datarisk`.<br>\n",
    "__Candidata__: Laryssa Stephanie Andrade da Costa Silva | [LinkedIn](https://www.linkedin.com/in/laryssastephanie/) | [Github](https://github.com/laryssastephanie)\n",
    "\n",
    "---"
   ]
  },
  {
   "cell_type": "code",
   "execution_count": 1,
   "metadata": {},
   "outputs": [],
   "source": [
    "#importando Bibliotecas Necessárias\n",
    "\n",
    "import pickle\n",
    "import shap\n",
    "import numpy as np\n",
    "import pandas as pd\n",
    "import matplotlib.pyplot as plt\n",
    "import seaborn as sns\n",
    "import scipy as sp\n",
    "import lightgbm as lgb\n",
    "import xgboost as xgb\n",
    "from sklearn.impute import KNNImputer\n",
    "from sklearn.model_selection import train_test_split\n",
    "from sklearn.model_selection import cross_validate, RandomizedSearchCV\n",
    "from sklearn.ensemble import RandomForestClassifier\n",
    "from sklego.meta import Thresholder\n",
    "from sklearn.tree import DecisionTreeClassifier\n",
    "from sklearn.metrics import classification_report, PrecisionRecallDisplay, precision_recall_curve, ConfusionMatrixDisplay, confusion_matrix"
   ]
  },
  {
   "cell_type": "code",
   "execution_count": 2,
   "metadata": {},
   "outputs": [],
   "source": [
    "data_train = pd.read_csv('../case_datarisk/treino.csv')\n",
    "data_train.index = data_train.index + 1\n",
    "data_train.index.rename('cliente', inplace=True)\n",
    "data_train.reset_index(level=0, inplace=True)\n",
    "\n",
    "data_val = pd.read_csv('../case_datarisk/teste.csv')\n",
    "data_val.index = data_val.index + 1\n",
    "data_val.index.rename('cliente', inplace=True)\n",
    "data_val.reset_index(level=0, inplace=True)"
   ]
  },
  {
   "cell_type": "code",
   "execution_count": 3,
   "metadata": {},
   "outputs": [
    {
     "name": "stdout",
     "output_type": "stream",
     "text": [
      "Treino shape (110000, 12)\n",
      "Teste shape (40000, 11)\n"
     ]
    }
   ],
   "source": [
    "print(f\"Treino shape {data_train.shape}\")\n",
    "print(f\"Teste shape {data_val.shape}\")"
   ]
  },
  {
   "cell_type": "code",
   "execution_count": 4,
   "metadata": {},
   "outputs": [
    {
     "data": {
      "text/plain": [
       "0    102669\n",
       "1      7331\n",
       "Name: inadimplente, dtype: int64"
      ]
     },
     "execution_count": 4,
     "metadata": {},
     "output_type": "execute_result"
    }
   ],
   "source": [
    "data_train['inadimplente'].value_counts()"
   ]
  },
  {
   "cell_type": "code",
   "execution_count": 5,
   "metadata": {},
   "outputs": [
    {
     "data": {
      "text/html": [
       "<div>\n",
       "<style scoped>\n",
       "    .dataframe tbody tr th:only-of-type {\n",
       "        vertical-align: middle;\n",
       "    }\n",
       "\n",
       "    .dataframe tbody tr th {\n",
       "        vertical-align: top;\n",
       "    }\n",
       "\n",
       "    .dataframe thead th {\n",
       "        text-align: right;\n",
       "    }\n",
       "</style>\n",
       "<table border=\"1\" class=\"dataframe\">\n",
       "  <thead>\n",
       "    <tr style=\"text-align: right;\">\n",
       "      <th></th>\n",
       "      <th>count</th>\n",
       "      <th>mean</th>\n",
       "      <th>std</th>\n",
       "      <th>min</th>\n",
       "      <th>25%</th>\n",
       "      <th>50%</th>\n",
       "      <th>75%</th>\n",
       "      <th>max</th>\n",
       "    </tr>\n",
       "  </thead>\n",
       "  <tbody>\n",
       "    <tr>\n",
       "      <th>cliente</th>\n",
       "      <td>110000.0</td>\n",
       "      <td>55000.50</td>\n",
       "      <td>31754.41</td>\n",
       "      <td>1.0</td>\n",
       "      <td>27500.75</td>\n",
       "      <td>55000.50</td>\n",
       "      <td>82500.25</td>\n",
       "      <td>110000.0</td>\n",
       "    </tr>\n",
       "    <tr>\n",
       "      <th>inadimplente</th>\n",
       "      <td>110000.0</td>\n",
       "      <td>0.07</td>\n",
       "      <td>0.25</td>\n",
       "      <td>0.0</td>\n",
       "      <td>0.00</td>\n",
       "      <td>0.00</td>\n",
       "      <td>0.00</td>\n",
       "      <td>1.0</td>\n",
       "    </tr>\n",
       "    <tr>\n",
       "      <th>util_linhas_inseguras</th>\n",
       "      <td>110000.0</td>\n",
       "      <td>5.93</td>\n",
       "      <td>252.30</td>\n",
       "      <td>0.0</td>\n",
       "      <td>0.03</td>\n",
       "      <td>0.16</td>\n",
       "      <td>0.56</td>\n",
       "      <td>50708.0</td>\n",
       "    </tr>\n",
       "    <tr>\n",
       "      <th>idade</th>\n",
       "      <td>110000.0</td>\n",
       "      <td>52.26</td>\n",
       "      <td>14.77</td>\n",
       "      <td>0.0</td>\n",
       "      <td>41.00</td>\n",
       "      <td>52.00</td>\n",
       "      <td>63.00</td>\n",
       "      <td>109.0</td>\n",
       "    </tr>\n",
       "    <tr>\n",
       "      <th>vezes_passou_de_30_59_dias</th>\n",
       "      <td>110000.0</td>\n",
       "      <td>0.42</td>\n",
       "      <td>4.24</td>\n",
       "      <td>0.0</td>\n",
       "      <td>0.00</td>\n",
       "      <td>0.00</td>\n",
       "      <td>0.00</td>\n",
       "      <td>98.0</td>\n",
       "    </tr>\n",
       "    <tr>\n",
       "      <th>razao_debito</th>\n",
       "      <td>110000.0</td>\n",
       "      <td>354.82</td>\n",
       "      <td>2074.14</td>\n",
       "      <td>0.0</td>\n",
       "      <td>0.18</td>\n",
       "      <td>0.37</td>\n",
       "      <td>0.87</td>\n",
       "      <td>329664.0</td>\n",
       "    </tr>\n",
       "    <tr>\n",
       "      <th>salario_mensal</th>\n",
       "      <td>88237.0</td>\n",
       "      <td>6637.41</td>\n",
       "      <td>13383.95</td>\n",
       "      <td>0.0</td>\n",
       "      <td>3400.00</td>\n",
       "      <td>5400.00</td>\n",
       "      <td>8225.00</td>\n",
       "      <td>3008750.0</td>\n",
       "    </tr>\n",
       "    <tr>\n",
       "      <th>numero_linhas_crdto_aberto</th>\n",
       "      <td>110000.0</td>\n",
       "      <td>8.45</td>\n",
       "      <td>5.14</td>\n",
       "      <td>0.0</td>\n",
       "      <td>5.00</td>\n",
       "      <td>8.00</td>\n",
       "      <td>11.00</td>\n",
       "      <td>58.0</td>\n",
       "    </tr>\n",
       "    <tr>\n",
       "      <th>numero_vezes_passou_90_dias</th>\n",
       "      <td>110000.0</td>\n",
       "      <td>0.27</td>\n",
       "      <td>4.22</td>\n",
       "      <td>0.0</td>\n",
       "      <td>0.00</td>\n",
       "      <td>0.00</td>\n",
       "      <td>0.00</td>\n",
       "      <td>98.0</td>\n",
       "    </tr>\n",
       "    <tr>\n",
       "      <th>numero_emprestimos_imobiliarios</th>\n",
       "      <td>110000.0</td>\n",
       "      <td>1.02</td>\n",
       "      <td>1.14</td>\n",
       "      <td>0.0</td>\n",
       "      <td>0.00</td>\n",
       "      <td>1.00</td>\n",
       "      <td>2.00</td>\n",
       "      <td>54.0</td>\n",
       "    </tr>\n",
       "    <tr>\n",
       "      <th>numero_de_vezes_que_passou_60_89_dias</th>\n",
       "      <td>110000.0</td>\n",
       "      <td>0.24</td>\n",
       "      <td>4.20</td>\n",
       "      <td>0.0</td>\n",
       "      <td>0.00</td>\n",
       "      <td>0.00</td>\n",
       "      <td>0.00</td>\n",
       "      <td>98.0</td>\n",
       "    </tr>\n",
       "    <tr>\n",
       "      <th>numero_de_dependentes</th>\n",
       "      <td>107122.0</td>\n",
       "      <td>0.76</td>\n",
       "      <td>1.11</td>\n",
       "      <td>0.0</td>\n",
       "      <td>0.00</td>\n",
       "      <td>0.00</td>\n",
       "      <td>1.00</td>\n",
       "      <td>20.0</td>\n",
       "    </tr>\n",
       "  </tbody>\n",
       "</table>\n",
       "</div>"
      ],
      "text/plain": [
       "                                          count      mean       std  min  \\\n",
       "cliente                                110000.0  55000.50  31754.41  1.0   \n",
       "inadimplente                           110000.0      0.07      0.25  0.0   \n",
       "util_linhas_inseguras                  110000.0      5.93    252.30  0.0   \n",
       "idade                                  110000.0     52.26     14.77  0.0   \n",
       "vezes_passou_de_30_59_dias             110000.0      0.42      4.24  0.0   \n",
       "razao_debito                           110000.0    354.82   2074.14  0.0   \n",
       "salario_mensal                          88237.0   6637.41  13383.95  0.0   \n",
       "numero_linhas_crdto_aberto             110000.0      8.45      5.14  0.0   \n",
       "numero_vezes_passou_90_dias            110000.0      0.27      4.22  0.0   \n",
       "numero_emprestimos_imobiliarios        110000.0      1.02      1.14  0.0   \n",
       "numero_de_vezes_que_passou_60_89_dias  110000.0      0.24      4.20  0.0   \n",
       "numero_de_dependentes                  107122.0      0.76      1.11  0.0   \n",
       "\n",
       "                                            25%       50%       75%        max  \n",
       "cliente                                27500.75  55000.50  82500.25   110000.0  \n",
       "inadimplente                               0.00      0.00      0.00        1.0  \n",
       "util_linhas_inseguras                      0.03      0.16      0.56    50708.0  \n",
       "idade                                     41.00     52.00     63.00      109.0  \n",
       "vezes_passou_de_30_59_dias                 0.00      0.00      0.00       98.0  \n",
       "razao_debito                               0.18      0.37      0.87   329664.0  \n",
       "salario_mensal                          3400.00   5400.00   8225.00  3008750.0  \n",
       "numero_linhas_crdto_aberto                 5.00      8.00     11.00       58.0  \n",
       "numero_vezes_passou_90_dias                0.00      0.00      0.00       98.0  \n",
       "numero_emprestimos_imobiliarios            0.00      1.00      2.00       54.0  \n",
       "numero_de_vezes_que_passou_60_89_dias      0.00      0.00      0.00       98.0  \n",
       "numero_de_dependentes                      0.00      0.00      1.00       20.0  "
      ]
     },
     "execution_count": 5,
     "metadata": {},
     "output_type": "execute_result"
    }
   ],
   "source": [
    "data_train.describe().round(2).T"
   ]
  },
  {
   "cell_type": "code",
   "execution_count": 6,
   "metadata": {},
   "outputs": [
    {
     "name": "stdout",
     "output_type": "stream",
     "text": [
      "Treino:\n",
      "7331 usuarios inadimplentes -> 6.66% dos dados totais\n",
      "102669 usuarios adimplentes -> 93.34% dos dados totais\n",
      "\n"
     ]
    }
   ],
   "source": [
    "# print de informações\n",
    "qtd_total_train = data_train.shape[0]\n",
    "inadimplentes_train = sum(data_train['inadimplente'])\n",
    "adimplentes_train = qtd_total_train - inadimplentes_train\n",
    "\n",
    "print(\"Treino:\")\n",
    "print(f\"{inadimplentes_train} usuarios inadimplentes -> {inadimplentes_train/qtd_total_train * 100:3.2f}% dos dados totais\")\n",
    "print(f\"{adimplentes_train} usuarios adimplentes -> {adimplentes_train/qtd_total_train * 100:3.2f}% dos dados totais\\n\")"
   ]
  },
  {
   "cell_type": "markdown",
   "metadata": {},
   "source": [
    "---\n",
    "## Tratando os NaN's\n",
    "---"
   ]
  },
  {
   "cell_type": "markdown",
   "metadata": {},
   "source": [
    "Para dados de Treino"
   ]
  },
  {
   "cell_type": "code",
   "execution_count": 7,
   "metadata": {},
   "outputs": [
    {
     "data": {
      "text/plain": [
       "cliente                                      0\n",
       "inadimplente                                 0\n",
       "util_linhas_inseguras                        0\n",
       "idade                                        0\n",
       "vezes_passou_de_30_59_dias                   0\n",
       "razao_debito                                 0\n",
       "salario_mensal                           21763\n",
       "numero_linhas_crdto_aberto                   0\n",
       "numero_vezes_passou_90_dias                  0\n",
       "numero_emprestimos_imobiliarios              0\n",
       "numero_de_vezes_que_passou_60_89_dias        0\n",
       "numero_de_dependentes                     2878\n",
       "dtype: int64"
      ]
     },
     "execution_count": 7,
     "metadata": {},
     "output_type": "execute_result"
    }
   ],
   "source": [
    "data_train.isna().sum()"
   ]
  },
  {
   "cell_type": "code",
   "execution_count": 8,
   "metadata": {},
   "outputs": [],
   "source": [
    "# Assumindo que o número de dependentes em branco é zero.\n",
    "data_train['numero_de_dependentes'] = data_train['numero_de_dependentes'].fillna(0)"
   ]
  },
  {
   "cell_type": "code",
   "execution_count": 9,
   "metadata": {},
   "outputs": [
    {
     "data": {
      "text/plain": [
       "count      88237.00\n",
       "mean        6637.41\n",
       "std        13383.95\n",
       "min            0.00\n",
       "25%         3400.00\n",
       "50%         5400.00\n",
       "75%         8225.00\n",
       "max      3008750.00\n",
       "Name: salario_mensal, dtype: float64"
      ]
     },
     "execution_count": 9,
     "metadata": {},
     "output_type": "execute_result"
    }
   ],
   "source": [
    "data_train['salario_mensal'].describe().round(2)"
   ]
  },
  {
   "cell_type": "code",
   "execution_count": 10,
   "metadata": {},
   "outputs": [],
   "source": [
    "# Utilizando o KNNImputer para preencher os dados de salário faltantes.\n",
    "imputer = KNNImputer(n_neighbors=3)\n",
    "data_train_knn = pd.DataFrame(imputer.fit_transform(data_train), columns=data_train.columns)"
   ]
  },
  {
   "cell_type": "code",
   "execution_count": 11,
   "metadata": {},
   "outputs": [],
   "source": [
    "data_train['salario_mensal'] = data_train_knn['salario_mensal']"
   ]
  },
  {
   "cell_type": "code",
   "execution_count": 12,
   "metadata": {},
   "outputs": [
    {
     "data": {
      "text/plain": [
       "cliente                                  0\n",
       "inadimplente                             0\n",
       "util_linhas_inseguras                    0\n",
       "idade                                    0\n",
       "vezes_passou_de_30_59_dias               0\n",
       "razao_debito                             0\n",
       "salario_mensal                           0\n",
       "numero_linhas_crdto_aberto               0\n",
       "numero_vezes_passou_90_dias              0\n",
       "numero_emprestimos_imobiliarios          0\n",
       "numero_de_vezes_que_passou_60_89_dias    0\n",
       "numero_de_dependentes                    0\n",
       "dtype: int64"
      ]
     },
     "execution_count": 12,
     "metadata": {},
     "output_type": "execute_result"
    }
   ],
   "source": [
    "data_train.isna().sum()"
   ]
  },
  {
   "cell_type": "markdown",
   "metadata": {},
   "source": [
    "---\n",
    "Para dados de teste"
   ]
  },
  {
   "cell_type": "code",
   "execution_count": 13,
   "metadata": {},
   "outputs": [],
   "source": [
    "# Assumindo que o número de dependentes em branco é zero.\n",
    "data_val['numero_de_dependentes'] = data_val['numero_de_dependentes'].fillna(0)"
   ]
  },
  {
   "cell_type": "code",
   "execution_count": 14,
   "metadata": {},
   "outputs": [],
   "source": [
    "# Utilizando o KNNImputer para preencher os dados de salário faltantes.\n",
    "imputer = KNNImputer(n_neighbors=3)\n",
    "data_val_knn = pd.DataFrame(imputer.fit_transform(data_val), columns=data_val.columns)"
   ]
  },
  {
   "cell_type": "code",
   "execution_count": 15,
   "metadata": {},
   "outputs": [],
   "source": [
    "data_val['salario_mensal'] = data_val_knn['salario_mensal']"
   ]
  },
  {
   "cell_type": "code",
   "execution_count": 16,
   "metadata": {},
   "outputs": [
    {
     "data": {
      "text/plain": [
       "cliente                                  0\n",
       "util_linhas_inseguras                    0\n",
       "idade                                    0\n",
       "vezes_passou_de_30_59_dias               0\n",
       "razao_debito                             0\n",
       "salario_mensal                           0\n",
       "numero_linhas_crdto_aberto               0\n",
       "numero_vezes_passou_90_dias              0\n",
       "numero_emprestimos_imobiliarios          0\n",
       "numero_de_vezes_que_passou_60_89_dias    0\n",
       "numero_de_dependentes                    0\n",
       "dtype: int64"
      ]
     },
     "execution_count": 16,
     "metadata": {},
     "output_type": "execute_result"
    }
   ],
   "source": [
    "data_val.isna().sum()"
   ]
  },
  {
   "cell_type": "markdown",
   "metadata": {},
   "source": [
    "## Análises de features pré-treino\n",
    "\n",
    "Plotando gráficos de barra e box para cada feature. Para features com grande variação de dados, plotaremos apenas boxplot. \n",
    "\n",
    "---"
   ]
  },
  {
   "cell_type": "code",
   "execution_count": 17,
   "metadata": {},
   "outputs": [],
   "source": [
    "# função para agilizar o plot em barras\n",
    "\n",
    "def plot_bar (df, feature):\n",
    "    df_aux = df.groupby([feature, 'inadimplente']).agg(n=('cliente', 'count')).unstack().droplevel(level=0, axis=1)\n",
    "\n",
    "    fig, ax = plt.subplots(figsize=(20,5))\n",
    "    ax.bar(x=df_aux.index, height=df_aux[0], log=True, color='#2984E0')\n",
    "    ax.bar(x=df_aux.index, height=df_aux[1], log=True, color='#FF6C00')\n",
    "\n",
    "    ax.legend(['Adimplente', 'Inadimplente'])\n",
    "    ax.grid(axis='y', color='k', linestyle=':')\n",
    "    plt.show()"
   ]
  },
  {
   "cell_type": "code",
   "execution_count": 18,
   "metadata": {},
   "outputs": [],
   "source": [
    "# função para agilizar o plot de box-and-whiskers\n",
    "\n",
    "def plot_box (df, feature, logscale=True):\n",
    "    data = [df.query('inadimplente == 0')[feature], df.query('inadimplente == 1')[feature]]\n",
    "\n",
    "    fig, ax = plt.subplots(figsize=(15,5))\n",
    "    if logscale:\n",
    "        ax.set_yscale('symlog', linthresh=1)\n",
    "    ax.boxplot(data, labels=['Adimplente', 'Inadimplente'])\n",
    "    ax.grid(axis='y', linestyle=':')\n",
    "    plt.show()"
   ]
  },
  {
   "cell_type": "markdown",
   "metadata": {},
   "source": [
    "1. Inadimplente\n",
    "---"
   ]
  },
  {
   "cell_type": "code",
   "execution_count": 19,
   "metadata": {},
   "outputs": [
    {
     "data": {
      "image/png": "[encoded data removed]",
      "text/plain": [
       "<Figure size 1440x360 with 1 Axes>"
      ]
     },
     "metadata": {
      "needs_background": "light"
     },
     "output_type": "display_data"
    }
   ],
   "source": [
    "plot_bar(data_train, 'inadimplente')"
   ]
  },
  {
   "cell_type": "markdown",
   "metadata": {},
   "source": [
    "2. util_linhas_inseguras\n",
    "---"
   ]
  },
  {
   "cell_type": "code",
   "execution_count": 20,
   "metadata": {},
   "outputs": [
    {
     "data": {
      "text/plain": [
       "0.000000    7983\n",
       "1.000000    7585\n",
       "1.000000      12\n",
       "0.850299       5\n",
       "0.954092       5\n",
       "            ... \n",
       "0.156209       1\n",
       "0.045194       1\n",
       "0.122282       1\n",
       "0.528319       1\n",
       "0.037699       1\n",
       "Name: util_linhas_inseguras, Length: 92671, dtype: int64"
      ]
     },
     "execution_count": 20,
     "metadata": {},
     "output_type": "execute_result"
    }
   ],
   "source": [
    "data_train.util_linhas_inseguras.value_counts()"
   ]
  },
  {
   "cell_type": "code",
   "execution_count": 21,
   "metadata": {},
   "outputs": [
    {
     "data": {
      "image/png": "[encoded data removed]",
      "text/plain": [
       "<Figure size 1080x360 with 1 Axes>"
      ]
     },
     "metadata": {
      "needs_background": "light"
     },
     "output_type": "display_data"
    }
   ],
   "source": [
    "plot_box(data_train, 'util_linhas_inseguras')"
   ]
  },
  {
   "cell_type": "markdown",
   "metadata": {},
   "source": [
    "3. idade\n",
    "---"
   ]
  },
  {
   "cell_type": "code",
   "execution_count": 22,
   "metadata": {},
   "outputs": [
    {
     "data": {
      "text/plain": [
       "48     2794\n",
       "49     2788\n",
       "46     2759\n",
       "47     2718\n",
       "50     2709\n",
       "       ... \n",
       "103       2\n",
       "107       1\n",
       "105       1\n",
       "0         1\n",
       "109       1\n",
       "Name: idade, Length: 86, dtype: int64"
      ]
     },
     "execution_count": 22,
     "metadata": {},
     "output_type": "execute_result"
    }
   ],
   "source": [
    "data_train.idade.value_counts()"
   ]
  },
  {
   "cell_type": "code",
   "execution_count": 23,
   "metadata": {},
   "outputs": [
    {
     "data": {
      "image/png": "[encoded data removed]",
      "text/plain": [
       "<Figure size 1440x360 with 1 Axes>"
      ]
     },
     "metadata": {
      "needs_background": "light"
     },
     "output_type": "display_data"
    }
   ],
   "source": [
    "plot_bar(data_train, 'idade')"
   ]
  },
  {
   "cell_type": "markdown",
   "metadata": {},
   "source": [
    "3. vezes_passou_de_30_59_dias\n",
    "---"
   ]
  },
  {
   "cell_type": "code",
   "execution_count": 24,
   "metadata": {},
   "outputs": [
    {
     "data": {
      "text/plain": [
       "0     92469\n",
       "1     11726\n",
       "2      3343\n",
       "3      1304\n",
       "4       541\n",
       "5       246\n",
       "98      198\n",
       "6        98\n",
       "7        41\n",
       "8        17\n",
       "9         8\n",
       "96        4\n",
       "10        2\n",
       "12        2\n",
       "13        1\n",
       "Name: vezes_passou_de_30_59_dias, dtype: int64"
      ]
     },
     "execution_count": 24,
     "metadata": {},
     "output_type": "execute_result"
    }
   ],
   "source": [
    "data_train.vezes_passou_de_30_59_dias.value_counts()"
   ]
  },
  {
   "cell_type": "code",
   "execution_count": 25,
   "metadata": {},
   "outputs": [
    {
     "data": {
      "image/png": "[encoded data removed]",
      "text/plain": [
       "<Figure size 1440x360 with 1 Axes>"
      ]
     },
     "metadata": {
      "needs_background": "light"
     },
     "output_type": "display_data"
    }
   ],
   "source": [
    "plot_bar(data_train, 'vezes_passou_de_30_59_dias')"
   ]
  },
  {
   "cell_type": "markdown",
   "metadata": {},
   "source": [
    "4. razao_debito\n",
    "---"
   ]
  },
  {
   "cell_type": "code",
   "execution_count": 26,
   "metadata": {},
   "outputs": [
    {
     "data": {
      "text/plain": [
       "0.000000    3030\n",
       "1.000000     171\n",
       "3.000000     130\n",
       "4.000000     124\n",
       "2.000000     114\n",
       "            ... \n",
       "0.307381       1\n",
       "0.460192       1\n",
       "0.731127       1\n",
       "0.310922       1\n",
       "0.002352       1\n",
       "Name: razao_debito, Length: 86002, dtype: int64"
      ]
     },
     "execution_count": 26,
     "metadata": {},
     "output_type": "execute_result"
    }
   ],
   "source": [
    "data_train.razao_debito.value_counts()"
   ]
  },
  {
   "cell_type": "code",
   "execution_count": 27,
   "metadata": {},
   "outputs": [
    {
     "data": {
      "image/png": "[encoded data removed]",
      "text/plain": [
       "<Figure size 1080x360 with 1 Axes>"
      ]
     },
     "metadata": {
      "needs_background": "light"
     },
     "output_type": "display_data"
    }
   ],
   "source": [
    "plot_box(data_train, 'razao_debito')"
   ]
  },
  {
   "cell_type": "markdown",
   "metadata": {},
   "source": [
    "5. salario_mensal\n",
    "---"
   ]
  },
  {
   "cell_type": "code",
   "execution_count": 28,
   "metadata": {},
   "outputs": [
    {
     "data": {
      "text/plain": [
       "0.000000        8404\n",
       "0.333333        5192\n",
       "0.666667        2081\n",
       "5000.000000     2038\n",
       "4000.000000     1608\n",
       "                ... \n",
       "6468.666667        1\n",
       "14226.000000       1\n",
       "16035.000000       1\n",
       "394.000000         1\n",
       "12224.000000       1\n",
       "Name: salario_mensal, Length: 16136, dtype: int64"
      ]
     },
     "execution_count": 28,
     "metadata": {},
     "output_type": "execute_result"
    }
   ],
   "source": [
    "data_train.salario_mensal.value_counts()"
   ]
  },
  {
   "cell_type": "code",
   "execution_count": 29,
   "metadata": {},
   "outputs": [
    {
     "data": {
      "image/png": "[encoded data removed]",
      "text/plain": [
       "<Figure size 1080x360 with 1 Axes>"
      ]
     },
     "metadata": {
      "needs_background": "light"
     },
     "output_type": "display_data"
    }
   ],
   "source": [
    "plot_box(data_train, 'salario_mensal', logscale=False)"
   ]
  },
  {
   "cell_type": "markdown",
   "metadata": {},
   "source": [
    "6. numero_linhas_crdto_aberto\n",
    "---"
   ]
  },
  {
   "cell_type": "code",
   "execution_count": 30,
   "metadata": {},
   "outputs": [
    {
     "data": {
      "text/plain": [
       "6     9988\n",
       "7     9675\n",
       "5     9521\n",
       "8     9171\n",
       "4     8512\n",
       "9     8240\n",
       "10    7095\n",
       "3     6652\n",
       "11    6107\n",
       "12    5122\n",
       "2     4915\n",
       "13    4163\n",
       "14    3373\n",
       "1     3252\n",
       "15    2661\n",
       "16    2173\n",
       "17    1738\n",
       "18    1428\n",
       "0     1419\n",
       "19    1037\n",
       "20     847\n",
       "21     649\n",
       "22     522\n",
       "23     394\n",
       "24     313\n",
       "25     221\n",
       "26     164\n",
       "27     138\n",
       "28     111\n",
       "29      91\n",
       "30      62\n",
       "31      58\n",
       "32      37\n",
       "33      31\n",
       "34      21\n",
       "36      17\n",
       "35      13\n",
       "38      11\n",
       "40       8\n",
       "37       5\n",
       "45       5\n",
       "48       5\n",
       "54       4\n",
       "43       4\n",
       "42       4\n",
       "39       3\n",
       "46       3\n",
       "41       3\n",
       "56       2\n",
       "49       2\n",
       "52       2\n",
       "51       2\n",
       "44       2\n",
       "58       1\n",
       "57       1\n",
       "47       1\n",
       "50       1\n",
       "Name: numero_linhas_crdto_aberto, dtype: int64"
      ]
     },
     "execution_count": 30,
     "metadata": {},
     "output_type": "execute_result"
    }
   ],
   "source": [
    "data_train.numero_linhas_crdto_aberto.value_counts()"
   ]
  },
  {
   "cell_type": "code",
   "execution_count": 31,
   "metadata": {},
   "outputs": [
    {
     "data": {
      "image/png": "[encoded data removed]",
      "text/plain": [
       "<Figure size 1080x360 with 1 Axes>"
      ]
     },
     "metadata": {
      "needs_background": "light"
     },
     "output_type": "display_data"
    }
   ],
   "source": [
    "plot_box(data_train, 'numero_linhas_crdto_aberto')"
   ]
  },
  {
   "cell_type": "markdown",
   "metadata": {},
   "source": [
    "7. numero_vezes_passou_90_dias\n",
    "---"
   ]
  },
  {
   "cell_type": "code",
   "execution_count": 32,
   "metadata": {},
   "outputs": [
    {
     "data": {
      "text/plain": [
       "0     103836\n",
       "1       3886\n",
       "2       1160\n",
       "3        486\n",
       "4        204\n",
       "98       198\n",
       "5        103\n",
       "6         58\n",
       "7         21\n",
       "8         16\n",
       "9         15\n",
       "10         6\n",
       "96         4\n",
       "11         2\n",
       "13         2\n",
       "15         1\n",
       "14         1\n",
       "17         1\n",
       "Name: numero_vezes_passou_90_dias, dtype: int64"
      ]
     },
     "execution_count": 32,
     "metadata": {},
     "output_type": "execute_result"
    }
   ],
   "source": [
    "data_train.numero_vezes_passou_90_dias.value_counts()"
   ]
  },
  {
   "cell_type": "code",
   "execution_count": 33,
   "metadata": {},
   "outputs": [
    {
     "data": {
      "image/png": "[encoded data removed]",
      "text/plain": [
       "<Figure size 1440x360 with 1 Axes>"
      ]
     },
     "metadata": {
      "needs_background": "light"
     },
     "output_type": "display_data"
    }
   ],
   "source": [
    "plot_bar(data_train, 'numero_vezes_passou_90_dias')"
   ]
  },
  {
   "cell_type": "code",
   "execution_count": 34,
   "metadata": {},
   "outputs": [
    {
     "data": {
      "image/png": "[encoded data removed]",
      "text/plain": [
       "<Figure size 1080x360 with 1 Axes>"
      ]
     },
     "metadata": {
      "needs_background": "light"
     },
     "output_type": "display_data"
    }
   ],
   "source": [
    "plot_box(data_train, 'numero_vezes_passou_90_dias')"
   ]
  },
  {
   "cell_type": "markdown",
   "metadata": {},
   "source": [
    "8. numero_emprestimos_imobiliarios\n",
    "---"
   ]
  },
  {
   "cell_type": "code",
   "execution_count": 35,
   "metadata": {},
   "outputs": [
    {
     "data": {
      "text/plain": [
       "0     41159\n",
       "1     38354\n",
       "2     23161\n",
       "3      4644\n",
       "4      1601\n",
       "5       496\n",
       "6       237\n",
       "7       126\n",
       "8        67\n",
       "9        58\n",
       "10       29\n",
       "11       15\n",
       "13       13\n",
       "12       10\n",
       "14        6\n",
       "15        5\n",
       "17        4\n",
       "16        3\n",
       "23        2\n",
       "25        2\n",
       "26        1\n",
       "54        1\n",
       "21        1\n",
       "18        1\n",
       "29        1\n",
       "19        1\n",
       "20        1\n",
       "32        1\n",
       "Name: numero_emprestimos_imobiliarios, dtype: int64"
      ]
     },
     "execution_count": 35,
     "metadata": {},
     "output_type": "execute_result"
    }
   ],
   "source": [
    "data_train.numero_emprestimos_imobiliarios.value_counts()"
   ]
  },
  {
   "cell_type": "code",
   "execution_count": 36,
   "metadata": {},
   "outputs": [
    {
     "data": {
      "image/png": "[encoded data removed]",
      "text/plain": [
       "<Figure size 1440x360 with 1 Axes>"
      ]
     },
     "metadata": {
      "needs_background": "light"
     },
     "output_type": "display_data"
    }
   ],
   "source": [
    "plot_bar(data_train, 'numero_emprestimos_imobiliarios')"
   ]
  },
  {
   "cell_type": "code",
   "execution_count": 37,
   "metadata": {},
   "outputs": [
    {
     "data": {
      "image/png": "[encoded data removed]",
      "text/plain": [
       "<Figure size 1080x360 with 1 Axes>"
      ]
     },
     "metadata": {
      "needs_background": "light"
     },
     "output_type": "display_data"
    }
   ],
   "source": [
    "plot_box(data_train, 'numero_emprestimos_imobiliarios')"
   ]
  },
  {
   "cell_type": "markdown",
   "metadata": {},
   "source": [
    "9. numero_de_vezes_que_passou_60_89_dias\n",
    "---"
   ]
  },
  {
   "cell_type": "code",
   "execution_count": 38,
   "metadata": {},
   "outputs": [
    {
     "data": {
      "text/plain": [
       "0     104466\n",
       "1       4169\n",
       "2        825\n",
       "3        222\n",
       "98       198\n",
       "4         67\n",
       "5         26\n",
       "6         12\n",
       "7          7\n",
       "96         4\n",
       "8          2\n",
       "11         1\n",
       "9          1\n",
       "Name: numero_de_vezes_que_passou_60_89_dias, dtype: int64"
      ]
     },
     "execution_count": 38,
     "metadata": {},
     "output_type": "execute_result"
    }
   ],
   "source": [
    "data_train.numero_de_vezes_que_passou_60_89_dias.value_counts()"
   ]
  },
  {
   "cell_type": "code",
   "execution_count": 39,
   "metadata": {},
   "outputs": [
    {
     "data": {
      "image/png": "[encoded data removed]",
      "text/plain": [
       "<Figure size 1440x360 with 1 Axes>"
      ]
     },
     "metadata": {
      "needs_background": "light"
     },
     "output_type": "display_data"
    }
   ],
   "source": [
    "plot_bar(data_train, 'numero_de_vezes_que_passou_60_89_dias')"
   ]
  },
  {
   "cell_type": "code",
   "execution_count": 40,
   "metadata": {},
   "outputs": [
    {
     "data": {
      "image/png": "[encoded data removed]",
      "text/plain": [
       "<Figure size 1080x360 with 1 Axes>"
      ]
     },
     "metadata": {
      "needs_background": "light"
     },
     "output_type": "display_data"
    }
   ],
   "source": [
    "plot_box(data_train, 'numero_de_vezes_que_passou_60_89_dias')"
   ]
  },
  {
   "cell_type": "markdown",
   "metadata": {},
   "source": [
    "10. numero_de_dependentes\n",
    "---"
   ]
  },
  {
   "cell_type": "code",
   "execution_count": 41,
   "metadata": {},
   "outputs": [
    {
     "data": {
      "text/plain": [
       "0.0     66530\n",
       "1.0     19416\n",
       "2.0     14306\n",
       "3.0      6898\n",
       "4.0      2111\n",
       "5.0       563\n",
       "6.0       115\n",
       "7.0        38\n",
       "8.0        16\n",
       "10.0        4\n",
       "9.0         2\n",
       "20.0        1\n",
       "Name: numero_de_dependentes, dtype: int64"
      ]
     },
     "execution_count": 41,
     "metadata": {},
     "output_type": "execute_result"
    }
   ],
   "source": [
    "data_train.numero_de_dependentes.value_counts()"
   ]
  },
  {
   "cell_type": "code",
   "execution_count": 42,
   "metadata": {},
   "outputs": [
    {
     "data": {
      "image/png": "[encoded data removed]",
      "text/plain": [
       "<Figure size 1440x360 with 1 Axes>"
      ]
     },
     "metadata": {
      "needs_background": "light"
     },
     "output_type": "display_data"
    }
   ],
   "source": [
    "plot_bar(data_train, 'numero_de_dependentes')"
   ]
  },
  {
   "cell_type": "markdown",
   "metadata": {},
   "source": [
    "---\n",
    "## Matriz de Correlação\n",
    "---"
   ]
  },
  {
   "cell_type": "code",
   "execution_count": 43,
   "metadata": {},
   "outputs": [
    {
     "data": {
      "text/html": [
       "<div>\n",
       "<style scoped>\n",
       "    .dataframe tbody tr th:only-of-type {\n",
       "        vertical-align: middle;\n",
       "    }\n",
       "\n",
       "    .dataframe tbody tr th {\n",
       "        vertical-align: top;\n",
       "    }\n",
       "\n",
       "    .dataframe thead th {\n",
       "        text-align: right;\n",
       "    }\n",
       "</style>\n",
       "<table border=\"1\" class=\"dataframe\">\n",
       "  <thead>\n",
       "    <tr style=\"text-align: right;\">\n",
       "      <th></th>\n",
       "      <th>cliente</th>\n",
       "      <th>inadimplente</th>\n",
       "      <th>util_linhas_inseguras</th>\n",
       "      <th>idade</th>\n",
       "      <th>vezes_passou_de_30_59_dias</th>\n",
       "      <th>razao_debito</th>\n",
       "      <th>salario_mensal</th>\n",
       "      <th>numero_linhas_crdto_aberto</th>\n",
       "      <th>numero_vezes_passou_90_dias</th>\n",
       "      <th>numero_emprestimos_imobiliarios</th>\n",
       "      <th>numero_de_vezes_que_passou_60_89_dias</th>\n",
       "      <th>numero_de_dependentes</th>\n",
       "    </tr>\n",
       "  </thead>\n",
       "  <tbody>\n",
       "    <tr>\n",
       "      <th>cliente</th>\n",
       "      <td>1.000000</td>\n",
       "      <td>0.001944</td>\n",
       "      <td>0.002623</td>\n",
       "      <td>0.002049</td>\n",
       "      <td>0.000015</td>\n",
       "      <td>-0.002968</td>\n",
       "      <td>0.002158</td>\n",
       "      <td>0.005613</td>\n",
       "      <td>-0.000349</td>\n",
       "      <td>0.002563</td>\n",
       "      <td>-0.000087</td>\n",
       "      <td>-0.000388</td>\n",
       "    </tr>\n",
       "    <tr>\n",
       "      <th>inadimplente</th>\n",
       "      <td>0.001944</td>\n",
       "      <td>1.000000</td>\n",
       "      <td>-0.003263</td>\n",
       "      <td>-0.114281</td>\n",
       "      <td>0.124546</td>\n",
       "      <td>-0.006534</td>\n",
       "      <td>-0.015905</td>\n",
       "      <td>-0.029332</td>\n",
       "      <td>0.116023</td>\n",
       "      <td>-0.008144</td>\n",
       "      <td>0.101536</td>\n",
       "      <td>0.043913</td>\n",
       "    </tr>\n",
       "    <tr>\n",
       "      <th>util_linhas_inseguras</th>\n",
       "      <td>0.002623</td>\n",
       "      <td>-0.003263</td>\n",
       "      <td>1.000000</td>\n",
       "      <td>-0.004444</td>\n",
       "      <td>-0.001336</td>\n",
       "      <td>0.001255</td>\n",
       "      <td>0.009390</td>\n",
       "      <td>-0.010120</td>\n",
       "      <td>-0.001154</td>\n",
       "      <td>0.007590</td>\n",
       "      <td>-0.001105</td>\n",
       "      <td>-0.001467</td>\n",
       "    </tr>\n",
       "    <tr>\n",
       "      <th>idade</th>\n",
       "      <td>0.002049</td>\n",
       "      <td>-0.114281</td>\n",
       "      <td>-0.004444</td>\n",
       "      <td>1.000000</td>\n",
       "      <td>-0.063230</td>\n",
       "      <td>0.025221</td>\n",
       "      <td>0.022511</td>\n",
       "      <td>0.148640</td>\n",
       "      <td>-0.061371</td>\n",
       "      <td>0.032920</td>\n",
       "      <td>-0.057604</td>\n",
       "      <td>-0.214781</td>\n",
       "    </tr>\n",
       "    <tr>\n",
       "      <th>vezes_passou_de_30_59_dias</th>\n",
       "      <td>0.000015</td>\n",
       "      <td>0.124546</td>\n",
       "      <td>-0.001336</td>\n",
       "      <td>-0.063230</td>\n",
       "      <td>1.000000</td>\n",
       "      <td>-0.006860</td>\n",
       "      <td>-0.006923</td>\n",
       "      <td>-0.056347</td>\n",
       "      <td>0.984157</td>\n",
       "      <td>-0.031093</td>\n",
       "      <td>0.987377</td>\n",
       "      <td>-0.005225</td>\n",
       "    </tr>\n",
       "    <tr>\n",
       "      <th>razao_debito</th>\n",
       "      <td>-0.002968</td>\n",
       "      <td>-0.006534</td>\n",
       "      <td>0.001255</td>\n",
       "      <td>0.025221</td>\n",
       "      <td>-0.006860</td>\n",
       "      <td>1.000000</td>\n",
       "      <td>-0.077937</td>\n",
       "      <td>0.047158</td>\n",
       "      <td>-0.008344</td>\n",
       "      <td>0.117054</td>\n",
       "      <td>-0.007558</td>\n",
       "      <td>-0.045567</td>\n",
       "    </tr>\n",
       "    <tr>\n",
       "      <th>salario_mensal</th>\n",
       "      <td>0.002158</td>\n",
       "      <td>-0.015905</td>\n",
       "      <td>0.009390</td>\n",
       "      <td>0.022511</td>\n",
       "      <td>-0.006923</td>\n",
       "      <td>-0.077937</td>\n",
       "      <td>1.000000</td>\n",
       "      <td>0.089603</td>\n",
       "      <td>-0.009429</td>\n",
       "      <td>0.109698</td>\n",
       "      <td>-0.008452</td>\n",
       "      <td>0.089677</td>\n",
       "    </tr>\n",
       "    <tr>\n",
       "      <th>numero_linhas_crdto_aberto</th>\n",
       "      <td>0.005613</td>\n",
       "      <td>-0.029332</td>\n",
       "      <td>-0.010120</td>\n",
       "      <td>0.148640</td>\n",
       "      <td>-0.056347</td>\n",
       "      <td>0.047158</td>\n",
       "      <td>0.089603</td>\n",
       "      <td>1.000000</td>\n",
       "      <td>-0.080873</td>\n",
       "      <td>0.433337</td>\n",
       "      <td>-0.071979</td>\n",
       "      <td>0.074057</td>\n",
       "    </tr>\n",
       "    <tr>\n",
       "      <th>numero_vezes_passou_90_dias</th>\n",
       "      <td>-0.000349</td>\n",
       "      <td>0.116023</td>\n",
       "      <td>-0.001154</td>\n",
       "      <td>-0.061371</td>\n",
       "      <td>0.984157</td>\n",
       "      <td>-0.008344</td>\n",
       "      <td>-0.009429</td>\n",
       "      <td>-0.080873</td>\n",
       "      <td>1.000000</td>\n",
       "      <td>-0.045902</td>\n",
       "      <td>0.993162</td>\n",
       "      <td>-0.012903</td>\n",
       "    </tr>\n",
       "    <tr>\n",
       "      <th>numero_emprestimos_imobiliarios</th>\n",
       "      <td>0.002563</td>\n",
       "      <td>-0.008144</td>\n",
       "      <td>0.007590</td>\n",
       "      <td>0.032920</td>\n",
       "      <td>-0.031093</td>\n",
       "      <td>0.117054</td>\n",
       "      <td>0.109698</td>\n",
       "      <td>0.433337</td>\n",
       "      <td>-0.045902</td>\n",
       "      <td>1.000000</td>\n",
       "      <td>-0.039987</td>\n",
       "      <td>0.127292</td>\n",
       "    </tr>\n",
       "    <tr>\n",
       "      <th>numero_de_vezes_que_passou_60_89_dias</th>\n",
       "      <td>-0.000087</td>\n",
       "      <td>0.101536</td>\n",
       "      <td>-0.001105</td>\n",
       "      <td>-0.057604</td>\n",
       "      <td>0.987377</td>\n",
       "      <td>-0.007558</td>\n",
       "      <td>-0.008452</td>\n",
       "      <td>-0.071979</td>\n",
       "      <td>0.993162</td>\n",
       "      <td>-0.039987</td>\n",
       "      <td>1.000000</td>\n",
       "      <td>-0.013497</td>\n",
       "    </tr>\n",
       "    <tr>\n",
       "      <th>numero_de_dependentes</th>\n",
       "      <td>-0.000388</td>\n",
       "      <td>0.043913</td>\n",
       "      <td>-0.001467</td>\n",
       "      <td>-0.214781</td>\n",
       "      <td>-0.005225</td>\n",
       "      <td>-0.045567</td>\n",
       "      <td>0.089677</td>\n",
       "      <td>0.074057</td>\n",
       "      <td>-0.012903</td>\n",
       "      <td>0.127292</td>\n",
       "      <td>-0.013497</td>\n",
       "      <td>1.000000</td>\n",
       "    </tr>\n",
       "  </tbody>\n",
       "</table>\n",
       "</div>"
      ],
      "text/plain": [
       "                                        cliente  inadimplente  \\\n",
       "cliente                                1.000000      0.001944   \n",
       "inadimplente                           0.001944      1.000000   \n",
       "util_linhas_inseguras                  0.002623     -0.003263   \n",
       "idade                                  0.002049     -0.114281   \n",
       "vezes_passou_de_30_59_dias             0.000015      0.124546   \n",
       "razao_debito                          -0.002968     -0.006534   \n",
       "salario_mensal                         0.002158     -0.015905   \n",
       "numero_linhas_crdto_aberto             0.005613     -0.029332   \n",
       "numero_vezes_passou_90_dias           -0.000349      0.116023   \n",
       "numero_emprestimos_imobiliarios        0.002563     -0.008144   \n",
       "numero_de_vezes_que_passou_60_89_dias -0.000087      0.101536   \n",
       "numero_de_dependentes                 -0.000388      0.043913   \n",
       "\n",
       "                                       util_linhas_inseguras     idade  \\\n",
       "cliente                                             0.002623  0.002049   \n",
       "inadimplente                                       -0.003263 -0.114281   \n",
       "util_linhas_inseguras                               1.000000 -0.004444   \n",
       "idade                                              -0.004444  1.000000   \n",
       "vezes_passou_de_30_59_dias                         -0.001336 -0.063230   \n",
       "razao_debito                                        0.001255  0.025221   \n",
       "salario_mensal                                      0.009390  0.022511   \n",
       "numero_linhas_crdto_aberto                         -0.010120  0.148640   \n",
       "numero_vezes_passou_90_dias                        -0.001154 -0.061371   \n",
       "numero_emprestimos_imobiliarios                     0.007590  0.032920   \n",
       "numero_de_vezes_que_passou_60_89_dias              -0.001105 -0.057604   \n",
       "numero_de_dependentes                              -0.001467 -0.214781   \n",
       "\n",
       "                                       vezes_passou_de_30_59_dias  \\\n",
       "cliente                                                  0.000015   \n",
       "inadimplente                                             0.124546   \n",
       "util_linhas_inseguras                                   -0.001336   \n",
       "idade                                                   -0.063230   \n",
       "vezes_passou_de_30_59_dias                               1.000000   \n",
       "razao_debito                                            -0.006860   \n",
       "salario_mensal                                          -0.006923   \n",
       "numero_linhas_crdto_aberto                              -0.056347   \n",
       "numero_vezes_passou_90_dias                              0.984157   \n",
       "numero_emprestimos_imobiliarios                         -0.031093   \n",
       "numero_de_vezes_que_passou_60_89_dias                    0.987377   \n",
       "numero_de_dependentes                                   -0.005225   \n",
       "\n",
       "                                       razao_debito  salario_mensal  \\\n",
       "cliente                                   -0.002968        0.002158   \n",
       "inadimplente                              -0.006534       -0.015905   \n",
       "util_linhas_inseguras                      0.001255        0.009390   \n",
       "idade                                      0.025221        0.022511   \n",
       "vezes_passou_de_30_59_dias                -0.006860       -0.006923   \n",
       "razao_debito                               1.000000       -0.077937   \n",
       "salario_mensal                            -0.077937        1.000000   \n",
       "numero_linhas_crdto_aberto                 0.047158        0.089603   \n",
       "numero_vezes_passou_90_dias               -0.008344       -0.009429   \n",
       "numero_emprestimos_imobiliarios            0.117054        0.109698   \n",
       "numero_de_vezes_que_passou_60_89_dias     -0.007558       -0.008452   \n",
       "numero_de_dependentes                     -0.045567        0.089677   \n",
       "\n",
       "                                       numero_linhas_crdto_aberto  \\\n",
       "cliente                                                  0.005613   \n",
       "inadimplente                                            -0.029332   \n",
       "util_linhas_inseguras                                   -0.010120   \n",
       "idade                                                    0.148640   \n",
       "vezes_passou_de_30_59_dias                              -0.056347   \n",
       "razao_debito                                             0.047158   \n",
       "salario_mensal                                           0.089603   \n",
       "numero_linhas_crdto_aberto                               1.000000   \n",
       "numero_vezes_passou_90_dias                             -0.080873   \n",
       "numero_emprestimos_imobiliarios                          0.433337   \n",
       "numero_de_vezes_que_passou_60_89_dias                   -0.071979   \n",
       "numero_de_dependentes                                    0.074057   \n",
       "\n",
       "                                       numero_vezes_passou_90_dias  \\\n",
       "cliente                                                  -0.000349   \n",
       "inadimplente                                              0.116023   \n",
       "util_linhas_inseguras                                    -0.001154   \n",
       "idade                                                    -0.061371   \n",
       "vezes_passou_de_30_59_dias                                0.984157   \n",
       "razao_debito                                             -0.008344   \n",
       "salario_mensal                                           -0.009429   \n",
       "numero_linhas_crdto_aberto                               -0.080873   \n",
       "numero_vezes_passou_90_dias                               1.000000   \n",
       "numero_emprestimos_imobiliarios                          -0.045902   \n",
       "numero_de_vezes_que_passou_60_89_dias                     0.993162   \n",
       "numero_de_dependentes                                    -0.012903   \n",
       "\n",
       "                                       numero_emprestimos_imobiliarios  \\\n",
       "cliente                                                       0.002563   \n",
       "inadimplente                                                 -0.008144   \n",
       "util_linhas_inseguras                                         0.007590   \n",
       "idade                                                         0.032920   \n",
       "vezes_passou_de_30_59_dias                                   -0.031093   \n",
       "razao_debito                                                  0.117054   \n",
       "salario_mensal                                                0.109698   \n",
       "numero_linhas_crdto_aberto                                    0.433337   \n",
       "numero_vezes_passou_90_dias                                  -0.045902   \n",
       "numero_emprestimos_imobiliarios                               1.000000   \n",
       "numero_de_vezes_que_passou_60_89_dias                        -0.039987   \n",
       "numero_de_dependentes                                         0.127292   \n",
       "\n",
       "                                       numero_de_vezes_que_passou_60_89_dias  \\\n",
       "cliente                                                            -0.000087   \n",
       "inadimplente                                                        0.101536   \n",
       "util_linhas_inseguras                                              -0.001105   \n",
       "idade                                                              -0.057604   \n",
       "vezes_passou_de_30_59_dias                                          0.987377   \n",
       "razao_debito                                                       -0.007558   \n",
       "salario_mensal                                                     -0.008452   \n",
       "numero_linhas_crdto_aberto                                         -0.071979   \n",
       "numero_vezes_passou_90_dias                                         0.993162   \n",
       "numero_emprestimos_imobiliarios                                    -0.039987   \n",
       "numero_de_vezes_que_passou_60_89_dias                               1.000000   \n",
       "numero_de_dependentes                                              -0.013497   \n",
       "\n",
       "                                       numero_de_dependentes  \n",
       "cliente                                            -0.000388  \n",
       "inadimplente                                        0.043913  \n",
       "util_linhas_inseguras                              -0.001467  \n",
       "idade                                              -0.214781  \n",
       "vezes_passou_de_30_59_dias                         -0.005225  \n",
       "razao_debito                                       -0.045567  \n",
       "salario_mensal                                      0.089677  \n",
       "numero_linhas_crdto_aberto                          0.074057  \n",
       "numero_vezes_passou_90_dias                        -0.012903  \n",
       "numero_emprestimos_imobiliarios                     0.127292  \n",
       "numero_de_vezes_que_passou_60_89_dias              -0.013497  \n",
       "numero_de_dependentes                               1.000000  "
      ]
     },
     "execution_count": 43,
     "metadata": {},
     "output_type": "execute_result"
    }
   ],
   "source": [
    "corr_matrix = data_train.corr()\n",
    "corr_matrix"
   ]
  },
  {
   "cell_type": "code",
   "execution_count": 44,
   "metadata": {},
   "outputs": [
    {
     "data": {
      "image/png": "[encoded data removed]",
      "text/plain": [
       "<Figure size 720x576 with 2 Axes>"
      ]
     },
     "metadata": {
      "needs_background": "light"
     },
     "output_type": "display_data"
    }
   ],
   "source": [
    "# melhor visualização\n",
    "f = plt.figure(figsize=(10, 8))\n",
    "plt.matshow(corr_matrix, fignum=f.number)\n",
    "plt.xticks(range(data_train.shape[1]), data_train.columns, fontsize=8, rotation=80)\n",
    "plt.yticks(range(data_train.shape[1]), data_train.columns, fontsize=8)\n",
    "colorbar = plt.colorbar()\n",
    "plt.show()"
   ]
  },
  {
   "cell_type": "code",
   "execution_count": 45,
   "metadata": {},
   "outputs": [
    {
     "data": {
      "text/plain": [
       "vezes_passou_de_30_59_dias               2\n",
       "numero_vezes_passou_90_dias              2\n",
       "numero_de_vezes_que_passou_60_89_dias    2\n",
       "dtype: int64"
      ]
     },
     "execution_count": 45,
     "metadata": {},
     "output_type": "execute_result"
    }
   ],
   "source": [
    "# verifica se há colunas com valor de correlação maior do que 0.8 em módulo\n",
    "corr_aux = ((data_train.corr() > abs(0.8)) & (data_train.corr() != 1)).sum()\n",
    "\n",
    "corr_aux[corr_aux > 0]"
   ]
  },
  {
   "cell_type": "code",
   "execution_count": 46,
   "metadata": {},
   "outputs": [],
   "source": [
    "# retorna as colunas e suas respectivas correlações em relação à coluna de entrada\n",
    "def return_high_corr (feature):\n",
    "    return corr_matrix.loc[feature][corr_matrix.loc[feature] > abs(0.8)]"
   ]
  },
  {
   "cell_type": "code",
   "execution_count": 47,
   "metadata": {},
   "outputs": [
    {
     "data": {
      "text/plain": [
       "vezes_passou_de_30_59_dias               1.000000\n",
       "numero_vezes_passou_90_dias              0.984157\n",
       "numero_de_vezes_que_passou_60_89_dias    0.987377\n",
       "Name: vezes_passou_de_30_59_dias, dtype: float64"
      ]
     },
     "execution_count": 47,
     "metadata": {},
     "output_type": "execute_result"
    }
   ],
   "source": [
    "return_high_corr('vezes_passou_de_30_59_dias')"
   ]
  },
  {
   "cell_type": "code",
   "execution_count": 48,
   "metadata": {},
   "outputs": [
    {
     "data": {
      "text/plain": [
       "vezes_passou_de_30_59_dias               0.984157\n",
       "numero_vezes_passou_90_dias              1.000000\n",
       "numero_de_vezes_que_passou_60_89_dias    0.993162\n",
       "Name: numero_vezes_passou_90_dias, dtype: float64"
      ]
     },
     "execution_count": 48,
     "metadata": {},
     "output_type": "execute_result"
    }
   ],
   "source": [
    "return_high_corr('numero_vezes_passou_90_dias')"
   ]
  },
  {
   "cell_type": "code",
   "execution_count": 49,
   "metadata": {},
   "outputs": [
    {
     "data": {
      "text/plain": [
       "vezes_passou_de_30_59_dias               0.987377\n",
       "numero_vezes_passou_90_dias              0.993162\n",
       "numero_de_vezes_que_passou_60_89_dias    1.000000\n",
       "Name: numero_de_vezes_que_passou_60_89_dias, dtype: float64"
      ]
     },
     "execution_count": 49,
     "metadata": {},
     "output_type": "execute_result"
    }
   ],
   "source": [
    "return_high_corr('numero_de_vezes_que_passou_60_89_dias')"
   ]
  },
  {
   "cell_type": "markdown",
   "metadata": {},
   "source": [
    "#### Sugestão de remoção devido à alta correlação:"
   ]
  },
  {
   "cell_type": "code",
   "execution_count": 50,
   "metadata": {},
   "outputs": [],
   "source": [
    "drop_features = []\n",
    "drop_features.extend(['numero_de_vezes_que_passou_60_89_dias', 'numero_vezes_passou_90_dias'])"
   ]
  },
  {
   "cell_type": "code",
   "execution_count": 51,
   "metadata": {},
   "outputs": [],
   "source": [
    "# remove as colunas com alta correlação, conforme acima\n",
    "data_train = data_train.drop(columns=drop_features)\n",
    "data_val = data_val.drop(columns=drop_features)"
   ]
  },
  {
   "cell_type": "markdown",
   "metadata": {},
   "source": [
    "---\n",
    "## Separando em Treino e Teste\n",
    "---"
   ]
  },
  {
   "cell_type": "code",
   "execution_count": 52,
   "metadata": {},
   "outputs": [],
   "source": [
    "X = data_train.drop(columns='inadimplente')"
   ]
  },
  {
   "cell_type": "code",
   "execution_count": 53,
   "metadata": {},
   "outputs": [],
   "source": [
    "# Separando data_train em treino e teste\n",
    "y = data_train['inadimplente']"
   ]
  },
  {
   "cell_type": "code",
   "execution_count": 54,
   "metadata": {},
   "outputs": [],
   "source": [
    "X_train, X_test, y_train, y_test = train_test_split(X, y, test_size=0.3, random_state=42, stratify=y)"
   ]
  },
  {
   "cell_type": "markdown",
   "metadata": {},
   "source": [
    "---\n",
    "## Testando Modelos\n",
    "---"
   ]
  },
  {
   "cell_type": "code",
   "execution_count": 55,
   "metadata": {},
   "outputs": [],
   "source": [
    "random_state = 42"
   ]
  },
  {
   "cell_type": "code",
   "execution_count": 56,
   "metadata": {},
   "outputs": [],
   "source": [
    "# primeiros modelos a serem analisados\n",
    "models = {\n",
    "    \"Decision Tree\": DecisionTreeClassifier(random_state=random_state),\n",
    "    \"Random Forest\": RandomForestClassifier(random_state=random_state),\n",
    "    \"Xgboost\": xgb.XGBClassifier(random_state=random_state, use_label_encoder=False),\n",
    "    \"Lightgbm\": lgb.LGBMClassifier(random_state=random_state)\n",
    "}\n",
    "\n",
    "# métricas que serão avaliadas\n",
    "scores = {\n",
    "    \"recall\": \"recall\",\n",
    "    \"precision\": \"precision\",\n",
    "    \"f1\": \"f1\",\n",
    "    \"accuracy\": \"balanced_accuracy\",\n",
    "}"
   ]
  },
  {
   "cell_type": "code",
   "execution_count": 57,
   "metadata": {},
   "outputs": [
    {
     "name": "stdout",
     "output_type": "stream",
     "text": [
      "[13:05:55] WARNING: /home/conda/feedstock_root/build_artifacts/xgboost-split_1643226942235/work/src/learner.cc:1115: Starting in XGBoost 1.3.0, the default evaluation metric used with the objective 'binary:logistic' was changed from 'error' to 'logloss'. Explicitly set eval_metric if you'd like to restore the old behavior.\n",
      "[13:05:59] WARNING: /home/conda/feedstock_root/build_artifacts/xgboost-split_1643226942235/work/src/learner.cc:1115: Starting in XGBoost 1.3.0, the default evaluation metric used with the objective 'binary:logistic' was changed from 'error' to 'logloss'. Explicitly set eval_metric if you'd like to restore the old behavior.\n",
      "[13:06:03] WARNING: /home/conda/feedstock_root/build_artifacts/xgboost-split_1643226942235/work/src/learner.cc:1115: Starting in XGBoost 1.3.0, the default evaluation metric used with the objective 'binary:logistic' was changed from 'error' to 'logloss'. Explicitly set eval_metric if you'd like to restore the old behavior.\n",
      "[13:06:07] WARNING: /home/conda/feedstock_root/build_artifacts/xgboost-split_1643226942235/work/src/learner.cc:1115: Starting in XGBoost 1.3.0, the default evaluation metric used with the objective 'binary:logistic' was changed from 'error' to 'logloss'. Explicitly set eval_metric if you'd like to restore the old behavior.\n",
      "[13:06:11] WARNING: /home/conda/feedstock_root/build_artifacts/xgboost-split_1643226942235/work/src/learner.cc:1115: Starting in XGBoost 1.3.0, the default evaluation metric used with the objective 'binary:logistic' was changed from 'error' to 'logloss'. Explicitly set eval_metric if you'd like to restore the old behavior.\n"
     ]
    }
   ],
   "source": [
    "# resultado das métricas, para cada modelo\n",
    "dic_metrics = {}\n",
    "\n",
    "for model_name, model in models.items():\n",
    "    clf = model\n",
    "    if model_name == 'Xgboost':\n",
    "        clf.fit(X_train, y_train, eval_metric='logloss')\n",
    "    else:\n",
    "        clf.fit(X_train, y_train)\n",
    "    resultados = cross_validate(model, X_train, y_train, scoring=scores, cv=5)\n",
    "    dic_metrics[model_name] = resultados"
   ]
  },
  {
   "cell_type": "code",
   "execution_count": 58,
   "metadata": {},
   "outputs": [
    {
     "data": {
      "text/html": [
       "<div>\n",
       "<style scoped>\n",
       "    .dataframe tbody tr th:only-of-type {\n",
       "        vertical-align: middle;\n",
       "    }\n",
       "\n",
       "    .dataframe tbody tr th {\n",
       "        vertical-align: top;\n",
       "    }\n",
       "\n",
       "    .dataframe thead tr th {\n",
       "        text-align: left;\n",
       "    }\n",
       "</style>\n",
       "<table border=\"1\" class=\"dataframe\">\n",
       "  <thead>\n",
       "    <tr>\n",
       "      <th></th>\n",
       "      <th colspan=\"6\" halign=\"left\">Decision Tree</th>\n",
       "      <th colspan=\"6\" halign=\"left\">Random Forest</th>\n",
       "      <th colspan=\"6\" halign=\"left\">Xgboost</th>\n",
       "      <th colspan=\"6\" halign=\"left\">Lightgbm</th>\n",
       "    </tr>\n",
       "    <tr>\n",
       "      <th></th>\n",
       "      <th>fit_time</th>\n",
       "      <th>score_time</th>\n",
       "      <th>test_recall</th>\n",
       "      <th>test_precision</th>\n",
       "      <th>test_f1</th>\n",
       "      <th>test_accuracy</th>\n",
       "      <th>fit_time</th>\n",
       "      <th>score_time</th>\n",
       "      <th>test_recall</th>\n",
       "      <th>test_precision</th>\n",
       "      <th>test_f1</th>\n",
       "      <th>test_accuracy</th>\n",
       "      <th>fit_time</th>\n",
       "      <th>score_time</th>\n",
       "      <th>test_recall</th>\n",
       "      <th>test_precision</th>\n",
       "      <th>test_f1</th>\n",
       "      <th>test_accuracy</th>\n",
       "      <th>fit_time</th>\n",
       "      <th>score_time</th>\n",
       "      <th>test_recall</th>\n",
       "      <th>test_precision</th>\n",
       "      <th>test_f1</th>\n",
       "      <th>test_accuracy</th>\n",
       "    </tr>\n",
       "  </thead>\n",
       "  <tbody>\n",
       "    <tr>\n",
       "      <th>0</th>\n",
       "      <td>0.510499</td>\n",
       "      <td>0.016633</td>\n",
       "      <td>0.246589</td>\n",
       "      <td>0.217916</td>\n",
       "      <td>0.231367</td>\n",
       "      <td>0.591710</td>\n",
       "      <td>9.154706</td>\n",
       "      <td>0.231853</td>\n",
       "      <td>0.101365</td>\n",
       "      <td>0.574586</td>\n",
       "      <td>0.172328</td>\n",
       "      <td>0.548004</td>\n",
       "      <td>3.881151</td>\n",
       "      <td>0.044295</td>\n",
       "      <td>0.113060</td>\n",
       "      <td>0.511013</td>\n",
       "      <td>0.185156</td>\n",
       "      <td>0.552669</td>\n",
       "      <td>0.303552</td>\n",
       "      <td>0.055907</td>\n",
       "      <td>0.098441</td>\n",
       "      <td>0.587209</td>\n",
       "      <td>0.168614</td>\n",
       "      <td>0.546751</td>\n",
       "    </tr>\n",
       "    <tr>\n",
       "      <th>1</th>\n",
       "      <td>0.437166</td>\n",
       "      <td>0.016030</td>\n",
       "      <td>0.225146</td>\n",
       "      <td>0.196931</td>\n",
       "      <td>0.210095</td>\n",
       "      <td>0.579806</td>\n",
       "      <td>9.092748</td>\n",
       "      <td>0.237216</td>\n",
       "      <td>0.094542</td>\n",
       "      <td>0.541899</td>\n",
       "      <td>0.160996</td>\n",
       "      <td>0.544419</td>\n",
       "      <td>4.169810</td>\n",
       "      <td>0.041484</td>\n",
       "      <td>0.102339</td>\n",
       "      <td>0.495283</td>\n",
       "      <td>0.169628</td>\n",
       "      <td>0.547448</td>\n",
       "      <td>0.338884</td>\n",
       "      <td>0.052754</td>\n",
       "      <td>0.089669</td>\n",
       "      <td>0.589744</td>\n",
       "      <td>0.155668</td>\n",
       "      <td>0.542608</td>\n",
       "    </tr>\n",
       "    <tr>\n",
       "      <th>2</th>\n",
       "      <td>0.470155</td>\n",
       "      <td>0.016496</td>\n",
       "      <td>0.216374</td>\n",
       "      <td>0.198569</td>\n",
       "      <td>0.207090</td>\n",
       "      <td>0.577020</td>\n",
       "      <td>9.040543</td>\n",
       "      <td>0.234293</td>\n",
       "      <td>0.098441</td>\n",
       "      <td>0.463303</td>\n",
       "      <td>0.162379</td>\n",
       "      <td>0.545150</td>\n",
       "      <td>3.901934</td>\n",
       "      <td>0.041414</td>\n",
       "      <td>0.101365</td>\n",
       "      <td>0.435146</td>\n",
       "      <td>0.164427</td>\n",
       "      <td>0.545986</td>\n",
       "      <td>0.311878</td>\n",
       "      <td>0.049751</td>\n",
       "      <td>0.092593</td>\n",
       "      <td>0.505319</td>\n",
       "      <td>0.156507</td>\n",
       "      <td>0.543061</td>\n",
       "    </tr>\n",
       "    <tr>\n",
       "      <th>3</th>\n",
       "      <td>0.442597</td>\n",
       "      <td>0.015564</td>\n",
       "      <td>0.246349</td>\n",
       "      <td>0.218858</td>\n",
       "      <td>0.231791</td>\n",
       "      <td>0.591761</td>\n",
       "      <td>9.142363</td>\n",
       "      <td>0.237384</td>\n",
       "      <td>0.097371</td>\n",
       "      <td>0.531915</td>\n",
       "      <td>0.164609</td>\n",
       "      <td>0.545624</td>\n",
       "      <td>3.857072</td>\n",
       "      <td>0.042073</td>\n",
       "      <td>0.111003</td>\n",
       "      <td>0.525346</td>\n",
       "      <td>0.183280</td>\n",
       "      <td>0.551918</td>\n",
       "      <td>0.407338</td>\n",
       "      <td>0.049508</td>\n",
       "      <td>0.092502</td>\n",
       "      <td>0.539773</td>\n",
       "      <td>0.157938</td>\n",
       "      <td>0.543433</td>\n",
       "    </tr>\n",
       "    <tr>\n",
       "      <th>4</th>\n",
       "      <td>0.438604</td>\n",
       "      <td>0.017018</td>\n",
       "      <td>0.219085</td>\n",
       "      <td>0.200535</td>\n",
       "      <td>0.209400</td>\n",
       "      <td>0.578338</td>\n",
       "      <td>9.005093</td>\n",
       "      <td>0.235156</td>\n",
       "      <td>0.098345</td>\n",
       "      <td>0.540107</td>\n",
       "      <td>0.166392</td>\n",
       "      <td>0.546181</td>\n",
       "      <td>3.680553</td>\n",
       "      <td>0.046030</td>\n",
       "      <td>0.090555</td>\n",
       "      <td>0.453659</td>\n",
       "      <td>0.150974</td>\n",
       "      <td>0.541381</td>\n",
       "      <td>0.344806</td>\n",
       "      <td>0.045738</td>\n",
       "      <td>0.081792</td>\n",
       "      <td>0.521739</td>\n",
       "      <td>0.141414</td>\n",
       "      <td>0.538217</td>\n",
       "    </tr>\n",
       "    <tr>\n",
       "      <th>Media</th>\n",
       "      <td>0.459804</td>\n",
       "      <td>0.016348</td>\n",
       "      <td>0.230708</td>\n",
       "      <td>0.206562</td>\n",
       "      <td>0.217949</td>\n",
       "      <td>0.583727</td>\n",
       "      <td>9.087091</td>\n",
       "      <td>0.235180</td>\n",
       "      <td>0.098013</td>\n",
       "      <td>0.530362</td>\n",
       "      <td>0.165341</td>\n",
       "      <td>0.545876</td>\n",
       "      <td>3.898104</td>\n",
       "      <td>0.043059</td>\n",
       "      <td>0.103664</td>\n",
       "      <td>0.484089</td>\n",
       "      <td>0.170693</td>\n",
       "      <td>0.547881</td>\n",
       "      <td>0.341292</td>\n",
       "      <td>0.050732</td>\n",
       "      <td>0.090999</td>\n",
       "      <td>0.548757</td>\n",
       "      <td>0.156029</td>\n",
       "      <td>0.542814</td>\n",
       "    </tr>\n",
       "    <tr>\n",
       "      <th>Desvio</th>\n",
       "      <td>0.028054</td>\n",
       "      <td>0.000504</td>\n",
       "      <td>0.013178</td>\n",
       "      <td>0.009727</td>\n",
       "      <td>0.011174</td>\n",
       "      <td>0.006598</td>\n",
       "      <td>0.057531</td>\n",
       "      <td>0.002043</td>\n",
       "      <td>0.002190</td>\n",
       "      <td>0.036560</td>\n",
       "      <td>0.003952</td>\n",
       "      <td>0.001211</td>\n",
       "      <td>0.156932</td>\n",
       "      <td>0.001817</td>\n",
       "      <td>0.008013</td>\n",
       "      <td>0.034275</td>\n",
       "      <td>0.012624</td>\n",
       "      <td>0.004129</td>\n",
       "      <td>0.036523</td>\n",
       "      <td>0.003414</td>\n",
       "      <td>0.005417</td>\n",
       "      <td>0.034223</td>\n",
       "      <td>0.008672</td>\n",
       "      <td>0.002724</td>\n",
       "    </tr>\n",
       "  </tbody>\n",
       "</table>\n",
       "</div>"
      ],
      "text/plain": [
       "       Decision Tree                                                  \\\n",
       "            fit_time score_time test_recall test_precision   test_f1   \n",
       "0           0.510499   0.016633    0.246589       0.217916  0.231367   \n",
       "1           0.437166   0.016030    0.225146       0.196931  0.210095   \n",
       "2           0.470155   0.016496    0.216374       0.198569  0.207090   \n",
       "3           0.442597   0.015564    0.246349       0.218858  0.231791   \n",
       "4           0.438604   0.017018    0.219085       0.200535  0.209400   \n",
       "Media       0.459804   0.016348    0.230708       0.206562  0.217949   \n",
       "Desvio      0.028054   0.000504    0.013178       0.009727  0.011174   \n",
       "\n",
       "                     Random Forest                                        \\\n",
       "       test_accuracy      fit_time score_time test_recall test_precision   \n",
       "0           0.591710      9.154706   0.231853    0.101365       0.574586   \n",
       "1           0.579806      9.092748   0.237216    0.094542       0.541899   \n",
       "2           0.577020      9.040543   0.234293    0.098441       0.463303   \n",
       "3           0.591761      9.142363   0.237384    0.097371       0.531915   \n",
       "4           0.578338      9.005093   0.235156    0.098345       0.540107   \n",
       "Media       0.583727      9.087091   0.235180    0.098013       0.530362   \n",
       "Desvio      0.006598      0.057531   0.002043    0.002190       0.036560   \n",
       "\n",
       "                                 Xgboost                         \\\n",
       "         test_f1 test_accuracy  fit_time score_time test_recall   \n",
       "0       0.172328      0.548004  3.881151   0.044295    0.113060   \n",
       "1       0.160996      0.544419  4.169810   0.041484    0.102339   \n",
       "2       0.162379      0.545150  3.901934   0.041414    0.101365   \n",
       "3       0.164609      0.545624  3.857072   0.042073    0.111003   \n",
       "4       0.166392      0.546181  3.680553   0.046030    0.090555   \n",
       "Media   0.165341      0.545876  3.898104   0.043059    0.103664   \n",
       "Desvio  0.003952      0.001211  0.156932   0.001817    0.008013   \n",
       "\n",
       "                                               Lightgbm             \\\n",
       "       test_precision   test_f1 test_accuracy  fit_time score_time   \n",
       "0            0.511013  0.185156      0.552669  0.303552   0.055907   \n",
       "1            0.495283  0.169628      0.547448  0.338884   0.052754   \n",
       "2            0.435146  0.164427      0.545986  0.311878   0.049751   \n",
       "3            0.525346  0.183280      0.551918  0.407338   0.049508   \n",
       "4            0.453659  0.150974      0.541381  0.344806   0.045738   \n",
       "Media        0.484089  0.170693      0.547881  0.341292   0.050732   \n",
       "Desvio       0.034275  0.012624      0.004129  0.036523   0.003414   \n",
       "\n",
       "                                                           \n",
       "       test_recall test_precision   test_f1 test_accuracy  \n",
       "0         0.098441       0.587209  0.168614      0.546751  \n",
       "1         0.089669       0.589744  0.155668      0.542608  \n",
       "2         0.092593       0.505319  0.156507      0.543061  \n",
       "3         0.092502       0.539773  0.157938      0.543433  \n",
       "4         0.081792       0.521739  0.141414      0.538217  \n",
       "Media     0.090999       0.548757  0.156029      0.542814  \n",
       "Desvio    0.005417       0.034223  0.008672      0.002724  "
      ]
     },
     "execution_count": 58,
     "metadata": {},
     "output_type": "execute_result"
    }
   ],
   "source": [
    "# mostra as métricas em um dataframe\n",
    "pd.set_option('display.max_columns', None)\n",
    "metrics = pd.DataFrame.from_dict(dic_metrics, orient=\"index\").stack().to_frame()\n",
    "metrics = pd.DataFrame(metrics[0].values.tolist(), index=metrics.index)\n",
    "metrics['Media'] = metrics.mean(axis=1)\n",
    "metrics['Desvio'] = metrics.std(axis=1)\n",
    "metrics = metrics.transpose()\n",
    "metrics"
   ]
  },
  {
   "cell_type": "markdown",
   "metadata": {},
   "source": [
    "___\n",
    "## Treino com Grid Search randomizado: Random Forest\n",
    "___"
   ]
  },
  {
   "cell_type": "code",
   "execution_count": 59,
   "metadata": {},
   "outputs": [
    {
     "data": {
      "text/plain": [
       "RandomizedSearchCV(cv=5, error_score='raise',\n",
       "                   estimator=RandomForestClassifier(n_jobs=-1, random_state=42),\n",
       "                   param_distributions={'criterion': ['gini', 'entropy'],\n",
       "                                        'max_depth': <scipy.stats._distn_infrastructure.rv_frozen object at 0x7f2a6df739a0>,\n",
       "                                        'max_features': ['auto', 'log2']},\n",
       "                   random_state=42, scoring='f1')"
      ]
     },
     "execution_count": 59,
     "metadata": {},
     "output_type": "execute_result"
    }
   ],
   "source": [
    "rf = RandomForestClassifier(n_jobs=-1, random_state=random_state)\n",
    "\n",
    "# parâmetros a serem analisados\n",
    "params = {\n",
    "    'max_depth': sp.stats.uniform(loc=5, scale=10),\n",
    "    'criterion': ['gini', 'entropy'],\n",
    "    'max_features': ['auto', 'log2']\n",
    "}\n",
    "\n",
    "rf_gs = RandomizedSearchCV(rf, params, n_iter=10, cv=5, scoring='f1', random_state=random_state, error_score='raise')\n",
    "\n",
    "rf_gs.fit(X_train, y_train)"
   ]
  },
  {
   "cell_type": "code",
   "execution_count": 60,
   "metadata": {},
   "outputs": [
    {
     "data": {
      "text/plain": [
       "0.09048518579021916"
      ]
     },
     "execution_count": 60,
     "metadata": {},
     "output_type": "execute_result"
    }
   ],
   "source": [
    "# média dos 5 folds de cross-validation\n",
    "rf_gs.cv_results_['mean_test_score'].mean()"
   ]
  },
  {
   "cell_type": "code",
   "execution_count": 61,
   "metadata": {},
   "outputs": [
    {
     "data": {
      "text/plain": [
       "0.004638809979046815"
      ]
     },
     "execution_count": 61,
     "metadata": {},
     "output_type": "execute_result"
    }
   ],
   "source": [
    "# desvio padrão dos 5 folds de cross-validation\n",
    "rf_gs.cv_results_['std_test_score'].mean()"
   ]
  },
  {
   "cell_type": "code",
   "execution_count": 62,
   "metadata": {},
   "outputs": [
    {
     "name": "stdout",
     "output_type": "stream",
     "text": [
      "              precision    recall  f1-score   support\n",
      "\n",
      "           0       0.95      1.00      0.97     71868\n",
      "           1       0.99      0.27      0.42      5132\n",
      "\n",
      "    accuracy                           0.95     77000\n",
      "   macro avg       0.97      0.63      0.70     77000\n",
      "weighted avg       0.95      0.95      0.94     77000\n",
      "\n"
     ]
    }
   ],
   "source": [
    "# relatório dos resultados\n",
    "print(classification_report(y_train, rf_gs.predict(X_train)))"
   ]
  },
  {
   "cell_type": "markdown",
   "metadata": {},
   "source": [
    "___\n",
    "## Treino com Grid Search randomizado: LightGBM\n",
    "___"
   ]
  },
  {
   "cell_type": "code",
   "execution_count": 63,
   "metadata": {},
   "outputs": [
    {
     "data": {
      "text/plain": [
       "RandomizedSearchCV(cv=5, error_score='raise',\n",
       "                   estimator=LGBMClassifier(objective='binary',\n",
       "                                            random_state=42),\n",
       "                   param_distributions={'learning_rate': <scipy.stats._distn_infrastructure.rv_frozen object at 0x7f2a6e20d6a0>,\n",
       "                                        'max_depth': [5, 10, 15],\n",
       "                                        'min_split_gain': <scipy.stats._distn_infrastructure.rv_frozen object at 0x7f2a6da52100>,\n",
       "                                        'reg_lambda': <scipy.stats._distn_infrastructure.rv_frozen object at 0x7f2a6d8ba550>,\n",
       "                                        'subsample': <scipy.stats._distn_infrastructure.rv_frozen object at 0x7f2a6e20d9a0>},\n",
       "                   random_state=42, scoring='f1')"
      ]
     },
     "execution_count": 63,
     "metadata": {},
     "output_type": "execute_result"
    }
   ],
   "source": [
    "lgbm = lgb.LGBMClassifier(n_jobs=-1, objective='binary', random_state=random_state)\n",
    "\n",
    "# parâmetros a serem analisados\n",
    "params = {\n",
    "    'max_depth': [5, 10, 15],\n",
    "    'reg_lambda': sp.stats.uniform(loc=0, scale=2),\n",
    "    'learning_rate': sp.stats.uniform(loc=.05, scale=0.15),\n",
    "    'min_split_gain': sp.stats.uniform(loc=0, scale=5),\n",
    "    'subsample': sp.stats.uniform(loc=0, scale=1)\n",
    "}\n",
    "\n",
    "lgbm_gs = RandomizedSearchCV(lgbm, params, n_iter=10, cv=5, scoring='f1', random_state=random_state, error_score='raise')\n",
    "\n",
    "lgbm_gs.fit(X_train, y_train)"
   ]
  },
  {
   "cell_type": "code",
   "execution_count": 64,
   "metadata": {},
   "outputs": [
    {
     "data": {
      "text/plain": [
       "0.14513394069308724"
      ]
     },
     "execution_count": 64,
     "metadata": {},
     "output_type": "execute_result"
    }
   ],
   "source": [
    "# média dos 5 folds de cross-validation\n",
    "lgbm_gs.cv_results_['mean_test_score'].mean()"
   ]
  },
  {
   "cell_type": "code",
   "execution_count": 65,
   "metadata": {},
   "outputs": [
    {
     "data": {
      "text/plain": [
       "0.007452125415510597"
      ]
     },
     "execution_count": 65,
     "metadata": {},
     "output_type": "execute_result"
    }
   ],
   "source": [
    "# desvio padrão dos 5 folds de cross-validation\n",
    "lgbm_gs.cv_results_['std_test_score'].mean()"
   ]
  },
  {
   "cell_type": "code",
   "execution_count": 66,
   "metadata": {},
   "outputs": [
    {
     "name": "stdout",
     "output_type": "stream",
     "text": [
      "              precision    recall  f1-score   support\n",
      "\n",
      "           0       0.94      1.00      0.97     71868\n",
      "           1       0.74      0.14      0.24      5132\n",
      "\n",
      "    accuracy                           0.94     77000\n",
      "   macro avg       0.84      0.57      0.60     77000\n",
      "weighted avg       0.93      0.94      0.92     77000\n",
      "\n"
     ]
    }
   ],
   "source": [
    "# relatório dos resultados\n",
    "print(classification_report(y_train, lgbm_gs.predict(X_train)))"
   ]
  },
  {
   "cell_type": "markdown",
   "metadata": {},
   "source": [
    "___\n",
    "## Treino com Grid Search randomizado: XGBoost\n",
    "___"
   ]
  },
  {
   "cell_type": "code",
   "execution_count": 67,
   "metadata": {},
   "outputs": [
    {
     "data": {
      "text/plain": [
       "RandomizedSearchCV(cv=5, error_score='raise',\n",
       "                   estimator=XGBClassifier(base_score=None, booster=None,\n",
       "                                           colsample_bylevel=None,\n",
       "                                           colsample_bynode=None,\n",
       "                                           colsample_bytree=None,\n",
       "                                           enable_categorical=False, gamma=None,\n",
       "                                           gpu_id=None, importance_type=None,\n",
       "                                           interaction_constraints=None,\n",
       "                                           learning_rate=None,\n",
       "                                           max_delta_step=None, max_depth=None,\n",
       "                                           min_child_weight=None, missing=nan,...\n",
       "                   param_distributions={'learning_rate': <scipy.stats._distn_infrastructure.rv_frozen object at 0x7f2a6dcc1190>,\n",
       "                                        'max_depth': [5, 10, 15],\n",
       "                                        'min_child_weight': <scipy.stats._distn_infrastructure.rv_frozen object at 0x7f2a6dcc10a0>,\n",
       "                                        'reg_lambda': <scipy.stats._distn_infrastructure.rv_frozen object at 0x7f2a6da1b130>,\n",
       "                                        'subsample': <scipy.stats._distn_infrastructure.rv_frozen object at 0x7f2a6db102e0>},\n",
       "                   random_state=42, scoring='f1')"
      ]
     },
     "execution_count": 67,
     "metadata": {},
     "output_type": "execute_result"
    }
   ],
   "source": [
    "xgb = xgb.XGBClassifier(n_jobs=-1, use_label_encoder=False, random_state=random_state)\n",
    "\n",
    "# parâmetros a serem analisados\n",
    "params = {\n",
    "    'max_depth': [5, 10, 15],\n",
    "    'reg_lambda': sp.stats.uniform(loc=0, scale=2),\n",
    "    'learning_rate': sp.stats.uniform(loc=.05, scale=0.15),\n",
    "    'min_child_weight': sp.stats.uniform(loc=0.01, scale=2.99),\n",
    "    'subsample': sp.stats.uniform(loc=0, scale=1)\n",
    "}\n",
    "\n",
    "xgb_gs = RandomizedSearchCV(xgb, params, n_iter=10, cv=5, scoring='f1', random_state=random_state, error_score='raise')\n",
    "\n",
    "xgb_gs.fit(X_train, y_train, eval_metric='logloss')"
   ]
  },
  {
   "cell_type": "code",
   "execution_count": 68,
   "metadata": {},
   "outputs": [
    {
     "data": {
      "text/plain": [
       "0.16697824576657444"
      ]
     },
     "execution_count": 68,
     "metadata": {},
     "output_type": "execute_result"
    }
   ],
   "source": [
    "# média dos 5 folds de cross-validation\n",
    "xgb_gs.cv_results_['mean_test_score'].mean()"
   ]
  },
  {
   "cell_type": "code",
   "execution_count": 69,
   "metadata": {},
   "outputs": [
    {
     "data": {
      "text/plain": [
       "0.009588627074228796"
      ]
     },
     "execution_count": 69,
     "metadata": {},
     "output_type": "execute_result"
    }
   ],
   "source": [
    "# desvio padrão dos 5 folds de cross-validation\n",
    "xgb_gs.cv_results_['std_test_score'].mean()"
   ]
  },
  {
   "cell_type": "code",
   "execution_count": 70,
   "metadata": {},
   "outputs": [
    {
     "name": "stdout",
     "output_type": "stream",
     "text": [
      "              precision    recall  f1-score   support\n",
      "\n",
      "           0       0.94      0.99      0.97     71868\n",
      "           1       0.66      0.15      0.24      5132\n",
      "\n",
      "    accuracy                           0.94     77000\n",
      "   macro avg       0.80      0.57      0.60     77000\n",
      "weighted avg       0.92      0.94      0.92     77000\n",
      "\n"
     ]
    }
   ],
   "source": [
    "# relatório dos resultados\n",
    "print(classification_report(y_train, xgb_gs.predict(X_train)))"
   ]
  },
  {
   "cell_type": "markdown",
   "metadata": {},
   "source": [
    "___\n",
    "## Comparação das métricas\n",
    "___"
   ]
  },
  {
   "cell_type": "code",
   "execution_count": 71,
   "metadata": {},
   "outputs": [],
   "source": [
    "# modelos treinados\n",
    "trained_models = {\n",
    "    'RandForest': rf_gs,\n",
    "    'LightGBM': lgbm_gs,\n",
    "    'XGBoost': xgb_gs\n",
    "}"
   ]
  },
  {
   "cell_type": "code",
   "execution_count": 72,
   "metadata": {},
   "outputs": [
    {
     "data": {
      "image/png": "[encoded data removed]",
      "text/plain": [
       "<Figure size 1440x360 with 4 Axes>"
      ]
     },
     "metadata": {
      "needs_background": "light"
     },
     "output_type": "display_data"
    }
   ],
   "source": [
    "# plot das matrizes de confusão\n",
    "f, axes = plt.subplots(1, 3, figsize=(20, 5), sharey='row')\n",
    "\n",
    "i = 0\n",
    "for model_name, model in trained_models.items():\n",
    "    disp = ConfusionMatrixDisplay(confusion_matrix(y_train, model.predict(X_train), normalize='true'), display_labels=[0, 1])\n",
    "    disp.plot(ax=axes[i], xticks_rotation=45, cmap='Blues')\n",
    "    disp.ax_.set_title(model_name)\n",
    "    disp.im_.colorbar.remove()\n",
    "    disp.ax_.set_xlabel('Predicted label')\n",
    "    disp.ax_.set_ylabel('True label')\n",
    "    i += 1\n",
    "\n",
    "plt.subplots_adjust(wspace=.3, hspace=.1)\n",
    "\n",
    "f.colorbar(disp.im_, ax=axes)\n",
    "plt.show()"
   ]
  },
  {
   "cell_type": "code",
   "execution_count": 73,
   "metadata": {},
   "outputs": [
    {
     "data": {
      "image/png": "[encoded data removed]",
      "text/plain": [
       "<Figure size 1440x360 with 3 Axes>"
      ]
     },
     "metadata": {
      "needs_background": "light"
     },
     "output_type": "display_data"
    }
   ],
   "source": [
    "# plot das curvas de recall-precision\n",
    "f, axes = plt.subplots(1, 3, figsize=(20, 5), sharey='row')\n",
    "\n",
    "i = 0\n",
    "for model_name, model in trained_models.items():\n",
    "    disp = PrecisionRecallDisplay.from_predictions(y_train, model.predict_proba(X_train)[:,1], ax=axes[i])\n",
    "    disp.ax_.set_title(model_name)\n",
    "    axes[i].grid()\n",
    "    i += 1\n",
    "\n",
    "plt.show()"
   ]
  },
  {
   "cell_type": "markdown",
   "metadata": {},
   "source": [
    "O modelo que se mostrou com melhor curva de precision-recall foi o Random Forest, portanto seguiremos com ele para a etapa final"
   ]
  },
  {
   "cell_type": "markdown",
   "metadata": {},
   "source": [
    "---\n",
    "## Seguindo com _Random Forest_ para etapa final\n",
    "\n",
    "Ajustando os Thresholds\n",
    "\n",
    "---"
   ]
  },
  {
   "cell_type": "code",
   "execution_count": 74,
   "metadata": {},
   "outputs": [],
   "source": [
    "# listas com as precisions, recalls e thresholds para vários pontos da curva (pega apenas a coluna 1 do resultado da função -> probabilidades para classe 1)\n",
    "precision, recall, threshold = precision_recall_curve(y_train, rf_gs.predict_proba(X_train)[:,1])\n",
    "# adiciona um NaN apenas para que fique do mesmo tamanho que as outras listas\n",
    "threshold = np.append(threshold, np.nan)"
   ]
  },
  {
   "cell_type": "code",
   "execution_count": 100,
   "metadata": {},
   "outputs": [
    {
     "data": {
      "text/html": [
       "<div>\n",
       "<style scoped>\n",
       "    .dataframe tbody tr th:only-of-type {\n",
       "        vertical-align: middle;\n",
       "    }\n",
       "\n",
       "    .dataframe tbody tr th {\n",
       "        vertical-align: top;\n",
       "    }\n",
       "\n",
       "    .dataframe thead th {\n",
       "        text-align: right;\n",
       "    }\n",
       "</style>\n",
       "<table border=\"1\" class=\"dataframe\">\n",
       "  <thead>\n",
       "    <tr style=\"text-align: right;\">\n",
       "      <th></th>\n",
       "      <th>Precision</th>\n",
       "      <th>Recall</th>\n",
       "      <th>Threshold</th>\n",
       "    </tr>\n",
       "  </thead>\n",
       "  <tbody>\n",
       "    <tr>\n",
       "      <th>0</th>\n",
       "      <td>0.113550</td>\n",
       "      <td>1.000000</td>\n",
       "      <td>0.015320</td>\n",
       "    </tr>\n",
       "    <tr>\n",
       "      <th>1</th>\n",
       "      <td>0.113530</td>\n",
       "      <td>0.999805</td>\n",
       "      <td>0.015321</td>\n",
       "    </tr>\n",
       "    <tr>\n",
       "      <th>2</th>\n",
       "      <td>0.113533</td>\n",
       "      <td>0.999805</td>\n",
       "      <td>0.015322</td>\n",
       "    </tr>\n",
       "    <tr>\n",
       "      <th>3</th>\n",
       "      <td>0.113535</td>\n",
       "      <td>0.999805</td>\n",
       "      <td>0.015323</td>\n",
       "    </tr>\n",
       "    <tr>\n",
       "      <th>4</th>\n",
       "      <td>0.113538</td>\n",
       "      <td>0.999805</td>\n",
       "      <td>0.015324</td>\n",
       "    </tr>\n",
       "    <tr>\n",
       "      <th>...</th>\n",
       "      <td>...</td>\n",
       "      <td>...</td>\n",
       "      <td>...</td>\n",
       "    </tr>\n",
       "    <tr>\n",
       "      <th>38453</th>\n",
       "      <td>0.609470</td>\n",
       "      <td>0.800078</td>\n",
       "      <td>0.201869</td>\n",
       "    </tr>\n",
       "    <tr>\n",
       "      <th>38454</th>\n",
       "      <td>0.609561</td>\n",
       "      <td>0.800078</td>\n",
       "      <td>0.201891</td>\n",
       "    </tr>\n",
       "    <tr>\n",
       "      <th>38455</th>\n",
       "      <td>0.609651</td>\n",
       "      <td>0.800078</td>\n",
       "      <td>0.201924</td>\n",
       "    </tr>\n",
       "    <tr>\n",
       "      <th>38456</th>\n",
       "      <td>0.609742</td>\n",
       "      <td>0.800078</td>\n",
       "      <td>0.201943</td>\n",
       "    </tr>\n",
       "    <tr>\n",
       "      <th>38457</th>\n",
       "      <td>0.609832</td>\n",
       "      <td>0.800078</td>\n",
       "      <td>0.201973</td>\n",
       "    </tr>\n",
       "  </tbody>\n",
       "</table>\n",
       "<p>38458 rows × 3 columns</p>\n",
       "</div>"
      ],
      "text/plain": [
       "       Precision    Recall  Threshold\n",
       "0       0.113550  1.000000   0.015320\n",
       "1       0.113530  0.999805   0.015321\n",
       "2       0.113533  0.999805   0.015322\n",
       "3       0.113535  0.999805   0.015323\n",
       "4       0.113538  0.999805   0.015324\n",
       "...          ...       ...        ...\n",
       "38453   0.609470  0.800078   0.201869\n",
       "38454   0.609561  0.800078   0.201891\n",
       "38455   0.609651  0.800078   0.201924\n",
       "38456   0.609742  0.800078   0.201943\n",
       "38457   0.609832  0.800078   0.201973\n",
       "\n",
       "[38458 rows x 3 columns]"
      ]
     },
     "execution_count": 100,
     "metadata": {},
     "output_type": "execute_result"
    }
   ],
   "source": [
    "\"\"\" analisando os dados acima em um dataframe e pegando os threshold que geram no mínimo\n",
    "um recall de 80% (valores podem ser alterados de acordo com a \"necessidade de mais acerto\" do modelo)\"\"\"\n",
    "rf_prc = pd.DataFrame({'Precision': precision.T, \n",
    "                        'Recall': recall.T, \n",
    "                        'Threshold': threshold.T\n",
    "                        }).query('Recall >= .8')\n",
    "rf_prc"
   ]
  },
  {
   "cell_type": "code",
   "execution_count": 101,
   "metadata": {},
   "outputs": [],
   "source": [
    "final_model_rf = rf_gs.best_estimator_"
   ]
  },
  {
   "cell_type": "code",
   "execution_count": 102,
   "metadata": {},
   "outputs": [
    {
     "data": {
      "text/plain": [
       "Thresholder(model=RandomForestClassifier(criterion='entropy',\n",
       "                                         max_depth=14.385527090157503,\n",
       "                                         max_features='log2', n_jobs=-1,\n",
       "                                         random_state=42),\n",
       "            threshold=0.201973)"
      ]
     },
     "execution_count": 102,
     "metadata": {},
     "output_type": "execute_result"
    }
   ],
   "source": [
    "rf_ajustado = Thresholder(final_model_rf, 0.201973) # Threshold com Precision de 51.87% e Recall de 80%\n",
    "rf_ajustado.fit(X_train, y_train)"
   ]
  },
  {
   "cell_type": "code",
   "execution_count": 103,
   "metadata": {},
   "outputs": [
    {
     "name": "stderr",
     "output_type": "stream",
     "text": [
      "X has feature names, but RandomForestClassifier was fitted without feature names\n"
     ]
    },
    {
     "data": {
      "image/png": "[encoded data removed]",
      "text/plain": [
       "<Figure size 1440x360 with 4 Axes>"
      ]
     },
     "metadata": {
      "needs_background": "light"
     },
     "output_type": "display_data"
    }
   ],
   "source": [
    "# plot matriz confusão - dados de treino\n",
    "fig, ax = plt.subplots(1, 2, figsize=(20, 5))\n",
    "\n",
    "disp11 = ConfusionMatrixDisplay(confusion_matrix(y_train, rf_gs.predict(X_train), normalize='true'), display_labels=[0, 1])\n",
    "disp11.plot(ax=ax[0], xticks_rotation=45, cmap='Blues')\n",
    "disp11.ax_.set_title('Dados de treino sem threshold ajustado')\n",
    "disp12 = ConfusionMatrixDisplay(confusion_matrix(y_train, rf_ajustado.predict(X_train), normalize='true'), display_labels=[0, 1])\n",
    "disp12.plot(ax=ax[1], xticks_rotation=45, cmap='Blues')\n",
    "disp12.ax_.set_title('Dados de treino com threshold ajustado')\n",
    "plt.subplots_adjust(wspace=0)\n",
    "\n",
    "plt.show()"
   ]
  },
  {
   "cell_type": "markdown",
   "metadata": {},
   "source": [
    "O modelo final terá o threshold ajustado."
   ]
  },
  {
   "cell_type": "markdown",
   "metadata": {},
   "source": [
    "___\n",
    "## Testando do modelo\n",
    "---"
   ]
  },
  {
   "cell_type": "code",
   "execution_count": 104,
   "metadata": {},
   "outputs": [
    {
     "name": "stderr",
     "output_type": "stream",
     "text": [
      "X has feature names, but RandomForestClassifier was fitted without feature names\n",
      "X has feature names, but RandomForestClassifier was fitted without feature names\n"
     ]
    },
    {
     "data": {
      "image/png": "[encoded data removed]",
      "text/plain": [
       "<Figure size 1440x360 with 4 Axes>"
      ]
     },
     "metadata": {
      "needs_background": "light"
     },
     "output_type": "display_data"
    }
   ],
   "source": [
    "# plot da matriz de confusão para os dados de teste: dados nunca antes vistos pelo modelo e que representariam os dados reais utilizados para\n",
    "# classificar os clientes em ad/inadimplentes\n",
    "fig, ax = plt.subplots(1, 2, figsize=(20, 5))\n",
    "\n",
    "disp11 = ConfusionMatrixDisplay(confusion_matrix(y_test, rf_ajustado.predict(X_test), normalize='true'), display_labels=[0, 1])\n",
    "disp11.plot(ax=ax[0], xticks_rotation=45, cmap='Blues')\n",
    "disp11.ax_.set_title('Dados de teste (normalizado)')\n",
    "disp12 = ConfusionMatrixDisplay(confusion_matrix(y_test, rf_ajustado.predict(X_test)), display_labels=[0, 1])\n",
    "disp12.plot(ax=ax[1], xticks_rotation=45, cmap='Blues')\n",
    "disp12.ax_.set_title('Dados de teste (absoluto)')\n",
    "plt.subplots_adjust(wspace=0)\n",
    "\n",
    "plt.show()"
   ]
  },
  {
   "cell_type": "code",
   "execution_count": 105,
   "metadata": {},
   "outputs": [],
   "source": [
    "# Exportando o modelo em Pickle\n",
    "# Descomentar as 3 linhas abaixo para salvar o modelo:\n",
    "\n",
    "# output = open('modelo_rf', 'wb')\n",
    "# pickle.dump(rf_ajustado, output)\n",
    "# output.close()"
   ]
  },
  {
   "cell_type": "markdown",
   "metadata": {},
   "source": [
    "---\n",
    "## Validando o modelo\n",
    "---"
   ]
  },
  {
   "cell_type": "code",
   "execution_count": 81,
   "metadata": {},
   "outputs": [],
   "source": [
    "X_val = data_val"
   ]
  },
  {
   "cell_type": "markdown",
   "metadata": {},
   "source": [
    "Criando a coluna `inadimplente` no dataset `teste.csv`, que foi chamado de `data_val` nesta análise."
   ]
  },
  {
   "cell_type": "code",
   "execution_count": 82,
   "metadata": {},
   "outputs": [
    {
     "name": "stderr",
     "output_type": "stream",
     "text": [
      "X has feature names, but RandomForestClassifier was fitted without feature names\n"
     ]
    }
   ],
   "source": [
    "data_val.insert(1, 'inadimplente', rf_ajustado.predict(X_val))"
   ]
  },
  {
   "cell_type": "code",
   "execution_count": 83,
   "metadata": {},
   "outputs": [
    {
     "data": {
      "text/html": [
       "<div>\n",
       "<style scoped>\n",
       "    .dataframe tbody tr th:only-of-type {\n",
       "        vertical-align: middle;\n",
       "    }\n",
       "\n",
       "    .dataframe tbody tr th {\n",
       "        vertical-align: top;\n",
       "    }\n",
       "\n",
       "    .dataframe thead th {\n",
       "        text-align: right;\n",
       "    }\n",
       "</style>\n",
       "<table border=\"1\" class=\"dataframe\">\n",
       "  <thead>\n",
       "    <tr style=\"text-align: right;\">\n",
       "      <th></th>\n",
       "      <th>cliente</th>\n",
       "      <th>inadimplente</th>\n",
       "      <th>util_linhas_inseguras</th>\n",
       "      <th>idade</th>\n",
       "      <th>vezes_passou_de_30_59_dias</th>\n",
       "      <th>razao_debito</th>\n",
       "      <th>salario_mensal</th>\n",
       "      <th>numero_linhas_crdto_aberto</th>\n",
       "      <th>numero_emprestimos_imobiliarios</th>\n",
       "      <th>numero_de_dependentes</th>\n",
       "    </tr>\n",
       "  </thead>\n",
       "  <tbody>\n",
       "    <tr>\n",
       "      <th>0</th>\n",
       "      <td>1</td>\n",
       "      <td>0</td>\n",
       "      <td>0.025849</td>\n",
       "      <td>62</td>\n",
       "      <td>0</td>\n",
       "      <td>0.081775</td>\n",
       "      <td>8180.0</td>\n",
       "      <td>3</td>\n",
       "      <td>2</td>\n",
       "      <td>0.0</td>\n",
       "    </tr>\n",
       "    <tr>\n",
       "      <th>1</th>\n",
       "      <td>2</td>\n",
       "      <td>0</td>\n",
       "      <td>0.667083</td>\n",
       "      <td>55</td>\n",
       "      <td>0</td>\n",
       "      <td>0.153112</td>\n",
       "      <td>2200.0</td>\n",
       "      <td>3</td>\n",
       "      <td>0</td>\n",
       "      <td>0.0</td>\n",
       "    </tr>\n",
       "    <tr>\n",
       "      <th>2</th>\n",
       "      <td>3</td>\n",
       "      <td>0</td>\n",
       "      <td>0.007093</td>\n",
       "      <td>44</td>\n",
       "      <td>0</td>\n",
       "      <td>0.148800</td>\n",
       "      <td>7499.0</td>\n",
       "      <td>20</td>\n",
       "      <td>1</td>\n",
       "      <td>0.0</td>\n",
       "    </tr>\n",
       "    <tr>\n",
       "      <th>3</th>\n",
       "      <td>4</td>\n",
       "      <td>0</td>\n",
       "      <td>0.091213</td>\n",
       "      <td>54</td>\n",
       "      <td>0</td>\n",
       "      <td>0.351635</td>\n",
       "      <td>5900.0</td>\n",
       "      <td>15</td>\n",
       "      <td>1</td>\n",
       "      <td>0.0</td>\n",
       "    </tr>\n",
       "    <tr>\n",
       "      <th>4</th>\n",
       "      <td>5</td>\n",
       "      <td>0</td>\n",
       "      <td>0.112680</td>\n",
       "      <td>54</td>\n",
       "      <td>0</td>\n",
       "      <td>0.065959</td>\n",
       "      <td>2167.0</td>\n",
       "      <td>3</td>\n",
       "      <td>0</td>\n",
       "      <td>0.0</td>\n",
       "    </tr>\n",
       "    <tr>\n",
       "      <th>...</th>\n",
       "      <td>...</td>\n",
       "      <td>...</td>\n",
       "      <td>...</td>\n",
       "      <td>...</td>\n",
       "      <td>...</td>\n",
       "      <td>...</td>\n",
       "      <td>...</td>\n",
       "      <td>...</td>\n",
       "      <td>...</td>\n",
       "      <td>...</td>\n",
       "    </tr>\n",
       "    <tr>\n",
       "      <th>39995</th>\n",
       "      <td>39996</td>\n",
       "      <td>0</td>\n",
       "      <td>0.000000</td>\n",
       "      <td>68</td>\n",
       "      <td>1</td>\n",
       "      <td>0.062858</td>\n",
       "      <td>10833.0</td>\n",
       "      <td>9</td>\n",
       "      <td>0</td>\n",
       "      <td>0.0</td>\n",
       "    </tr>\n",
       "    <tr>\n",
       "      <th>39996</th>\n",
       "      <td>39997</td>\n",
       "      <td>0</td>\n",
       "      <td>0.061117</td>\n",
       "      <td>84</td>\n",
       "      <td>0</td>\n",
       "      <td>0.013598</td>\n",
       "      <td>8456.0</td>\n",
       "      <td>7</td>\n",
       "      <td>0</td>\n",
       "      <td>0.0</td>\n",
       "    </tr>\n",
       "    <tr>\n",
       "      <th>39997</th>\n",
       "      <td>39998</td>\n",
       "      <td>0</td>\n",
       "      <td>0.817745</td>\n",
       "      <td>70</td>\n",
       "      <td>0</td>\n",
       "      <td>0.663056</td>\n",
       "      <td>6000.0</td>\n",
       "      <td>17</td>\n",
       "      <td>2</td>\n",
       "      <td>0.0</td>\n",
       "    </tr>\n",
       "    <tr>\n",
       "      <th>39998</th>\n",
       "      <td>39999</td>\n",
       "      <td>0</td>\n",
       "      <td>0.106139</td>\n",
       "      <td>64</td>\n",
       "      <td>2</td>\n",
       "      <td>0.865438</td>\n",
       "      <td>5045.0</td>\n",
       "      <td>12</td>\n",
       "      <td>4</td>\n",
       "      <td>0.0</td>\n",
       "    </tr>\n",
       "    <tr>\n",
       "      <th>39999</th>\n",
       "      <td>40000</td>\n",
       "      <td>1</td>\n",
       "      <td>1.000000</td>\n",
       "      <td>28</td>\n",
       "      <td>0</td>\n",
       "      <td>0.002285</td>\n",
       "      <td>3500.0</td>\n",
       "      <td>0</td>\n",
       "      <td>0</td>\n",
       "      <td>0.0</td>\n",
       "    </tr>\n",
       "  </tbody>\n",
       "</table>\n",
       "<p>40000 rows × 10 columns</p>\n",
       "</div>"
      ],
      "text/plain": [
       "       cliente  inadimplente  util_linhas_inseguras  idade  \\\n",
       "0            1             0               0.025849     62   \n",
       "1            2             0               0.667083     55   \n",
       "2            3             0               0.007093     44   \n",
       "3            4             0               0.091213     54   \n",
       "4            5             0               0.112680     54   \n",
       "...        ...           ...                    ...    ...   \n",
       "39995    39996             0               0.000000     68   \n",
       "39996    39997             0               0.061117     84   \n",
       "39997    39998             0               0.817745     70   \n",
       "39998    39999             0               0.106139     64   \n",
       "39999    40000             1               1.000000     28   \n",
       "\n",
       "       vezes_passou_de_30_59_dias  razao_debito  salario_mensal  \\\n",
       "0                               0      0.081775          8180.0   \n",
       "1                               0      0.153112          2200.0   \n",
       "2                               0      0.148800          7499.0   \n",
       "3                               0      0.351635          5900.0   \n",
       "4                               0      0.065959          2167.0   \n",
       "...                           ...           ...             ...   \n",
       "39995                           1      0.062858         10833.0   \n",
       "39996                           0      0.013598          8456.0   \n",
       "39997                           0      0.663056          6000.0   \n",
       "39998                           2      0.865438          5045.0   \n",
       "39999                           0      0.002285          3500.0   \n",
       "\n",
       "       numero_linhas_crdto_aberto  numero_emprestimos_imobiliarios  \\\n",
       "0                               3                                2   \n",
       "1                               3                                0   \n",
       "2                              20                                1   \n",
       "3                              15                                1   \n",
       "4                               3                                0   \n",
       "...                           ...                              ...   \n",
       "39995                           9                                0   \n",
       "39996                           7                                0   \n",
       "39997                          17                                2   \n",
       "39998                          12                                4   \n",
       "39999                           0                                0   \n",
       "\n",
       "       numero_de_dependentes  \n",
       "0                        0.0  \n",
       "1                        0.0  \n",
       "2                        0.0  \n",
       "3                        0.0  \n",
       "4                        0.0  \n",
       "...                      ...  \n",
       "39995                    0.0  \n",
       "39996                    0.0  \n",
       "39997                    0.0  \n",
       "39998                    0.0  \n",
       "39999                    0.0  \n",
       "\n",
       "[40000 rows x 10 columns]"
      ]
     },
     "execution_count": 83,
     "metadata": {},
     "output_type": "execute_result"
    }
   ],
   "source": [
    "data_val"
   ]
  },
  {
   "cell_type": "code",
   "execution_count": 84,
   "metadata": {},
   "outputs": [
    {
     "data": {
      "text/plain": [
       "0    36500\n",
       "1     3500\n",
       "Name: inadimplente, dtype: int64"
      ]
     },
     "execution_count": 84,
     "metadata": {},
     "output_type": "execute_result"
    }
   ],
   "source": [
    "data_val['inadimplente'].value_counts()"
   ]
  },
  {
   "cell_type": "code",
   "execution_count": 85,
   "metadata": {},
   "outputs": [
    {
     "name": "stdout",
     "output_type": "stream",
     "text": [
      "Teste:\n",
      "3500 usuarios possivelmente inadimplentes -> 8.75% dos dados totais\n",
      "36500 usuarios possivelmente adimplentes -> 91.25% dos dados totais\n",
      "\n"
     ]
    }
   ],
   "source": [
    "# print de informações\n",
    "qtd_total_val = data_val.shape[0]\n",
    "inadimplentes_val = sum(data_val['inadimplente'])\n",
    "adimplentes_val = qtd_total_val - inadimplentes_val\n",
    "\n",
    "print(\"Teste:\")\n",
    "print(f\"{inadimplentes_val} usuarios possivelmente inadimplentes -> {inadimplentes_val/qtd_total_val * 100:3.2f}% dos dados totais\")\n",
    "print(f\"{adimplentes_val} usuarios possivelmente adimplentes -> {adimplentes_val/qtd_total_val * 100:3.2f}% dos dados totais\\n\")"
   ]
  },
  {
   "cell_type": "code",
   "execution_count": 86,
   "metadata": {},
   "outputs": [],
   "source": [
    "data_val.to_csv('../case_datarisk/predito.csv', index=False)"
   ]
  },
  {
   "cell_type": "code",
   "execution_count": null,
   "metadata": {},
   "outputs": [],
   "source": []
  }
 ],
 "metadata": {
  "interpreter": {
   "hash": "8d97a3dbca231d9020d4cca2fd426dfd394f300c675eea7ed921aca4ffa7b18a"
  },
  "kernelspec": {
   "display_name": "Python 3.8.2 64-bit ('base': conda)",
   "language": "python",
   "name": "python3"
  },
  "language_info": {
   "codemirror_mode": {
    "name": "ipython",
    "version": 3
   },
   "file_extension": ".py",
   "mimetype": "text/x-python",
   "name": "python",
   "nbconvert_exporter": "python",
   "pygments_lexer": "ipython3",
   "version": "3.8.2"
  },
  "orig_nbformat": 4
 },
 "nbformat": 4,
 "nbformat_minor": 2
}
