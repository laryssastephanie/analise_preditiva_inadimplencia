{
 "cells": [
  {
   "cell_type": "markdown",
   "metadata": {},
   "source": [
    "# Análise Preditiva de Inadimplência\n",
    "---\n",
    "Desafio proposto pela }`Datarisk`.<br>\n",
    "__Candidata__: Laryssa Stephanie Andrade da Costa Silva | [LinkedIn](https://www.linkedin.com/in/laryssastephanie/) | [Github](https://github.com/laryssastephanie)\n",
    "\n",
    "---"
   ]
  },
  {
   "cell_type": "code",
   "execution_count": 76,
   "metadata": {},
   "outputs": [],
   "source": [
    "import pickle\n",
    "import numpy as np\n",
    "import pandas as pd\n",
    "import matplotlib.pyplot as plt\n",
    "import scipy as sp\n",
    "import lightgbm as lgb\n",
    "import xgboost as xgb\n",
    "from sklearn.impute import KNNImputer\n",
    "from sklearn.model_selection import cross_validate, RandomizedSearchCV\n",
    "from sklearn.ensemble import RandomForestClassifier\n",
    "from sklego.meta import Thresholder\n",
    "from sklearn.tree import DecisionTreeClassifier\n",
    "from sklearn.metrics import classification_report, PrecisionRecallDisplay, precision_recall_curve, ConfusionMatrixDisplay, confusion_matrix"
   ]
  },
  {
   "cell_type": "code",
   "execution_count": 178,
   "metadata": {},
   "outputs": [],
   "source": [
    "data_train = pd.read_csv('case_datarisk/treino.csv')\n",
    "data_train.index = data_train.index + 1\n",
    "data_train.index.rename('cliente', inplace=True)\n",
    "data_train.reset_index(level=0, inplace=True)\n",
    "\n",
    "data_test = pd.read_csv('case_datarisk/teste.csv')\n",
    "data_test.index = data_test.index + 1\n",
    "data_test.index.rename('cliente', inplace=True)\n",
    "data_test.reset_index(level=0, inplace=True)"
   ]
  },
  {
   "cell_type": "code",
   "execution_count": 3,
   "metadata": {},
   "outputs": [
    {
     "name": "stdout",
     "output_type": "stream",
     "text": [
      "Treino shape (110000, 12)\n",
      "Teste shape (40000, 11)\n"
     ]
    }
   ],
   "source": [
    "print(f\"Treino shape {data_train.shape}\")\n",
    "print(f\"Teste shape {data_test.shape}\")"
   ]
  },
  {
   "cell_type": "code",
   "execution_count": 4,
   "metadata": {},
   "outputs": [
    {
     "data": {
      "text/plain": [
       "0    102669\n",
       "1      7331\n",
       "Name: inadimplente, dtype: int64"
      ]
     },
     "execution_count": 4,
     "metadata": {},
     "output_type": "execute_result"
    }
   ],
   "source": [
    "data_train['inadimplente'].value_counts()"
   ]
  },
  {
   "cell_type": "code",
   "execution_count": 5,
   "metadata": {},
   "outputs": [
    {
     "name": "stdout",
     "output_type": "stream",
     "text": [
      "Treino:\n",
      "7331 usuarios inadimplentes -> 6.66% dos dados totais\n",
      "102669 usuarios adimplentes -> 93.34% dos dados totais\n",
      "\n"
     ]
    }
   ],
   "source": [
    "# print de informações\n",
    "qtd_total_train = data_train.shape[0]\n",
    "inadimplentes_train = sum(data_train['inadimplente'])\n",
    "adimplentes_train = qtd_total_train - inadimplentes_train\n",
    "\n",
    "print(\"Treino:\")\n",
    "print(f\"{inadimplentes_train} usuarios inadimplentes -> {inadimplentes_train/qtd_total_train * 100:3.2f}% dos dados totais\")\n",
    "print(f\"{adimplentes_train} usuarios adimplentes -> {adimplentes_train/qtd_total_train * 100:3.2f}% dos dados totais\\n\")"
   ]
  },
  {
   "cell_type": "markdown",
   "metadata": {},
   "source": [
    "---\n",
    "## Tratando os NaN's\n",
    "---"
   ]
  },
  {
   "cell_type": "markdown",
   "metadata": {},
   "source": [
    "Para dados de Treino"
   ]
  },
  {
   "cell_type": "code",
   "execution_count": 179,
   "metadata": {},
   "outputs": [
    {
     "data": {
      "text/plain": [
       "cliente                                      0\n",
       "inadimplente                                 0\n",
       "util_linhas_inseguras                        0\n",
       "idade                                        0\n",
       "vezes_passou_de_30_59_dias                   0\n",
       "razao_debito                                 0\n",
       "salario_mensal                           21763\n",
       "numero_linhas_crdto_aberto                   0\n",
       "numero_vezes_passou_90_dias                  0\n",
       "numero_emprestimos_imobiliarios              0\n",
       "numero_de_vezes_que_passou_60_89_dias        0\n",
       "numero_de_dependentes                     2878\n",
       "dtype: int64"
      ]
     },
     "execution_count": 179,
     "metadata": {},
     "output_type": "execute_result"
    }
   ],
   "source": [
    "data_train.isna().sum()"
   ]
  },
  {
   "cell_type": "code",
   "execution_count": 180,
   "metadata": {},
   "outputs": [],
   "source": [
    "# Assumindo que o número de dependentes em branco é zero.\n",
    "data_train['numero_de_dependentes'] = data_train['numero_de_dependentes'].fillna(0)"
   ]
  },
  {
   "cell_type": "code",
   "execution_count": 181,
   "metadata": {},
   "outputs": [
    {
     "data": {
      "text/plain": [
       "count      88237.00\n",
       "mean        6637.41\n",
       "std        13383.95\n",
       "min            0.00\n",
       "25%         3400.00\n",
       "50%         5400.00\n",
       "75%         8225.00\n",
       "max      3008750.00\n",
       "Name: salario_mensal, dtype: float64"
      ]
     },
     "execution_count": 181,
     "metadata": {},
     "output_type": "execute_result"
    }
   ],
   "source": [
    "data_train['salario_mensal'].describe().round(2)"
   ]
  },
  {
   "cell_type": "code",
   "execution_count": 182,
   "metadata": {},
   "outputs": [],
   "source": [
    "# Utilizando o KNNImputer para preencher os dados de salário faltantes.\n",
    "imputer = KNNImputer(n_neighbors=3)\n",
    "data_train_knn = pd.DataFrame(imputer.fit_transform(data_train), columns=data_train.columns)"
   ]
  },
  {
   "cell_type": "code",
   "execution_count": 183,
   "metadata": {},
   "outputs": [],
   "source": [
    "data_train['salario_mensal'] = data_train_knn['salario_mensal']"
   ]
  },
  {
   "cell_type": "code",
   "execution_count": 184,
   "metadata": {},
   "outputs": [
    {
     "data": {
      "text/plain": [
       "cliente                                  0\n",
       "inadimplente                             0\n",
       "util_linhas_inseguras                    0\n",
       "idade                                    0\n",
       "vezes_passou_de_30_59_dias               0\n",
       "razao_debito                             0\n",
       "salario_mensal                           0\n",
       "numero_linhas_crdto_aberto               0\n",
       "numero_vezes_passou_90_dias              0\n",
       "numero_emprestimos_imobiliarios          0\n",
       "numero_de_vezes_que_passou_60_89_dias    0\n",
       "numero_de_dependentes                    0\n",
       "dtype: int64"
      ]
     },
     "execution_count": 184,
     "metadata": {},
     "output_type": "execute_result"
    }
   ],
   "source": [
    "data_train.isna().sum()"
   ]
  },
  {
   "cell_type": "markdown",
   "metadata": {},
   "source": [
    "---\n",
    "Para dados de teste"
   ]
  },
  {
   "cell_type": "code",
   "execution_count": 185,
   "metadata": {},
   "outputs": [],
   "source": [
    "# Assumindo que o número de dependentes em branco é zero.\n",
    "data_test['numero_de_dependentes'] = data_test['numero_de_dependentes'].fillna(0)"
   ]
  },
  {
   "cell_type": "code",
   "execution_count": 187,
   "metadata": {},
   "outputs": [],
   "source": [
    "# Utilizando o KNNImputer para preencher os dados de salário faltantes.\n",
    "imputer = KNNImputer(n_neighbors=3)\n",
    "data_test_knn = pd.DataFrame(imputer.fit_transform(data_test), columns=data_test.columns)"
   ]
  },
  {
   "cell_type": "code",
   "execution_count": 188,
   "metadata": {},
   "outputs": [],
   "source": [
    "data_test['salario_mensal'] = data_test_knn['salario_mensal']"
   ]
  },
  {
   "cell_type": "code",
   "execution_count": 189,
   "metadata": {},
   "outputs": [
    {
     "data": {
      "text/plain": [
       "cliente                                  0\n",
       "util_linhas_inseguras                    0\n",
       "idade                                    0\n",
       "vezes_passou_de_30_59_dias               0\n",
       "razao_debito                             0\n",
       "salario_mensal                           0\n",
       "numero_linhas_crdto_aberto               0\n",
       "numero_vezes_passou_90_dias              0\n",
       "numero_emprestimos_imobiliarios          0\n",
       "numero_de_vezes_que_passou_60_89_dias    0\n",
       "numero_de_dependentes                    0\n",
       "dtype: int64"
      ]
     },
     "execution_count": 189,
     "metadata": {},
     "output_type": "execute_result"
    }
   ],
   "source": [
    "data_test.isna().sum()"
   ]
  },
  {
   "cell_type": "markdown",
   "metadata": {},
   "source": [
    "## Análises de features pré-treino\n",
    "\n",
    "Plotando gráficos de barra e box para cada feature. Para features com grande variação de dados, plotaremos apenas boxplot. \n",
    "\n",
    "---"
   ]
  },
  {
   "cell_type": "code",
   "execution_count": 190,
   "metadata": {},
   "outputs": [],
   "source": [
    "# função para agilizar o plot em barras\n",
    "\n",
    "def plot_bar (df, feature):\n",
    "    df_aux = df.groupby([feature, 'inadimplente']).agg(n=('cliente', 'count')).unstack().droplevel(level=0, axis=1)\n",
    "\n",
    "    fig, ax = plt.subplots(figsize=(20,5))\n",
    "    ax.bar(x=df_aux.index, height=df_aux[0], log=True, color='#2984E0')\n",
    "    ax.bar(x=df_aux.index, height=df_aux[1], log=True, color='#FF6C00')\n",
    "\n",
    "    ax.legend(['Adimplente', 'Inadimplente'])\n",
    "    ax.grid(axis='y', color='k', linestyle=':')\n",
    "    plt.show()"
   ]
  },
  {
   "cell_type": "code",
   "execution_count": 191,
   "metadata": {},
   "outputs": [],
   "source": [
    "# função para agilizar o plot de box-and-whiskers\n",
    "\n",
    "def plot_box (df, feature, logscale=True):\n",
    "    data = [df.query('inadimplente == 0')[feature], df.query('inadimplente == 1')[feature]]\n",
    "\n",
    "    fig, ax = plt.subplots(figsize=(15,5))\n",
    "    if logscale:\n",
    "        ax.set_yscale('symlog', linthresh=1)\n",
    "    ax.boxplot(data, labels=['Adimplente', 'Inadimplente'])\n",
    "    ax.grid(axis='y', linestyle=':')\n",
    "    plt.show()"
   ]
  },
  {
   "cell_type": "markdown",
   "metadata": {},
   "source": [
    "1. Inadimplente\n",
    "---"
   ]
  },
  {
   "cell_type": "code",
   "execution_count": 192,
   "metadata": {},
   "outputs": [
    {
     "data": {
      "image/png": "[encoded data removed]",
      "text/plain": [
       "<Figure size 1440x360 with 1 Axes>"
      ]
     },
     "metadata": {
      "needs_background": "light"
     },
     "output_type": "display_data"
    }
   ],
   "source": [
    "plot_bar(data_train, 'inadimplente')"
   ]
  },
  {
   "cell_type": "markdown",
   "metadata": {},
   "source": [
    "2. util_linhas_inseguras\n",
    "---"
   ]
  },
  {
   "cell_type": "code",
   "execution_count": 193,
   "metadata": {},
   "outputs": [
    {
     "data": {
      "text/plain": [
       "0.000000    7983\n",
       "1.000000    7585\n",
       "1.000000      12\n",
       "0.850299       5\n",
       "0.954092       5\n",
       "            ... \n",
       "0.156209       1\n",
       "0.045194       1\n",
       "0.122282       1\n",
       "0.528319       1\n",
       "0.037699       1\n",
       "Name: util_linhas_inseguras, Length: 92671, dtype: int64"
      ]
     },
     "execution_count": 193,
     "metadata": {},
     "output_type": "execute_result"
    }
   ],
   "source": [
    "data_train.util_linhas_inseguras.value_counts()"
   ]
  },
  {
   "cell_type": "code",
   "execution_count": 194,
   "metadata": {},
   "outputs": [
    {
     "data": {
      "image/png": "[encoded data removed]",
      "text/plain": [
       "<Figure size 1080x360 with 1 Axes>"
      ]
     },
     "metadata": {
      "needs_background": "light"
     },
     "output_type": "display_data"
    }
   ],
   "source": [
    "plot_box(data_train, 'util_linhas_inseguras')"
   ]
  },
  {
   "cell_type": "markdown",
   "metadata": {},
   "source": [
    "3. idade\n",
    "---"
   ]
  },
  {
   "cell_type": "code",
   "execution_count": 195,
   "metadata": {},
   "outputs": [
    {
     "data": {
      "text/plain": [
       "48     2794\n",
       "49     2788\n",
       "46     2759\n",
       "47     2718\n",
       "50     2709\n",
       "       ... \n",
       "103       2\n",
       "107       1\n",
       "105       1\n",
       "0         1\n",
       "109       1\n",
       "Name: idade, Length: 86, dtype: int64"
      ]
     },
     "execution_count": 195,
     "metadata": {},
     "output_type": "execute_result"
    }
   ],
   "source": [
    "data_train.idade.value_counts()"
   ]
  },
  {
   "cell_type": "code",
   "execution_count": 196,
   "metadata": {},
   "outputs": [
    {
     "data": {
      "image/png": "[encoded data removed]",
      "text/plain": [
       "<Figure size 1440x360 with 1 Axes>"
      ]
     },
     "metadata": {
      "needs_background": "light"
     },
     "output_type": "display_data"
    }
   ],
   "source": [
    "plot_bar(data_train, 'idade')"
   ]
  },
  {
   "cell_type": "markdown",
   "metadata": {},
   "source": [
    "3. vezes_passou_de_30_59_dias\n",
    "---"
   ]
  },
  {
   "cell_type": "code",
   "execution_count": 197,
   "metadata": {},
   "outputs": [
    {
     "data": {
      "text/plain": [
       "0     92469\n",
       "1     11726\n",
       "2      3343\n",
       "3      1304\n",
       "4       541\n",
       "5       246\n",
       "98      198\n",
       "6        98\n",
       "7        41\n",
       "8        17\n",
       "9         8\n",
       "96        4\n",
       "10        2\n",
       "12        2\n",
       "13        1\n",
       "Name: vezes_passou_de_30_59_dias, dtype: int64"
      ]
     },
     "execution_count": 197,
     "metadata": {},
     "output_type": "execute_result"
    }
   ],
   "source": [
    "data_train.vezes_passou_de_30_59_dias.value_counts()"
   ]
  },
  {
   "cell_type": "code",
   "execution_count": 198,
   "metadata": {},
   "outputs": [
    {
     "data": {
      "image/png": "[encoded data removed]",
      "text/plain": [
       "<Figure size 1440x360 with 1 Axes>"
      ]
     },
     "metadata": {
      "needs_background": "light"
     },
     "output_type": "display_data"
    }
   ],
   "source": [
    "plot_bar(data_train, 'vezes_passou_de_30_59_dias')"
   ]
  },
  {
   "cell_type": "markdown",
   "metadata": {},
   "source": [
    "4. razao_debito\n",
    "---"
   ]
  },
  {
   "cell_type": "code",
   "execution_count": 199,
   "metadata": {},
   "outputs": [
    {
     "data": {
      "text/plain": [
       "0.000000    3030\n",
       "1.000000     171\n",
       "3.000000     130\n",
       "4.000000     124\n",
       "2.000000     114\n",
       "            ... \n",
       "0.307381       1\n",
       "0.460192       1\n",
       "0.731127       1\n",
       "0.310922       1\n",
       "0.002352       1\n",
       "Name: razao_debito, Length: 86002, dtype: int64"
      ]
     },
     "execution_count": 199,
     "metadata": {},
     "output_type": "execute_result"
    }
   ],
   "source": [
    "data_train.razao_debito.value_counts()"
   ]
  },
  {
   "cell_type": "code",
   "execution_count": 200,
   "metadata": {},
   "outputs": [
    {
     "data": {
      "image/png": "[encoded data removed]",
      "text/plain": [
       "<Figure size 1080x360 with 1 Axes>"
      ]
     },
     "metadata": {
      "needs_background": "light"
     },
     "output_type": "display_data"
    }
   ],
   "source": [
    "plot_box(data_train, 'razao_debito')"
   ]
  },
  {
   "cell_type": "markdown",
   "metadata": {},
   "source": [
    "5. salario_mensal\n",
    "---"
   ]
  },
  {
   "cell_type": "code",
   "execution_count": 201,
   "metadata": {},
   "outputs": [
    {
     "data": {
      "text/plain": [
       "0.000000        8404\n",
       "0.333333        5192\n",
       "0.666667        2081\n",
       "5000.000000     2038\n",
       "4000.000000     1608\n",
       "                ... \n",
       "6468.666667        1\n",
       "14226.000000       1\n",
       "16035.000000       1\n",
       "394.000000         1\n",
       "12224.000000       1\n",
       "Name: salario_mensal, Length: 16136, dtype: int64"
      ]
     },
     "execution_count": 201,
     "metadata": {},
     "output_type": "execute_result"
    }
   ],
   "source": [
    "data_train.salario_mensal.value_counts()"
   ]
  },
  {
   "cell_type": "code",
   "execution_count": 202,
   "metadata": {},
   "outputs": [
    {
     "data": {
      "image/png": "[encoded data removed]",
      "text/plain": [
       "<Figure size 1080x360 with 1 Axes>"
      ]
     },
     "metadata": {
      "needs_background": "light"
     },
     "output_type": "display_data"
    }
   ],
   "source": [
    "plot_box(data_train, 'salario_mensal', logscale=False)"
   ]
  },
  {
   "cell_type": "markdown",
   "metadata": {},
   "source": [
    "6. numero_linhas_crdto_aberto\n",
    "---"
   ]
  },
  {
   "cell_type": "code",
   "execution_count": 21,
   "metadata": {},
   "outputs": [
    {
     "data": {
      "text/plain": [
       "6     9988\n",
       "7     9675\n",
       "5     9521\n",
       "8     9171\n",
       "4     8512\n",
       "9     8240\n",
       "10    7095\n",
       "3     6652\n",
       "11    6107\n",
       "12    5122\n",
       "2     4915\n",
       "13    4163\n",
       "14    3373\n",
       "1     3252\n",
       "15    2661\n",
       "16    2173\n",
       "17    1738\n",
       "18    1428\n",
       "0     1419\n",
       "19    1037\n",
       "20     847\n",
       "21     649\n",
       "22     522\n",
       "23     394\n",
       "24     313\n",
       "25     221\n",
       "26     164\n",
       "27     138\n",
       "28     111\n",
       "29      91\n",
       "30      62\n",
       "31      58\n",
       "32      37\n",
       "33      31\n",
       "34      21\n",
       "36      17\n",
       "35      13\n",
       "38      11\n",
       "40       8\n",
       "37       5\n",
       "45       5\n",
       "48       5\n",
       "54       4\n",
       "43       4\n",
       "42       4\n",
       "39       3\n",
       "46       3\n",
       "41       3\n",
       "56       2\n",
       "49       2\n",
       "52       2\n",
       "51       2\n",
       "44       2\n",
       "58       1\n",
       "57       1\n",
       "47       1\n",
       "50       1\n",
       "Name: numero_linhas_crdto_aberto, dtype: int64"
      ]
     },
     "execution_count": 21,
     "metadata": {},
     "output_type": "execute_result"
    }
   ],
   "source": [
    "data_train.numero_linhas_crdto_aberto.value_counts()"
   ]
  },
  {
   "cell_type": "code",
   "execution_count": 22,
   "metadata": {},
   "outputs": [
    {
     "data": {
      "image/png": "[encoded data removed]",
      "text/plain": [
       "<Figure size 1080x360 with 1 Axes>"
      ]
     },
     "metadata": {
      "needs_background": "light"
     },
     "output_type": "display_data"
    }
   ],
   "source": [
    "plot_box(data_train, 'numero_linhas_crdto_aberto')"
   ]
  },
  {
   "cell_type": "markdown",
   "metadata": {},
   "source": [
    "7. numero_vezes_passou_90_dias\n",
    "---"
   ]
  },
  {
   "cell_type": "code",
   "execution_count": 23,
   "metadata": {},
   "outputs": [
    {
     "data": {
      "text/plain": [
       "0     103836\n",
       "1       3886\n",
       "2       1160\n",
       "3        486\n",
       "4        204\n",
       "98       198\n",
       "5        103\n",
       "6         58\n",
       "7         21\n",
       "8         16\n",
       "9         15\n",
       "10         6\n",
       "96         4\n",
       "11         2\n",
       "13         2\n",
       "15         1\n",
       "14         1\n",
       "17         1\n",
       "Name: numero_vezes_passou_90_dias, dtype: int64"
      ]
     },
     "execution_count": 23,
     "metadata": {},
     "output_type": "execute_result"
    }
   ],
   "source": [
    "data_train.numero_vezes_passou_90_dias.value_counts()"
   ]
  },
  {
   "cell_type": "code",
   "execution_count": 24,
   "metadata": {},
   "outputs": [
    {
     "data": {
      "image/png": "[encoded data removed]",
      "text/plain": [
       "<Figure size 1440x360 with 1 Axes>"
      ]
     },
     "metadata": {
      "needs_background": "light"
     },
     "output_type": "display_data"
    }
   ],
   "source": [
    "plot_bar(data_train, 'numero_vezes_passou_90_dias')"
   ]
  },
  {
   "cell_type": "code",
   "execution_count": 25,
   "metadata": {},
   "outputs": [
    {
     "data": {
      "image/png": "[encoded data removed]",
      "text/plain": [
       "<Figure size 1080x360 with 1 Axes>"
      ]
     },
     "metadata": {
      "needs_background": "light"
     },
     "output_type": "display_data"
    }
   ],
   "source": [
    "plot_box(data_train, 'numero_vezes_passou_90_dias')"
   ]
  },
  {
   "cell_type": "markdown",
   "metadata": {},
   "source": [
    "8. numero_emprestimos_imobiliarios\n",
    "---"
   ]
  },
  {
   "cell_type": "code",
   "execution_count": 26,
   "metadata": {},
   "outputs": [
    {
     "data": {
      "text/plain": [
       "0     41159\n",
       "1     38354\n",
       "2     23161\n",
       "3      4644\n",
       "4      1601\n",
       "5       496\n",
       "6       237\n",
       "7       126\n",
       "8        67\n",
       "9        58\n",
       "10       29\n",
       "11       15\n",
       "13       13\n",
       "12       10\n",
       "14        6\n",
       "15        5\n",
       "17        4\n",
       "16        3\n",
       "23        2\n",
       "25        2\n",
       "26        1\n",
       "54        1\n",
       "21        1\n",
       "18        1\n",
       "29        1\n",
       "19        1\n",
       "20        1\n",
       "32        1\n",
       "Name: numero_emprestimos_imobiliarios, dtype: int64"
      ]
     },
     "execution_count": 26,
     "metadata": {},
     "output_type": "execute_result"
    }
   ],
   "source": [
    "data_train.numero_emprestimos_imobiliarios.value_counts()"
   ]
  },
  {
   "cell_type": "code",
   "execution_count": 27,
   "metadata": {},
   "outputs": [
    {
     "data": {
      "image/png": "[encoded data removed]",
      "text/plain": [
       "<Figure size 1440x360 with 1 Axes>"
      ]
     },
     "metadata": {
      "needs_background": "light"
     },
     "output_type": "display_data"
    }
   ],
   "source": [
    "plot_bar(data_train, 'numero_emprestimos_imobiliarios')"
   ]
  },
  {
   "cell_type": "code",
   "execution_count": 28,
   "metadata": {},
   "outputs": [
    {
     "data": {
      "image/png": "[encoded data removed]",
      "text/plain": [
       "<Figure size 1080x360 with 1 Axes>"
      ]
     },
     "metadata": {
      "needs_background": "light"
     },
     "output_type": "display_data"
    }
   ],
   "source": [
    "plot_box(data_train, 'numero_emprestimos_imobiliarios')"
   ]
  },
  {
   "cell_type": "markdown",
   "metadata": {},
   "source": [
    "9. numero_de_vezes_que_passou_60_89_dias\n",
    "---"
   ]
  },
  {
   "cell_type": "code",
   "execution_count": 29,
   "metadata": {},
   "outputs": [
    {
     "data": {
      "text/plain": [
       "0     104466\n",
       "1       4169\n",
       "2        825\n",
       "3        222\n",
       "98       198\n",
       "4         67\n",
       "5         26\n",
       "6         12\n",
       "7          7\n",
       "96         4\n",
       "8          2\n",
       "11         1\n",
       "9          1\n",
       "Name: numero_de_vezes_que_passou_60_89_dias, dtype: int64"
      ]
     },
     "execution_count": 29,
     "metadata": {},
     "output_type": "execute_result"
    }
   ],
   "source": [
    "data_train.numero_de_vezes_que_passou_60_89_dias.value_counts()"
   ]
  },
  {
   "cell_type": "code",
   "execution_count": 30,
   "metadata": {},
   "outputs": [
    {
     "data": {
      "image/png": "[encoded data removed]",
      "text/plain": [
       "<Figure size 1440x360 with 1 Axes>"
      ]
     },
     "metadata": {
      "needs_background": "light"
     },
     "output_type": "display_data"
    }
   ],
   "source": [
    "plot_bar(data_train, 'numero_de_vezes_que_passou_60_89_dias')"
   ]
  },
  {
   "cell_type": "code",
   "execution_count": 31,
   "metadata": {},
   "outputs": [
    {
     "data": {
      "image/png": "[encoded data removed]",
      "text/plain": [
       "<Figure size 1080x360 with 1 Axes>"
      ]
     },
     "metadata": {
      "needs_background": "light"
     },
     "output_type": "display_data"
    }
   ],
   "source": [
    "plot_box(data_train, 'numero_de_vezes_que_passou_60_89_dias')"
   ]
  },
  {
   "cell_type": "markdown",
   "metadata": {},
   "source": [
    "10. numero_de_dependentes\n",
    "---"
   ]
  },
  {
   "cell_type": "code",
   "execution_count": 203,
   "metadata": {},
   "outputs": [
    {
     "data": {
      "text/plain": [
       "0.0     66530\n",
       "1.0     19416\n",
       "2.0     14306\n",
       "3.0      6898\n",
       "4.0      2111\n",
       "5.0       563\n",
       "6.0       115\n",
       "7.0        38\n",
       "8.0        16\n",
       "10.0        4\n",
       "9.0         2\n",
       "20.0        1\n",
       "Name: numero_de_dependentes, dtype: int64"
      ]
     },
     "execution_count": 203,
     "metadata": {},
     "output_type": "execute_result"
    }
   ],
   "source": [
    "data_train.numero_de_dependentes.value_counts()"
   ]
  },
  {
   "cell_type": "code",
   "execution_count": 204,
   "metadata": {},
   "outputs": [
    {
     "data": {
      "image/png": "[encoded data removed]",
      "text/plain": [
       "<Figure size 1440x360 with 1 Axes>"
      ]
     },
     "metadata": {
      "needs_background": "light"
     },
     "output_type": "display_data"
    }
   ],
   "source": [
    "plot_bar(data_train, 'numero_de_dependentes')"
   ]
  },
  {
   "cell_type": "markdown",
   "metadata": {},
   "source": [
    "---\n",
    "## Matriz de Correlação\n",
    "---"
   ]
  },
  {
   "cell_type": "code",
   "execution_count": 34,
   "metadata": {},
   "outputs": [
    {
     "data": {
      "text/html": [
       "<div>\n",
       "<style scoped>\n",
       "    .dataframe tbody tr th:only-of-type {\n",
       "        vertical-align: middle;\n",
       "    }\n",
       "\n",
       "    .dataframe tbody tr th {\n",
       "        vertical-align: top;\n",
       "    }\n",
       "\n",
       "    .dataframe thead th {\n",
       "        text-align: right;\n",
       "    }\n",
       "</style>\n",
       "<table border=\"1\" class=\"dataframe\">\n",
       "  <thead>\n",
       "    <tr style=\"text-align: right;\">\n",
       "      <th></th>\n",
       "      <th>cliente</th>\n",
       "      <th>inadimplente</th>\n",
       "      <th>util_linhas_inseguras</th>\n",
       "      <th>idade</th>\n",
       "      <th>vezes_passou_de_30_59_dias</th>\n",
       "      <th>razao_debito</th>\n",
       "      <th>salario_mensal</th>\n",
       "      <th>numero_linhas_crdto_aberto</th>\n",
       "      <th>numero_vezes_passou_90_dias</th>\n",
       "      <th>numero_emprestimos_imobiliarios</th>\n",
       "      <th>numero_de_vezes_que_passou_60_89_dias</th>\n",
       "      <th>numero_de_dependentes</th>\n",
       "    </tr>\n",
       "  </thead>\n",
       "  <tbody>\n",
       "    <tr>\n",
       "      <th>cliente</th>\n",
       "      <td>1.000000</td>\n",
       "      <td>0.001944</td>\n",
       "      <td>0.002623</td>\n",
       "      <td>0.002049</td>\n",
       "      <td>0.000015</td>\n",
       "      <td>-0.002968</td>\n",
       "      <td>0.001255</td>\n",
       "      <td>0.005613</td>\n",
       "      <td>-0.000349</td>\n",
       "      <td>0.002563</td>\n",
       "      <td>-0.000087</td>\n",
       "      <td>-0.000810</td>\n",
       "    </tr>\n",
       "    <tr>\n",
       "      <th>inadimplente</th>\n",
       "      <td>0.001944</td>\n",
       "      <td>1.000000</td>\n",
       "      <td>-0.003263</td>\n",
       "      <td>-0.114281</td>\n",
       "      <td>0.124546</td>\n",
       "      <td>-0.006534</td>\n",
       "      <td>-0.020271</td>\n",
       "      <td>-0.029332</td>\n",
       "      <td>0.116023</td>\n",
       "      <td>-0.008144</td>\n",
       "      <td>0.101536</td>\n",
       "      <td>0.043079</td>\n",
       "    </tr>\n",
       "    <tr>\n",
       "      <th>util_linhas_inseguras</th>\n",
       "      <td>0.002623</td>\n",
       "      <td>-0.003263</td>\n",
       "      <td>1.000000</td>\n",
       "      <td>-0.004444</td>\n",
       "      <td>-0.001336</td>\n",
       "      <td>0.001255</td>\n",
       "      <td>0.008203</td>\n",
       "      <td>-0.010120</td>\n",
       "      <td>-0.001154</td>\n",
       "      <td>0.007590</td>\n",
       "      <td>-0.001105</td>\n",
       "      <td>-0.000986</td>\n",
       "    </tr>\n",
       "    <tr>\n",
       "      <th>idade</th>\n",
       "      <td>0.002049</td>\n",
       "      <td>-0.114281</td>\n",
       "      <td>-0.004444</td>\n",
       "      <td>1.000000</td>\n",
       "      <td>-0.063230</td>\n",
       "      <td>0.025221</td>\n",
       "      <td>0.040922</td>\n",
       "      <td>0.148640</td>\n",
       "      <td>-0.061371</td>\n",
       "      <td>0.032920</td>\n",
       "      <td>-0.057604</td>\n",
       "      <td>-0.212194</td>\n",
       "    </tr>\n",
       "    <tr>\n",
       "      <th>vezes_passou_de_30_59_dias</th>\n",
       "      <td>0.000015</td>\n",
       "      <td>0.124546</td>\n",
       "      <td>-0.001336</td>\n",
       "      <td>-0.063230</td>\n",
       "      <td>1.000000</td>\n",
       "      <td>-0.006860</td>\n",
       "      <td>-0.010939</td>\n",
       "      <td>-0.056347</td>\n",
       "      <td>0.984157</td>\n",
       "      <td>-0.031093</td>\n",
       "      <td>0.987377</td>\n",
       "      <td>-0.003183</td>\n",
       "    </tr>\n",
       "    <tr>\n",
       "      <th>razao_debito</th>\n",
       "      <td>-0.002968</td>\n",
       "      <td>-0.006534</td>\n",
       "      <td>0.001255</td>\n",
       "      <td>0.025221</td>\n",
       "      <td>-0.006860</td>\n",
       "      <td>1.000000</td>\n",
       "      <td>-0.033734</td>\n",
       "      <td>0.047158</td>\n",
       "      <td>-0.008344</td>\n",
       "      <td>0.117054</td>\n",
       "      <td>-0.007558</td>\n",
       "      <td>-0.042631</td>\n",
       "    </tr>\n",
       "    <tr>\n",
       "      <th>salario_mensal</th>\n",
       "      <td>0.001255</td>\n",
       "      <td>-0.020271</td>\n",
       "      <td>0.008203</td>\n",
       "      <td>0.040922</td>\n",
       "      <td>-0.010939</td>\n",
       "      <td>-0.033734</td>\n",
       "      <td>1.000000</td>\n",
       "      <td>0.096490</td>\n",
       "      <td>-0.013725</td>\n",
       "      <td>0.133508</td>\n",
       "      <td>-0.012404</td>\n",
       "      <td>0.066444</td>\n",
       "    </tr>\n",
       "    <tr>\n",
       "      <th>numero_linhas_crdto_aberto</th>\n",
       "      <td>0.005613</td>\n",
       "      <td>-0.029332</td>\n",
       "      <td>-0.010120</td>\n",
       "      <td>0.148640</td>\n",
       "      <td>-0.056347</td>\n",
       "      <td>0.047158</td>\n",
       "      <td>0.096490</td>\n",
       "      <td>1.000000</td>\n",
       "      <td>-0.080873</td>\n",
       "      <td>0.433337</td>\n",
       "      <td>-0.071979</td>\n",
       "      <td>0.065191</td>\n",
       "    </tr>\n",
       "    <tr>\n",
       "      <th>numero_vezes_passou_90_dias</th>\n",
       "      <td>-0.000349</td>\n",
       "      <td>0.116023</td>\n",
       "      <td>-0.001154</td>\n",
       "      <td>-0.061371</td>\n",
       "      <td>0.984157</td>\n",
       "      <td>-0.008344</td>\n",
       "      <td>-0.013725</td>\n",
       "      <td>-0.080873</td>\n",
       "      <td>1.000000</td>\n",
       "      <td>-0.045902</td>\n",
       "      <td>0.993162</td>\n",
       "      <td>-0.011052</td>\n",
       "    </tr>\n",
       "    <tr>\n",
       "      <th>numero_emprestimos_imobiliarios</th>\n",
       "      <td>0.002563</td>\n",
       "      <td>-0.008144</td>\n",
       "      <td>0.007590</td>\n",
       "      <td>0.032920</td>\n",
       "      <td>-0.031093</td>\n",
       "      <td>0.117054</td>\n",
       "      <td>0.133508</td>\n",
       "      <td>0.433337</td>\n",
       "      <td>-0.045902</td>\n",
       "      <td>1.000000</td>\n",
       "      <td>-0.039987</td>\n",
       "      <td>0.122481</td>\n",
       "    </tr>\n",
       "    <tr>\n",
       "      <th>numero_de_vezes_que_passou_60_89_dias</th>\n",
       "      <td>-0.000087</td>\n",
       "      <td>0.101536</td>\n",
       "      <td>-0.001105</td>\n",
       "      <td>-0.057604</td>\n",
       "      <td>0.987377</td>\n",
       "      <td>-0.007558</td>\n",
       "      <td>-0.012404</td>\n",
       "      <td>-0.071979</td>\n",
       "      <td>0.993162</td>\n",
       "      <td>-0.039987</td>\n",
       "      <td>1.000000</td>\n",
       "      <td>-0.011660</td>\n",
       "    </tr>\n",
       "    <tr>\n",
       "      <th>numero_de_dependentes</th>\n",
       "      <td>-0.000810</td>\n",
       "      <td>0.043079</td>\n",
       "      <td>-0.000986</td>\n",
       "      <td>-0.212194</td>\n",
       "      <td>-0.003183</td>\n",
       "      <td>-0.042631</td>\n",
       "      <td>0.066444</td>\n",
       "      <td>0.065191</td>\n",
       "      <td>-0.011052</td>\n",
       "      <td>0.122481</td>\n",
       "      <td>-0.011660</td>\n",
       "      <td>1.000000</td>\n",
       "    </tr>\n",
       "  </tbody>\n",
       "</table>\n",
       "</div>"
      ],
      "text/plain": [
       "                                        cliente  inadimplente  \\\n",
       "cliente                                1.000000      0.001944   \n",
       "inadimplente                           0.001944      1.000000   \n",
       "util_linhas_inseguras                  0.002623     -0.003263   \n",
       "idade                                  0.002049     -0.114281   \n",
       "vezes_passou_de_30_59_dias             0.000015      0.124546   \n",
       "razao_debito                          -0.002968     -0.006534   \n",
       "salario_mensal                         0.001255     -0.020271   \n",
       "numero_linhas_crdto_aberto             0.005613     -0.029332   \n",
       "numero_vezes_passou_90_dias           -0.000349      0.116023   \n",
       "numero_emprestimos_imobiliarios        0.002563     -0.008144   \n",
       "numero_de_vezes_que_passou_60_89_dias -0.000087      0.101536   \n",
       "numero_de_dependentes                 -0.000810      0.043079   \n",
       "\n",
       "                                       util_linhas_inseguras     idade  \\\n",
       "cliente                                             0.002623  0.002049   \n",
       "inadimplente                                       -0.003263 -0.114281   \n",
       "util_linhas_inseguras                               1.000000 -0.004444   \n",
       "idade                                              -0.004444  1.000000   \n",
       "vezes_passou_de_30_59_dias                         -0.001336 -0.063230   \n",
       "razao_debito                                        0.001255  0.025221   \n",
       "salario_mensal                                      0.008203  0.040922   \n",
       "numero_linhas_crdto_aberto                         -0.010120  0.148640   \n",
       "numero_vezes_passou_90_dias                        -0.001154 -0.061371   \n",
       "numero_emprestimos_imobiliarios                     0.007590  0.032920   \n",
       "numero_de_vezes_que_passou_60_89_dias              -0.001105 -0.057604   \n",
       "numero_de_dependentes                              -0.000986 -0.212194   \n",
       "\n",
       "                                       vezes_passou_de_30_59_dias  \\\n",
       "cliente                                                  0.000015   \n",
       "inadimplente                                             0.124546   \n",
       "util_linhas_inseguras                                   -0.001336   \n",
       "idade                                                   -0.063230   \n",
       "vezes_passou_de_30_59_dias                               1.000000   \n",
       "razao_debito                                            -0.006860   \n",
       "salario_mensal                                          -0.010939   \n",
       "numero_linhas_crdto_aberto                              -0.056347   \n",
       "numero_vezes_passou_90_dias                              0.984157   \n",
       "numero_emprestimos_imobiliarios                         -0.031093   \n",
       "numero_de_vezes_que_passou_60_89_dias                    0.987377   \n",
       "numero_de_dependentes                                   -0.003183   \n",
       "\n",
       "                                       razao_debito  salario_mensal  \\\n",
       "cliente                                   -0.002968        0.001255   \n",
       "inadimplente                              -0.006534       -0.020271   \n",
       "util_linhas_inseguras                      0.001255        0.008203   \n",
       "idade                                      0.025221        0.040922   \n",
       "vezes_passou_de_30_59_dias                -0.006860       -0.010939   \n",
       "razao_debito                               1.000000       -0.033734   \n",
       "salario_mensal                            -0.033734        1.000000   \n",
       "numero_linhas_crdto_aberto                 0.047158        0.096490   \n",
       "numero_vezes_passou_90_dias               -0.008344       -0.013725   \n",
       "numero_emprestimos_imobiliarios            0.117054        0.133508   \n",
       "numero_de_vezes_que_passou_60_89_dias     -0.007558       -0.012404   \n",
       "numero_de_dependentes                     -0.042631        0.066444   \n",
       "\n",
       "                                       numero_linhas_crdto_aberto  \\\n",
       "cliente                                                  0.005613   \n",
       "inadimplente                                            -0.029332   \n",
       "util_linhas_inseguras                                   -0.010120   \n",
       "idade                                                    0.148640   \n",
       "vezes_passou_de_30_59_dias                              -0.056347   \n",
       "razao_debito                                             0.047158   \n",
       "salario_mensal                                           0.096490   \n",
       "numero_linhas_crdto_aberto                               1.000000   \n",
       "numero_vezes_passou_90_dias                             -0.080873   \n",
       "numero_emprestimos_imobiliarios                          0.433337   \n",
       "numero_de_vezes_que_passou_60_89_dias                   -0.071979   \n",
       "numero_de_dependentes                                    0.065191   \n",
       "\n",
       "                                       numero_vezes_passou_90_dias  \\\n",
       "cliente                                                  -0.000349   \n",
       "inadimplente                                              0.116023   \n",
       "util_linhas_inseguras                                    -0.001154   \n",
       "idade                                                    -0.061371   \n",
       "vezes_passou_de_30_59_dias                                0.984157   \n",
       "razao_debito                                             -0.008344   \n",
       "salario_mensal                                           -0.013725   \n",
       "numero_linhas_crdto_aberto                               -0.080873   \n",
       "numero_vezes_passou_90_dias                               1.000000   \n",
       "numero_emprestimos_imobiliarios                          -0.045902   \n",
       "numero_de_vezes_que_passou_60_89_dias                     0.993162   \n",
       "numero_de_dependentes                                    -0.011052   \n",
       "\n",
       "                                       numero_emprestimos_imobiliarios  \\\n",
       "cliente                                                       0.002563   \n",
       "inadimplente                                                 -0.008144   \n",
       "util_linhas_inseguras                                         0.007590   \n",
       "idade                                                         0.032920   \n",
       "vezes_passou_de_30_59_dias                                   -0.031093   \n",
       "razao_debito                                                  0.117054   \n",
       "salario_mensal                                                0.133508   \n",
       "numero_linhas_crdto_aberto                                    0.433337   \n",
       "numero_vezes_passou_90_dias                                  -0.045902   \n",
       "numero_emprestimos_imobiliarios                               1.000000   \n",
       "numero_de_vezes_que_passou_60_89_dias                        -0.039987   \n",
       "numero_de_dependentes                                         0.122481   \n",
       "\n",
       "                                       numero_de_vezes_que_passou_60_89_dias  \\\n",
       "cliente                                                            -0.000087   \n",
       "inadimplente                                                        0.101536   \n",
       "util_linhas_inseguras                                              -0.001105   \n",
       "idade                                                              -0.057604   \n",
       "vezes_passou_de_30_59_dias                                          0.987377   \n",
       "razao_debito                                                       -0.007558   \n",
       "salario_mensal                                                     -0.012404   \n",
       "numero_linhas_crdto_aberto                                         -0.071979   \n",
       "numero_vezes_passou_90_dias                                         0.993162   \n",
       "numero_emprestimos_imobiliarios                                    -0.039987   \n",
       "numero_de_vezes_que_passou_60_89_dias                               1.000000   \n",
       "numero_de_dependentes                                              -0.011660   \n",
       "\n",
       "                                       numero_de_dependentes  \n",
       "cliente                                            -0.000810  \n",
       "inadimplente                                        0.043079  \n",
       "util_linhas_inseguras                              -0.000986  \n",
       "idade                                              -0.212194  \n",
       "vezes_passou_de_30_59_dias                         -0.003183  \n",
       "razao_debito                                       -0.042631  \n",
       "salario_mensal                                      0.066444  \n",
       "numero_linhas_crdto_aberto                          0.065191  \n",
       "numero_vezes_passou_90_dias                        -0.011052  \n",
       "numero_emprestimos_imobiliarios                     0.122481  \n",
       "numero_de_vezes_que_passou_60_89_dias              -0.011660  \n",
       "numero_de_dependentes                               1.000000  "
      ]
     },
     "execution_count": 34,
     "metadata": {},
     "output_type": "execute_result"
    }
   ],
   "source": [
    "corr_matrix = data_train.corr()\n",
    "corr_matrix"
   ]
  },
  {
   "cell_type": "code",
   "execution_count": 35,
   "metadata": {},
   "outputs": [
    {
     "data": {
      "image/png": "[encoded data removed]",
      "text/plain": [
       "<Figure size 720x576 with 2 Axes>"
      ]
     },
     "metadata": {
      "needs_background": "light"
     },
     "output_type": "display_data"
    }
   ],
   "source": [
    "# melhor visualização\n",
    "f = plt.figure(figsize=(10, 8))\n",
    "plt.matshow(corr_matrix, fignum=f.number)\n",
    "plt.xticks(range(data_train.shape[1]), data_train.columns, fontsize=8, rotation=80)\n",
    "plt.yticks(range(data_train.shape[1]), data_train.columns, fontsize=8)\n",
    "colorbar = plt.colorbar()\n",
    "plt.show()"
   ]
  },
  {
   "cell_type": "code",
   "execution_count": 36,
   "metadata": {},
   "outputs": [
    {
     "data": {
      "text/plain": [
       "vezes_passou_de_30_59_dias               2\n",
       "numero_vezes_passou_90_dias              2\n",
       "numero_de_vezes_que_passou_60_89_dias    2\n",
       "dtype: int64"
      ]
     },
     "execution_count": 36,
     "metadata": {},
     "output_type": "execute_result"
    }
   ],
   "source": [
    "# verifica se há colunas com valor de correlação maior do que 0.8 em módulo\n",
    "corr_aux = ((data_train.corr() > abs(0.8)) & (data_train.corr() != 1)).sum()\n",
    "\n",
    "corr_aux[corr_aux > 0]"
   ]
  },
  {
   "cell_type": "code",
   "execution_count": 37,
   "metadata": {},
   "outputs": [],
   "source": [
    "# retorna as colunas e suas respectivas correlações em relação à coluna de entrada\n",
    "def return_high_corr (feature):\n",
    "    return corr_matrix.loc[feature][corr_matrix.loc[feature] > abs(0.8)]"
   ]
  },
  {
   "cell_type": "code",
   "execution_count": 38,
   "metadata": {},
   "outputs": [
    {
     "data": {
      "text/plain": [
       "vezes_passou_de_30_59_dias               1.000000\n",
       "numero_vezes_passou_90_dias              0.984157\n",
       "numero_de_vezes_que_passou_60_89_dias    0.987377\n",
       "Name: vezes_passou_de_30_59_dias, dtype: float64"
      ]
     },
     "execution_count": 38,
     "metadata": {},
     "output_type": "execute_result"
    }
   ],
   "source": [
    "return_high_corr('vezes_passou_de_30_59_dias')"
   ]
  },
  {
   "cell_type": "code",
   "execution_count": 39,
   "metadata": {},
   "outputs": [
    {
     "data": {
      "text/plain": [
       "vezes_passou_de_30_59_dias               0.984157\n",
       "numero_vezes_passou_90_dias              1.000000\n",
       "numero_de_vezes_que_passou_60_89_dias    0.993162\n",
       "Name: numero_vezes_passou_90_dias, dtype: float64"
      ]
     },
     "execution_count": 39,
     "metadata": {},
     "output_type": "execute_result"
    }
   ],
   "source": [
    "return_high_corr('numero_vezes_passou_90_dias')"
   ]
  },
  {
   "cell_type": "code",
   "execution_count": 40,
   "metadata": {},
   "outputs": [
    {
     "data": {
      "text/plain": [
       "vezes_passou_de_30_59_dias               0.987377\n",
       "numero_vezes_passou_90_dias              0.993162\n",
       "numero_de_vezes_que_passou_60_89_dias    1.000000\n",
       "Name: numero_de_vezes_que_passou_60_89_dias, dtype: float64"
      ]
     },
     "execution_count": 40,
     "metadata": {},
     "output_type": "execute_result"
    }
   ],
   "source": [
    "return_high_corr('numero_de_vezes_que_passou_60_89_dias')"
   ]
  },
  {
   "cell_type": "markdown",
   "metadata": {},
   "source": [
    "#### Sugestão de remoção devido à alta correlação:"
   ]
  },
  {
   "cell_type": "code",
   "execution_count": 41,
   "metadata": {},
   "outputs": [],
   "source": [
    "drop_features = []\n",
    "drop_features.extend(['numero_de_vezes_que_passou_60_89_dias', 'numero_vezes_passou_90_dias'])"
   ]
  },
  {
   "cell_type": "markdown",
   "metadata": {},
   "source": [
    "---\n",
    "## Testando Modelos\n",
    "---"
   ]
  },
  {
   "cell_type": "code",
   "execution_count": 48,
   "metadata": {},
   "outputs": [],
   "source": [
    "# remove as colunas desnecessárias\n",
    "X_train = data_train.drop(columns=drop_features)\n",
    "X_test = data_test.drop(columns=drop_features)\n",
    "\n",
    "y_train = X_train.pop('inadimplente').astype('int')"
   ]
  },
  {
   "cell_type": "code",
   "execution_count": 49,
   "metadata": {},
   "outputs": [],
   "source": [
    "random_state = 42"
   ]
  },
  {
   "cell_type": "code",
   "execution_count": 50,
   "metadata": {},
   "outputs": [],
   "source": [
    "# primeiros modelos a serem analisados\n",
    "models = {\n",
    "    \"Decision Tree\": DecisionTreeClassifier(random_state=random_state),\n",
    "    \"Random Forest\": RandomForestClassifier(random_state=random_state),\n",
    "    \"Xgboost\": xgb.XGBClassifier(random_state=random_state, use_label_encoder=False),\n",
    "    \"Lightgbm\": lgb.LGBMClassifier(random_state=random_state)\n",
    "}\n",
    "\n",
    "# métricas que serão avaliadas\n",
    "scores = {\n",
    "    \"recall\": \"recall\",\n",
    "    \"precision\": \"precision\",\n",
    "    \"f1\": \"f1\",\n",
    "    \"accuracy\": \"balanced_accuracy\",\n",
    "}"
   ]
  },
  {
   "cell_type": "code",
   "execution_count": 51,
   "metadata": {},
   "outputs": [
    {
     "name": "stdout",
     "output_type": "stream",
     "text": [
      "[23:43:35] WARNING: /home/conda/feedstock_root/build_artifacts/xgboost-split_1643226942235/work/src/learner.cc:1115: Starting in XGBoost 1.3.0, the default evaluation metric used with the objective 'binary:logistic' was changed from 'error' to 'logloss'. Explicitly set eval_metric if you'd like to restore the old behavior.\n"
     ]
    },
    {
     "name": "stderr",
     "output_type": "stream",
     "text": [
      "/home/laryssastephanie/anaconda3/lib/python3.8/site-packages/sklearn/metrics/_classification.py:1318: UndefinedMetricWarning: Precision is ill-defined and being set to 0.0 due to no predicted samples. Use `zero_division` parameter to control this behavior.\n",
      "  _warn_prf(average, modifier, msg_start, len(result))\n"
     ]
    },
    {
     "name": "stdout",
     "output_type": "stream",
     "text": [
      "[23:43:40] WARNING: /home/conda/feedstock_root/build_artifacts/xgboost-split_1643226942235/work/src/learner.cc:1115: Starting in XGBoost 1.3.0, the default evaluation metric used with the objective 'binary:logistic' was changed from 'error' to 'logloss'. Explicitly set eval_metric if you'd like to restore the old behavior.\n",
      "[23:43:48] WARNING: /home/conda/feedstock_root/build_artifacts/xgboost-split_1643226942235/work/src/learner.cc:1115: Starting in XGBoost 1.3.0, the default evaluation metric used with the objective 'binary:logistic' was changed from 'error' to 'logloss'. Explicitly set eval_metric if you'd like to restore the old behavior.\n",
      "[23:43:54] WARNING: /home/conda/feedstock_root/build_artifacts/xgboost-split_1643226942235/work/src/learner.cc:1115: Starting in XGBoost 1.3.0, the default evaluation metric used with the objective 'binary:logistic' was changed from 'error' to 'logloss'. Explicitly set eval_metric if you'd like to restore the old behavior.\n",
      "[23:44:00] WARNING: /home/conda/feedstock_root/build_artifacts/xgboost-split_1643226942235/work/src/learner.cc:1115: Starting in XGBoost 1.3.0, the default evaluation metric used with the objective 'binary:logistic' was changed from 'error' to 'logloss'. Explicitly set eval_metric if you'd like to restore the old behavior.\n"
     ]
    },
    {
     "name": "stderr",
     "output_type": "stream",
     "text": [
      "/home/laryssastephanie/anaconda3/lib/python3.8/site-packages/sklearn/metrics/_classification.py:1318: UndefinedMetricWarning: Precision is ill-defined and being set to 0.0 due to no predicted samples. Use `zero_division` parameter to control this behavior.\n",
      "  _warn_prf(average, modifier, msg_start, len(result))\n"
     ]
    }
   ],
   "source": [
    "# resultado das métricas, para cada modelo\n",
    "dic_metrics = {}\n",
    "\n",
    "for model_name, model in models.items():\n",
    "    clf = model\n",
    "    if model_name == 'Xgboost':\n",
    "        clf.fit(X_train, y_train, eval_metric='logloss')\n",
    "    else:\n",
    "        clf.fit(X_train, y_train)\n",
    "    resultados = cross_validate(model, X_train, y_train, scoring=scores, cv=5)\n",
    "    dic_metrics[model_name] = resultados"
   ]
  },
  {
   "cell_type": "code",
   "execution_count": 52,
   "metadata": {},
   "outputs": [
    {
     "data": {
      "text/html": [
       "<div>\n",
       "<style scoped>\n",
       "    .dataframe tbody tr th:only-of-type {\n",
       "        vertical-align: middle;\n",
       "    }\n",
       "\n",
       "    .dataframe tbody tr th {\n",
       "        vertical-align: top;\n",
       "    }\n",
       "\n",
       "    .dataframe thead tr th {\n",
       "        text-align: left;\n",
       "    }\n",
       "</style>\n",
       "<table border=\"1\" class=\"dataframe\">\n",
       "  <thead>\n",
       "    <tr>\n",
       "      <th></th>\n",
       "      <th colspan=\"6\" halign=\"left\">Decision Tree</th>\n",
       "      <th colspan=\"6\" halign=\"left\">Random Forest</th>\n",
       "      <th colspan=\"6\" halign=\"left\">Xgboost</th>\n",
       "      <th colspan=\"6\" halign=\"left\">Lightgbm</th>\n",
       "    </tr>\n",
       "    <tr>\n",
       "      <th></th>\n",
       "      <th>fit_time</th>\n",
       "      <th>score_time</th>\n",
       "      <th>test_recall</th>\n",
       "      <th>test_precision</th>\n",
       "      <th>test_f1</th>\n",
       "      <th>test_accuracy</th>\n",
       "      <th>fit_time</th>\n",
       "      <th>score_time</th>\n",
       "      <th>test_recall</th>\n",
       "      <th>test_precision</th>\n",
       "      <th>test_f1</th>\n",
       "      <th>test_accuracy</th>\n",
       "      <th>fit_time</th>\n",
       "      <th>score_time</th>\n",
       "      <th>test_recall</th>\n",
       "      <th>test_precision</th>\n",
       "      <th>test_f1</th>\n",
       "      <th>test_accuracy</th>\n",
       "      <th>fit_time</th>\n",
       "      <th>score_time</th>\n",
       "      <th>test_recall</th>\n",
       "      <th>test_precision</th>\n",
       "      <th>test_f1</th>\n",
       "      <th>test_accuracy</th>\n",
       "    </tr>\n",
       "  </thead>\n",
       "  <tbody>\n",
       "    <tr>\n",
       "      <th>0</th>\n",
       "      <td>0.807135</td>\n",
       "      <td>0.032617</td>\n",
       "      <td>0.254942</td>\n",
       "      <td>0.195300</td>\n",
       "      <td>0.221171</td>\n",
       "      <td>0.589946</td>\n",
       "      <td>14.342194</td>\n",
       "      <td>0.312226</td>\n",
       "      <td>0.041581</td>\n",
       "      <td>0.616162</td>\n",
       "      <td>0.077905</td>\n",
       "      <td>0.519865</td>\n",
       "      <td>5.624606</td>\n",
       "      <td>0.051872</td>\n",
       "      <td>0.000000</td>\n",
       "      <td>0.000000</td>\n",
       "      <td>0.000000</td>\n",
       "      <td>0.500000</td>\n",
       "      <td>0.561852</td>\n",
       "      <td>0.055402</td>\n",
       "      <td>0.000000</td>\n",
       "      <td>0.000000</td>\n",
       "      <td>0.000000</td>\n",
       "      <td>0.500000</td>\n",
       "    </tr>\n",
       "    <tr>\n",
       "      <th>1</th>\n",
       "      <td>0.789685</td>\n",
       "      <td>0.026918</td>\n",
       "      <td>0.266712</td>\n",
       "      <td>0.073579</td>\n",
       "      <td>0.115339</td>\n",
       "      <td>0.513482</td>\n",
       "      <td>14.420071</td>\n",
       "      <td>0.360269</td>\n",
       "      <td>0.091405</td>\n",
       "      <td>0.501873</td>\n",
       "      <td>0.154645</td>\n",
       "      <td>0.542464</td>\n",
       "      <td>7.609381</td>\n",
       "      <td>0.053197</td>\n",
       "      <td>0.693042</td>\n",
       "      <td>0.130440</td>\n",
       "      <td>0.219557</td>\n",
       "      <td>0.681600</td>\n",
       "      <td>0.693828</td>\n",
       "      <td>0.056887</td>\n",
       "      <td>0.113915</td>\n",
       "      <td>0.501502</td>\n",
       "      <td>0.185659</td>\n",
       "      <td>0.552916</td>\n",
       "    </tr>\n",
       "    <tr>\n",
       "      <th>2</th>\n",
       "      <td>0.837080</td>\n",
       "      <td>0.028073</td>\n",
       "      <td>0.224420</td>\n",
       "      <td>0.193529</td>\n",
       "      <td>0.207833</td>\n",
       "      <td>0.578826</td>\n",
       "      <td>14.396699</td>\n",
       "      <td>0.361001</td>\n",
       "      <td>0.082538</td>\n",
       "      <td>0.489879</td>\n",
       "      <td>0.141273</td>\n",
       "      <td>0.538201</td>\n",
       "      <td>6.239556</td>\n",
       "      <td>0.052010</td>\n",
       "      <td>0.278308</td>\n",
       "      <td>0.266145</td>\n",
       "      <td>0.272091</td>\n",
       "      <td>0.611761</td>\n",
       "      <td>0.789076</td>\n",
       "      <td>0.067610</td>\n",
       "      <td>0.077763</td>\n",
       "      <td>0.545455</td>\n",
       "      <td>0.136119</td>\n",
       "      <td>0.536568</td>\n",
       "    </tr>\n",
       "    <tr>\n",
       "      <th>3</th>\n",
       "      <td>0.782822</td>\n",
       "      <td>0.024331</td>\n",
       "      <td>0.196453</td>\n",
       "      <td>0.202960</td>\n",
       "      <td>0.199653</td>\n",
       "      <td>0.570687</td>\n",
       "      <td>14.578001</td>\n",
       "      <td>0.388516</td>\n",
       "      <td>0.083220</td>\n",
       "      <td>0.532751</td>\n",
       "      <td>0.143953</td>\n",
       "      <td>0.539004</td>\n",
       "      <td>5.797950</td>\n",
       "      <td>0.047449</td>\n",
       "      <td>0.019100</td>\n",
       "      <td>0.583333</td>\n",
       "      <td>0.036988</td>\n",
       "      <td>0.509063</td>\n",
       "      <td>0.548688</td>\n",
       "      <td>0.063763</td>\n",
       "      <td>0.052524</td>\n",
       "      <td>0.570370</td>\n",
       "      <td>0.096190</td>\n",
       "      <td>0.524850</td>\n",
       "    </tr>\n",
       "    <tr>\n",
       "      <th>4</th>\n",
       "      <td>0.834609</td>\n",
       "      <td>0.022997</td>\n",
       "      <td>0.700546</td>\n",
       "      <td>0.052040</td>\n",
       "      <td>0.096882</td>\n",
       "      <td>0.394736</td>\n",
       "      <td>14.870416</td>\n",
       "      <td>0.180193</td>\n",
       "      <td>0.983629</td>\n",
       "      <td>0.066464</td>\n",
       "      <td>0.124514</td>\n",
       "      <td>0.498632</td>\n",
       "      <td>5.977778</td>\n",
       "      <td>0.054668</td>\n",
       "      <td>0.978854</td>\n",
       "      <td>0.081618</td>\n",
       "      <td>0.150672</td>\n",
       "      <td>0.596250</td>\n",
       "      <td>0.541484</td>\n",
       "      <td>0.060401</td>\n",
       "      <td>0.238063</td>\n",
       "      <td>0.379348</td>\n",
       "      <td>0.292540</td>\n",
       "      <td>0.605128</td>\n",
       "    </tr>\n",
       "    <tr>\n",
       "      <th>Media</th>\n",
       "      <td>0.810266</td>\n",
       "      <td>0.026987</td>\n",
       "      <td>0.328615</td>\n",
       "      <td>0.143482</td>\n",
       "      <td>0.168176</td>\n",
       "      <td>0.529535</td>\n",
       "      <td>14.521476</td>\n",
       "      <td>0.320441</td>\n",
       "      <td>0.256475</td>\n",
       "      <td>0.441426</td>\n",
       "      <td>0.128458</td>\n",
       "      <td>0.527633</td>\n",
       "      <td>6.249854</td>\n",
       "      <td>0.051839</td>\n",
       "      <td>0.393861</td>\n",
       "      <td>0.212307</td>\n",
       "      <td>0.135862</td>\n",
       "      <td>0.579735</td>\n",
       "      <td>0.626986</td>\n",
       "      <td>0.060813</td>\n",
       "      <td>0.096453</td>\n",
       "      <td>0.399335</td>\n",
       "      <td>0.142102</td>\n",
       "      <td>0.543892</td>\n",
       "    </tr>\n",
       "    <tr>\n",
       "      <th>Desvio</th>\n",
       "      <td>0.022352</td>\n",
       "      <td>0.003342</td>\n",
       "      <td>0.187572</td>\n",
       "      <td>0.066296</td>\n",
       "      <td>0.051471</td>\n",
       "      <td>0.072389</td>\n",
       "      <td>0.191285</td>\n",
       "      <td>0.074300</td>\n",
       "      <td>0.363992</td>\n",
       "      <td>0.192598</td>\n",
       "      <td>0.027060</td>\n",
       "      <td>0.016506</td>\n",
       "      <td>0.709591</td>\n",
       "      <td>0.002415</td>\n",
       "      <td>0.384877</td>\n",
       "      <td>0.204653</td>\n",
       "      <td>0.103939</td>\n",
       "      <td>0.067863</td>\n",
       "      <td>0.098412</td>\n",
       "      <td>0.004467</td>\n",
       "      <td>0.079926</td>\n",
       "      <td>0.210195</td>\n",
       "      <td>0.096815</td>\n",
       "      <td>0.035140</td>\n",
       "    </tr>\n",
       "  </tbody>\n",
       "</table>\n",
       "</div>"
      ],
      "text/plain": [
       "       Decision Tree                                                  \\\n",
       "            fit_time score_time test_recall test_precision   test_f1   \n",
       "0           0.807135   0.032617    0.254942       0.195300  0.221171   \n",
       "1           0.789685   0.026918    0.266712       0.073579  0.115339   \n",
       "2           0.837080   0.028073    0.224420       0.193529  0.207833   \n",
       "3           0.782822   0.024331    0.196453       0.202960  0.199653   \n",
       "4           0.834609   0.022997    0.700546       0.052040  0.096882   \n",
       "Media       0.810266   0.026987    0.328615       0.143482  0.168176   \n",
       "Desvio      0.022352   0.003342    0.187572       0.066296  0.051471   \n",
       "\n",
       "                     Random Forest                                        \\\n",
       "       test_accuracy      fit_time score_time test_recall test_precision   \n",
       "0           0.589946     14.342194   0.312226    0.041581       0.616162   \n",
       "1           0.513482     14.420071   0.360269    0.091405       0.501873   \n",
       "2           0.578826     14.396699   0.361001    0.082538       0.489879   \n",
       "3           0.570687     14.578001   0.388516    0.083220       0.532751   \n",
       "4           0.394736     14.870416   0.180193    0.983629       0.066464   \n",
       "Media       0.529535     14.521476   0.320441    0.256475       0.441426   \n",
       "Desvio      0.072389      0.191285   0.074300    0.363992       0.192598   \n",
       "\n",
       "                                 Xgboost                         \\\n",
       "         test_f1 test_accuracy  fit_time score_time test_recall   \n",
       "0       0.077905      0.519865  5.624606   0.051872    0.000000   \n",
       "1       0.154645      0.542464  7.609381   0.053197    0.693042   \n",
       "2       0.141273      0.538201  6.239556   0.052010    0.278308   \n",
       "3       0.143953      0.539004  5.797950   0.047449    0.019100   \n",
       "4       0.124514      0.498632  5.977778   0.054668    0.978854   \n",
       "Media   0.128458      0.527633  6.249854   0.051839    0.393861   \n",
       "Desvio  0.027060      0.016506  0.709591   0.002415    0.384877   \n",
       "\n",
       "                                               Lightgbm             \\\n",
       "       test_precision   test_f1 test_accuracy  fit_time score_time   \n",
       "0            0.000000  0.000000      0.500000  0.561852   0.055402   \n",
       "1            0.130440  0.219557      0.681600  0.693828   0.056887   \n",
       "2            0.266145  0.272091      0.611761  0.789076   0.067610   \n",
       "3            0.583333  0.036988      0.509063  0.548688   0.063763   \n",
       "4            0.081618  0.150672      0.596250  0.541484   0.060401   \n",
       "Media        0.212307  0.135862      0.579735  0.626986   0.060813   \n",
       "Desvio       0.204653  0.103939      0.067863  0.098412   0.004467   \n",
       "\n",
       "                                                           \n",
       "       test_recall test_precision   test_f1 test_accuracy  \n",
       "0         0.000000       0.000000  0.000000      0.500000  \n",
       "1         0.113915       0.501502  0.185659      0.552916  \n",
       "2         0.077763       0.545455  0.136119      0.536568  \n",
       "3         0.052524       0.570370  0.096190      0.524850  \n",
       "4         0.238063       0.379348  0.292540      0.605128  \n",
       "Media     0.096453       0.399335  0.142102      0.543892  \n",
       "Desvio    0.079926       0.210195  0.096815      0.035140  "
      ]
     },
     "execution_count": 52,
     "metadata": {},
     "output_type": "execute_result"
    }
   ],
   "source": [
    "# mostra as métricas em um dataframe\n",
    "pd.set_option('display.max_columns', None)\n",
    "metrics = pd.DataFrame.from_dict(dic_metrics, orient=\"index\").stack().to_frame()\n",
    "metrics = pd.DataFrame(metrics[0].values.tolist(), index=metrics.index)\n",
    "metrics['Media'] = metrics.mean(axis=1)\n",
    "metrics['Desvio'] = metrics.std(axis=1)\n",
    "metrics = metrics.transpose()\n",
    "metrics"
   ]
  },
  {
   "cell_type": "markdown",
   "metadata": {},
   "source": [
    "___\n",
    "## Treino com Grid Search randomizado: Random Forest\n",
    "___"
   ]
  },
  {
   "cell_type": "code",
   "execution_count": 53,
   "metadata": {},
   "outputs": [
    {
     "data": {
      "text/plain": [
       "RandomizedSearchCV(cv=5, error_score='raise',\n",
       "                   estimator=RandomForestClassifier(n_jobs=-1, random_state=42),\n",
       "                   param_distributions={'criterion': ['gini', 'entropy'],\n",
       "                                        'max_depth': <scipy.stats._distn_infrastructure.rv_frozen object at 0x7fa1dc436550>,\n",
       "                                        'max_features': ['auto', 'log2']},\n",
       "                   random_state=42, scoring='f1')"
      ]
     },
     "execution_count": 53,
     "metadata": {},
     "output_type": "execute_result"
    }
   ],
   "source": [
    "rf = RandomForestClassifier(n_jobs=-1, random_state=random_state)\n",
    "\n",
    "# parâmetros a serem analisados\n",
    "params = {\n",
    "    'max_depth': sp.stats.uniform(loc=5, scale=10),\n",
    "    'criterion': ['gini', 'entropy'],\n",
    "    'max_features': ['auto', 'log2']\n",
    "}\n",
    "\n",
    "rf_gs = RandomizedSearchCV(rf, params, n_iter=10, cv=5, scoring='f1', random_state=random_state, error_score='raise')\n",
    "\n",
    "rf_gs.fit(X_train, y_train)"
   ]
  },
  {
   "cell_type": "code",
   "execution_count": 54,
   "metadata": {},
   "outputs": [
    {
     "data": {
      "text/plain": [
       "0.09522667785017662"
      ]
     },
     "execution_count": 54,
     "metadata": {},
     "output_type": "execute_result"
    }
   ],
   "source": [
    "# média dos 5 folds de cross-validation\n",
    "rf_gs.cv_results_['mean_test_score'].mean()"
   ]
  },
  {
   "cell_type": "code",
   "execution_count": 55,
   "metadata": {},
   "outputs": [
    {
     "data": {
      "text/plain": [
       "0.06532300668662953"
      ]
     },
     "execution_count": 55,
     "metadata": {},
     "output_type": "execute_result"
    }
   ],
   "source": [
    "# desvio padrão dos 5 folds de cross-validation\n",
    "rf_gs.cv_results_['std_test_score'].mean()"
   ]
  },
  {
   "cell_type": "code",
   "execution_count": 56,
   "metadata": {},
   "outputs": [
    {
     "name": "stdout",
     "output_type": "stream",
     "text": [
      "              precision    recall  f1-score   support\n",
      "\n",
      "           0       0.95      1.00      0.97    102669\n",
      "           1       0.99      0.22      0.36      7331\n",
      "\n",
      "    accuracy                           0.95    110000\n",
      "   macro avg       0.97      0.61      0.67    110000\n",
      "weighted avg       0.95      0.95      0.93    110000\n",
      "\n"
     ]
    }
   ],
   "source": [
    "# relatório dos resultados\n",
    "print(classification_report(y_train, rf_gs.predict(X_train)))"
   ]
  },
  {
   "cell_type": "markdown",
   "metadata": {},
   "source": [
    "___\n",
    "## Treino com Grid Search randomizado: LightGBM\n",
    "___"
   ]
  },
  {
   "cell_type": "code",
   "execution_count": 57,
   "metadata": {},
   "outputs": [
    {
     "data": {
      "text/plain": [
       "RandomizedSearchCV(cv=5, error_score='raise',\n",
       "                   estimator=LGBMClassifier(objective='binary',\n",
       "                                            random_state=42),\n",
       "                   param_distributions={'learning_rate': <scipy.stats._distn_infrastructure.rv_frozen object at 0x7fa1dc47e400>,\n",
       "                                        'max_depth': [5, 10, 15],\n",
       "                                        'min_split_gain': <scipy.stats._distn_infrastructure.rv_frozen object at 0x7fa1dc4e2ee0>,\n",
       "                                        'reg_lambda': <scipy.stats._distn_infrastructure.rv_frozen object at 0x7fa1dc4e2d00>,\n",
       "                                        'subsample': <scipy.stats._distn_infrastructure.rv_frozen object at 0x7fa1dc700550>},\n",
       "                   random_state=42, scoring='f1')"
      ]
     },
     "execution_count": 57,
     "metadata": {},
     "output_type": "execute_result"
    }
   ],
   "source": [
    "lgbm = lgb.LGBMClassifier(n_jobs=-1, objective='binary', random_state=random_state)\n",
    "\n",
    "# parâmetros a serem analisados\n",
    "params = {\n",
    "    'max_depth': [5, 10, 15],\n",
    "    'reg_lambda': sp.stats.uniform(loc=0, scale=2),\n",
    "    'learning_rate': sp.stats.uniform(loc=.05, scale=0.15),\n",
    "    'min_split_gain': sp.stats.uniform(loc=0, scale=5),\n",
    "    'subsample': sp.stats.uniform(loc=0, scale=1)\n",
    "}\n",
    "\n",
    "lgbm_gs = RandomizedSearchCV(lgbm, params, n_iter=10, cv=5, scoring='f1', random_state=random_state, error_score='raise')\n",
    "\n",
    "lgbm_gs.fit(X_train, y_train)"
   ]
  },
  {
   "cell_type": "code",
   "execution_count": 58,
   "metadata": {},
   "outputs": [
    {
     "data": {
      "text/plain": [
       "0.15235760818627658"
      ]
     },
     "execution_count": 58,
     "metadata": {},
     "output_type": "execute_result"
    }
   ],
   "source": [
    "# média dos 5 folds de cross-validation\n",
    "lgbm_gs.cv_results_['mean_test_score'].mean()"
   ]
  },
  {
   "cell_type": "code",
   "execution_count": 59,
   "metadata": {},
   "outputs": [
    {
     "data": {
      "text/plain": [
       "0.10932944238748214"
      ]
     },
     "execution_count": 59,
     "metadata": {},
     "output_type": "execute_result"
    }
   ],
   "source": [
    "# desvio padrão dos 5 folds de cross-validation\n",
    "lgbm_gs.cv_results_['std_test_score'].mean()"
   ]
  },
  {
   "cell_type": "code",
   "execution_count": 60,
   "metadata": {},
   "outputs": [
    {
     "name": "stdout",
     "output_type": "stream",
     "text": [
      "              precision    recall  f1-score   support\n",
      "\n",
      "           0       0.94      1.00      0.97    102669\n",
      "           1       0.72      0.13      0.22      7331\n",
      "\n",
      "    accuracy                           0.94    110000\n",
      "   macro avg       0.83      0.56      0.59    110000\n",
      "weighted avg       0.93      0.94      0.92    110000\n",
      "\n"
     ]
    }
   ],
   "source": [
    "# relatório dos resultados\n",
    "print(classification_report(y_train, lgbm_gs.predict(X_train)))"
   ]
  },
  {
   "cell_type": "markdown",
   "metadata": {},
   "source": [
    "___\n",
    "## Treino com Grid Search randomizado: XGBoost\n",
    "___"
   ]
  },
  {
   "cell_type": "code",
   "execution_count": 61,
   "metadata": {},
   "outputs": [
    {
     "data": {
      "text/plain": [
       "RandomizedSearchCV(cv=5, error_score='raise',\n",
       "                   estimator=XGBClassifier(base_score=None, booster=None,\n",
       "                                           colsample_bylevel=None,\n",
       "                                           colsample_bynode=None,\n",
       "                                           colsample_bytree=None,\n",
       "                                           enable_categorical=False, gamma=None,\n",
       "                                           gpu_id=None, importance_type=None,\n",
       "                                           interaction_constraints=None,\n",
       "                                           learning_rate=None,\n",
       "                                           max_delta_step=None, max_depth=None,\n",
       "                                           min_child_weight=None, missing=nan,...\n",
       "                   param_distributions={'learning_rate': <scipy.stats._distn_infrastructure.rv_frozen object at 0x7fa1dc50cdf0>,\n",
       "                                        'max_depth': [5, 10, 15],\n",
       "                                        'min_child_weight': <scipy.stats._distn_infrastructure.rv_frozen object at 0x7fa1dc888af0>,\n",
       "                                        'reg_lambda': <scipy.stats._distn_infrastructure.rv_frozen object at 0x7fa1dc436280>,\n",
       "                                        'subsample': <scipy.stats._distn_infrastructure.rv_frozen object at 0x7fa1dc4c6100>},\n",
       "                   random_state=42, scoring='f1')"
      ]
     },
     "execution_count": 61,
     "metadata": {},
     "output_type": "execute_result"
    }
   ],
   "source": [
    "xgb = xgb.XGBClassifier(n_jobs=-1, use_label_encoder=False, random_state=random_state)\n",
    "\n",
    "# parâmetros a serem analisados\n",
    "params = {\n",
    "    'max_depth': [5, 10, 15],\n",
    "    'reg_lambda': sp.stats.uniform(loc=0, scale=2),\n",
    "    'learning_rate': sp.stats.uniform(loc=.05, scale=0.15),\n",
    "    'min_child_weight': sp.stats.uniform(loc=0.01, scale=2.99),\n",
    "    'subsample': sp.stats.uniform(loc=0, scale=1)\n",
    "}\n",
    "\n",
    "xgb_gs = RandomizedSearchCV(xgb, params, n_iter=10, cv=5, scoring='f1', random_state=random_state, error_score='raise')\n",
    "\n",
    "xgb_gs.fit(X_train, y_train, eval_metric='logloss')"
   ]
  },
  {
   "cell_type": "code",
   "execution_count": 62,
   "metadata": {},
   "outputs": [
    {
     "data": {
      "text/plain": [
       "0.16872191033502482"
      ]
     },
     "execution_count": 62,
     "metadata": {},
     "output_type": "execute_result"
    }
   ],
   "source": [
    "# média dos 5 folds de cross-validation\n",
    "xgb_gs.cv_results_['mean_test_score'].mean()"
   ]
  },
  {
   "cell_type": "code",
   "execution_count": 63,
   "metadata": {},
   "outputs": [
    {
     "data": {
      "text/plain": [
       "0.10433009448337778"
      ]
     },
     "execution_count": 63,
     "metadata": {},
     "output_type": "execute_result"
    }
   ],
   "source": [
    "# desvio padrão dos 5 folds de cross-validation\n",
    "xgb_gs.cv_results_['std_test_score'].mean()"
   ]
  },
  {
   "cell_type": "code",
   "execution_count": 64,
   "metadata": {},
   "outputs": [
    {
     "name": "stdout",
     "output_type": "stream",
     "text": [
      "              precision    recall  f1-score   support\n",
      "\n",
      "           0       0.94      0.99      0.97    102669\n",
      "           1       0.63      0.13      0.22      7331\n",
      "\n",
      "    accuracy                           0.94    110000\n",
      "   macro avg       0.79      0.56      0.59    110000\n",
      "weighted avg       0.92      0.94      0.92    110000\n",
      "\n"
     ]
    }
   ],
   "source": [
    "# relatório dos resultados\n",
    "print(classification_report(y_train, xgb_gs.predict(X_train)))"
   ]
  },
  {
   "cell_type": "markdown",
   "metadata": {},
   "source": [
    "___\n",
    "## Comparação das métricas\n",
    "___"
   ]
  },
  {
   "cell_type": "code",
   "execution_count": 65,
   "metadata": {},
   "outputs": [],
   "source": [
    "# modelos treinados\n",
    "trained_models = {\n",
    "    'RandForest': rf_gs,\n",
    "    'LightGBM': lgbm_gs,\n",
    "    'XGBoost': xgb_gs\n",
    "}"
   ]
  },
  {
   "cell_type": "code",
   "execution_count": 175,
   "metadata": {},
   "outputs": [
    {
     "data": {
      "image/png": "[encoded data removed]",
      "text/plain": [
       "<Figure size 1440x360 with 4 Axes>"
      ]
     },
     "metadata": {
      "needs_background": "light"
     },
     "output_type": "display_data"
    }
   ],
   "source": [
    "# plot das matrizes de confusão\n",
    "f, axes = plt.subplots(1, 3, figsize=(20, 5), sharey='row')\n",
    "\n",
    "i = 0\n",
    "for model_name, model in trained_models.items():\n",
    "    disp = ConfusionMatrixDisplay(confusion_matrix(y_train, model.predict(X_train), normalize='true'), display_labels=[0, 1])\n",
    "    disp.plot(ax=axes[i], xticks_rotation=45, cmap='Blues')\n",
    "    disp.ax_.set_title(model_name)\n",
    "    disp.im_.colorbar.remove()\n",
    "    disp.ax_.set_xlabel('Predicted label')\n",
    "    disp.ax_.set_ylabel('True label')\n",
    "    i += 1\n",
    "\n",
    "plt.subplots_adjust(wspace=.3, hspace=.1)\n",
    "\n",
    "f.colorbar(disp.im_, ax=axes)\n",
    "plt.show()"
   ]
  },
  {
   "cell_type": "code",
   "execution_count": 67,
   "metadata": {},
   "outputs": [
    {
     "data": {
      "image/png": "[encoded data removed]",
      "text/plain": [
       "<Figure size 1440x360 with 3 Axes>"
      ]
     },
     "metadata": {
      "needs_background": "light"
     },
     "output_type": "display_data"
    }
   ],
   "source": [
    "# plot das curvas de recall-precision\n",
    "f, axes = plt.subplots(1, 3, figsize=(20, 5), sharey='row')\n",
    "\n",
    "i = 0\n",
    "for model_name, model in trained_models.items():\n",
    "    disp = PrecisionRecallDisplay.from_predictions(y_train, model.predict_proba(X_train)[:,1], ax=axes[i])\n",
    "    disp.ax_.set_title(model_name)\n",
    "    axes[i].grid()\n",
    "    i += 1\n",
    "\n",
    "plt.show()"
   ]
  },
  {
   "cell_type": "markdown",
   "metadata": {},
   "source": [
    "O modelo que se mostrou com melhor curva de precision-recall foi o Random Forest, portanto seguiremos com ele para a etapa final"
   ]
  },
  {
   "cell_type": "markdown",
   "metadata": {},
   "source": [
    "---\n",
    "## Seguindo com _Random Forest_ para etapa final\n",
    "\n",
    "Ajustando os Thresholds\n",
    "\n",
    "---"
   ]
  },
  {
   "cell_type": "code",
   "execution_count": 69,
   "metadata": {},
   "outputs": [],
   "source": [
    "# listas com as precisions, recalls e thresholds para vários pontos da curva (pega apenas a coluna 1 do resultado da função -> probabilidades para classe 1)\n",
    "precision, recall, threshold = precision_recall_curve(y_train, rf_gs.predict_proba(X_train)[:,1])\n",
    "# adiciona um NaN apenas para que fique do mesmo tamanho que as outras listas\n",
    "threshold = np.append(threshold, np.nan)"
   ]
  },
  {
   "cell_type": "code",
   "execution_count": 141,
   "metadata": {},
   "outputs": [
    {
     "data": {
      "text/html": [
       "<div>\n",
       "<style scoped>\n",
       "    .dataframe tbody tr th:only-of-type {\n",
       "        vertical-align: middle;\n",
       "    }\n",
       "\n",
       "    .dataframe tbody tr th {\n",
       "        vertical-align: top;\n",
       "    }\n",
       "\n",
       "    .dataframe thead th {\n",
       "        text-align: right;\n",
       "    }\n",
       "</style>\n",
       "<table border=\"1\" class=\"dataframe\">\n",
       "  <thead>\n",
       "    <tr style=\"text-align: right;\">\n",
       "      <th></th>\n",
       "      <th>Precision</th>\n",
       "      <th>Recall</th>\n",
       "      <th>Threshold</th>\n",
       "    </tr>\n",
       "  </thead>\n",
       "  <tbody>\n",
       "    <tr>\n",
       "      <th>0</th>\n",
       "      <td>0.130218</td>\n",
       "      <td>1.000000</td>\n",
       "      <td>0.020822</td>\n",
       "    </tr>\n",
       "    <tr>\n",
       "      <th>1</th>\n",
       "      <td>0.130202</td>\n",
       "      <td>0.999864</td>\n",
       "      <td>0.020823</td>\n",
       "    </tr>\n",
       "    <tr>\n",
       "      <th>2</th>\n",
       "      <td>0.130205</td>\n",
       "      <td>0.999864</td>\n",
       "      <td>0.020823</td>\n",
       "    </tr>\n",
       "    <tr>\n",
       "      <th>3</th>\n",
       "      <td>0.130207</td>\n",
       "      <td>0.999864</td>\n",
       "      <td>0.020823</td>\n",
       "    </tr>\n",
       "    <tr>\n",
       "      <th>4</th>\n",
       "      <td>0.130209</td>\n",
       "      <td>0.999864</td>\n",
       "      <td>0.020823</td>\n",
       "    </tr>\n",
       "    <tr>\n",
       "      <th>...</th>\n",
       "      <td>...</td>\n",
       "      <td>...</td>\n",
       "      <td>...</td>\n",
       "    </tr>\n",
       "    <tr>\n",
       "      <th>44982</th>\n",
       "      <td>0.518656</td>\n",
       "      <td>0.800164</td>\n",
       "      <td>0.178217</td>\n",
       "    </tr>\n",
       "    <tr>\n",
       "      <th>44983</th>\n",
       "      <td>0.518702</td>\n",
       "      <td>0.800164</td>\n",
       "      <td>0.178220</td>\n",
       "    </tr>\n",
       "    <tr>\n",
       "      <th>44984</th>\n",
       "      <td>0.518748</td>\n",
       "      <td>0.800164</td>\n",
       "      <td>0.178221</td>\n",
       "    </tr>\n",
       "    <tr>\n",
       "      <th>44985</th>\n",
       "      <td>0.518794</td>\n",
       "      <td>0.800164</td>\n",
       "      <td>0.178245</td>\n",
       "    </tr>\n",
       "    <tr>\n",
       "      <th>44986</th>\n",
       "      <td>0.518751</td>\n",
       "      <td>0.800027</td>\n",
       "      <td>0.178256</td>\n",
       "    </tr>\n",
       "  </tbody>\n",
       "</table>\n",
       "<p>44987 rows × 3 columns</p>\n",
       "</div>"
      ],
      "text/plain": [
       "       Precision    Recall  Threshold\n",
       "0       0.130218  1.000000   0.020822\n",
       "1       0.130202  0.999864   0.020823\n",
       "2       0.130205  0.999864   0.020823\n",
       "3       0.130207  0.999864   0.020823\n",
       "4       0.130209  0.999864   0.020823\n",
       "...          ...       ...        ...\n",
       "44982   0.518656  0.800164   0.178217\n",
       "44983   0.518702  0.800164   0.178220\n",
       "44984   0.518748  0.800164   0.178221\n",
       "44985   0.518794  0.800164   0.178245\n",
       "44986   0.518751  0.800027   0.178256\n",
       "\n",
       "[44987 rows x 3 columns]"
      ]
     },
     "execution_count": 141,
     "metadata": {},
     "output_type": "execute_result"
    }
   ],
   "source": [
    "\"\"\" analisando os dados acima em um dataframe e pegando os threshold que geram no mínimo\n",
    "um recall de 80% (valores podem ser alterados de acordo com a \"necessidade de mais acerto\" do modelo)\"\"\"\n",
    "rf_prc = pd.DataFrame({'Precision': precision.T, \n",
    "                        'Recall': recall.T, \n",
    "                        'Threshold': threshold.T\n",
    "                        }).query('Recall >= .8')\n",
    "rf_prc"
   ]
  },
  {
   "cell_type": "code",
   "execution_count": 142,
   "metadata": {},
   "outputs": [],
   "source": [
    "final_model_rf = rf_gs.best_estimator_"
   ]
  },
  {
   "cell_type": "code",
   "execution_count": 149,
   "metadata": {},
   "outputs": [
    {
     "data": {
      "text/plain": [
       "Thresholder(model=RandomForestClassifier(criterion='entropy',\n",
       "                                         max_depth=14.385527090157503,\n",
       "                                         max_features='log2', n_jobs=-1,\n",
       "                                         random_state=42),\n",
       "            threshold=0.178256)"
      ]
     },
     "execution_count": 149,
     "metadata": {},
     "output_type": "execute_result"
    }
   ],
   "source": [
    "rf_ajustado = Thresholder(final_model_rf, 0.178256) # Threshold com Precision de 51.87% e Recall de 80%\n",
    "rf_ajustado.fit(X_train, y_train)"
   ]
  },
  {
   "cell_type": "code",
   "execution_count": 174,
   "metadata": {},
   "outputs": [
    {
     "name": "stderr",
     "output_type": "stream",
     "text": [
      "/home/laryssastephanie/anaconda3/lib/python3.8/site-packages/sklearn/base.py:443: UserWarning: X has feature names, but RandomForestClassifier was fitted without feature names\n",
      "  warnings.warn(\n"
     ]
    },
    {
     "data": {
      "image/png": "[encoded data removed]",
      "text/plain": [
       "<Figure size 1440x360 with 4 Axes>"
      ]
     },
     "metadata": {
      "needs_background": "light"
     },
     "output_type": "display_data"
    }
   ],
   "source": [
    "# plot matriz confusão - dados de treino\n",
    "fig, ax = plt.subplots(1, 2, figsize=(20, 5))\n",
    "\n",
    "disp11 = ConfusionMatrixDisplay(confusion_matrix(y_train, rf_gs.predict(X_train), normalize='true'), display_labels=[0, 1])\n",
    "disp11.plot(ax=ax[0], xticks_rotation=45, cmap='Blues')\n",
    "disp11.ax_.set_title('Dados de treino sem threshold ajustado')\n",
    "disp12 = ConfusionMatrixDisplay(confusion_matrix(y_train, rf_ajustado.predict(X_train), normalize='true'), display_labels=[0, 1])\n",
    "disp12.plot(ax=ax[1], xticks_rotation=45, cmap='Blues')\n",
    "disp12.ax_.set_title('Dados de treino com threshold ajustado')\n",
    "plt.subplots_adjust(wspace=0)\n",
    "\n",
    "plt.show()"
   ]
  },
  {
   "cell_type": "markdown",
   "metadata": {},
   "source": [
    "___\n",
    "## Testando o modelo\n",
    "---"
   ]
  },
  {
   "cell_type": "code",
   "execution_count": 129,
   "metadata": {},
   "outputs": [
    {
     "name": "stderr",
     "output_type": "stream",
     "text": [
      "/home/laryssastephanie/anaconda3/lib/python3.8/site-packages/sklearn/base.py:443: UserWarning: X has feature names, but RandomForestClassifier was fitted without feature names\n",
      "  warnings.warn(\n"
     ]
    }
   ],
   "source": [
    "data_test.insert(1, 'sera_inadimplente', rf_ajustado.predict(X_test))"
   ]
  },
  {
   "cell_type": "code",
   "execution_count": 130,
   "metadata": {},
   "outputs": [
    {
     "data": {
      "text/html": [
       "<div>\n",
       "<style scoped>\n",
       "    .dataframe tbody tr th:only-of-type {\n",
       "        vertical-align: middle;\n",
       "    }\n",
       "\n",
       "    .dataframe tbody tr th {\n",
       "        vertical-align: top;\n",
       "    }\n",
       "\n",
       "    .dataframe thead th {\n",
       "        text-align: right;\n",
       "    }\n",
       "</style>\n",
       "<table border=\"1\" class=\"dataframe\">\n",
       "  <thead>\n",
       "    <tr style=\"text-align: right;\">\n",
       "      <th></th>\n",
       "      <th>cliente</th>\n",
       "      <th>sera_inadimplente</th>\n",
       "      <th>util_linhas_inseguras</th>\n",
       "      <th>idade</th>\n",
       "      <th>vezes_passou_de_30_59_dias</th>\n",
       "      <th>razao_debito</th>\n",
       "      <th>salario_mensal</th>\n",
       "      <th>numero_linhas_crdto_aberto</th>\n",
       "      <th>numero_vezes_passou_90_dias</th>\n",
       "      <th>numero_emprestimos_imobiliarios</th>\n",
       "      <th>numero_de_vezes_que_passou_60_89_dias</th>\n",
       "      <th>numero_de_dependentes</th>\n",
       "    </tr>\n",
       "  </thead>\n",
       "  <tbody>\n",
       "    <tr>\n",
       "      <th>0</th>\n",
       "      <td>1</td>\n",
       "      <td>0</td>\n",
       "      <td>0.025849</td>\n",
       "      <td>62</td>\n",
       "      <td>0</td>\n",
       "      <td>0.081775</td>\n",
       "      <td>8180.0</td>\n",
       "      <td>3</td>\n",
       "      <td>0</td>\n",
       "      <td>2</td>\n",
       "      <td>0</td>\n",
       "      <td>0.0</td>\n",
       "    </tr>\n",
       "    <tr>\n",
       "      <th>1</th>\n",
       "      <td>2</td>\n",
       "      <td>0</td>\n",
       "      <td>0.667083</td>\n",
       "      <td>55</td>\n",
       "      <td>0</td>\n",
       "      <td>0.153112</td>\n",
       "      <td>2200.0</td>\n",
       "      <td>3</td>\n",
       "      <td>0</td>\n",
       "      <td>0</td>\n",
       "      <td>0</td>\n",
       "      <td>0.0</td>\n",
       "    </tr>\n",
       "    <tr>\n",
       "      <th>2</th>\n",
       "      <td>3</td>\n",
       "      <td>0</td>\n",
       "      <td>0.007093</td>\n",
       "      <td>44</td>\n",
       "      <td>0</td>\n",
       "      <td>0.148800</td>\n",
       "      <td>7499.0</td>\n",
       "      <td>20</td>\n",
       "      <td>0</td>\n",
       "      <td>1</td>\n",
       "      <td>0</td>\n",
       "      <td>0.0</td>\n",
       "    </tr>\n",
       "    <tr>\n",
       "      <th>3</th>\n",
       "      <td>4</td>\n",
       "      <td>0</td>\n",
       "      <td>0.091213</td>\n",
       "      <td>54</td>\n",
       "      <td>0</td>\n",
       "      <td>0.351635</td>\n",
       "      <td>5900.0</td>\n",
       "      <td>15</td>\n",
       "      <td>0</td>\n",
       "      <td>1</td>\n",
       "      <td>1</td>\n",
       "      <td>0.0</td>\n",
       "    </tr>\n",
       "    <tr>\n",
       "      <th>4</th>\n",
       "      <td>5</td>\n",
       "      <td>0</td>\n",
       "      <td>0.112680</td>\n",
       "      <td>54</td>\n",
       "      <td>0</td>\n",
       "      <td>0.065959</td>\n",
       "      <td>2167.0</td>\n",
       "      <td>3</td>\n",
       "      <td>0</td>\n",
       "      <td>0</td>\n",
       "      <td>0</td>\n",
       "      <td>0.0</td>\n",
       "    </tr>\n",
       "    <tr>\n",
       "      <th>...</th>\n",
       "      <td>...</td>\n",
       "      <td>...</td>\n",
       "      <td>...</td>\n",
       "      <td>...</td>\n",
       "      <td>...</td>\n",
       "      <td>...</td>\n",
       "      <td>...</td>\n",
       "      <td>...</td>\n",
       "      <td>...</td>\n",
       "      <td>...</td>\n",
       "      <td>...</td>\n",
       "      <td>...</td>\n",
       "    </tr>\n",
       "    <tr>\n",
       "      <th>39995</th>\n",
       "      <td>39996</td>\n",
       "      <td>0</td>\n",
       "      <td>0.000000</td>\n",
       "      <td>68</td>\n",
       "      <td>1</td>\n",
       "      <td>0.062858</td>\n",
       "      <td>10833.0</td>\n",
       "      <td>9</td>\n",
       "      <td>1</td>\n",
       "      <td>0</td>\n",
       "      <td>0</td>\n",
       "      <td>0.0</td>\n",
       "    </tr>\n",
       "    <tr>\n",
       "      <th>39996</th>\n",
       "      <td>39997</td>\n",
       "      <td>0</td>\n",
       "      <td>0.061117</td>\n",
       "      <td>84</td>\n",
       "      <td>0</td>\n",
       "      <td>0.013598</td>\n",
       "      <td>8456.0</td>\n",
       "      <td>7</td>\n",
       "      <td>0</td>\n",
       "      <td>0</td>\n",
       "      <td>0</td>\n",
       "      <td>0.0</td>\n",
       "    </tr>\n",
       "    <tr>\n",
       "      <th>39997</th>\n",
       "      <td>39998</td>\n",
       "      <td>0</td>\n",
       "      <td>0.817745</td>\n",
       "      <td>70</td>\n",
       "      <td>0</td>\n",
       "      <td>0.663056</td>\n",
       "      <td>6000.0</td>\n",
       "      <td>17</td>\n",
       "      <td>0</td>\n",
       "      <td>2</td>\n",
       "      <td>0</td>\n",
       "      <td>0.0</td>\n",
       "    </tr>\n",
       "    <tr>\n",
       "      <th>39998</th>\n",
       "      <td>39999</td>\n",
       "      <td>0</td>\n",
       "      <td>0.106139</td>\n",
       "      <td>64</td>\n",
       "      <td>2</td>\n",
       "      <td>0.865438</td>\n",
       "      <td>5045.0</td>\n",
       "      <td>12</td>\n",
       "      <td>0</td>\n",
       "      <td>4</td>\n",
       "      <td>0</td>\n",
       "      <td>0.0</td>\n",
       "    </tr>\n",
       "    <tr>\n",
       "      <th>39999</th>\n",
       "      <td>40000</td>\n",
       "      <td>1</td>\n",
       "      <td>1.000000</td>\n",
       "      <td>28</td>\n",
       "      <td>0</td>\n",
       "      <td>0.002285</td>\n",
       "      <td>3500.0</td>\n",
       "      <td>0</td>\n",
       "      <td>1</td>\n",
       "      <td>0</td>\n",
       "      <td>0</td>\n",
       "      <td>0.0</td>\n",
       "    </tr>\n",
       "  </tbody>\n",
       "</table>\n",
       "<p>40000 rows × 12 columns</p>\n",
       "</div>"
      ],
      "text/plain": [
       "       cliente  sera_inadimplente  util_linhas_inseguras  idade  \\\n",
       "0            1                  0               0.025849     62   \n",
       "1            2                  0               0.667083     55   \n",
       "2            3                  0               0.007093     44   \n",
       "3            4                  0               0.091213     54   \n",
       "4            5                  0               0.112680     54   \n",
       "...        ...                ...                    ...    ...   \n",
       "39995    39996                  0               0.000000     68   \n",
       "39996    39997                  0               0.061117     84   \n",
       "39997    39998                  0               0.817745     70   \n",
       "39998    39999                  0               0.106139     64   \n",
       "39999    40000                  1               1.000000     28   \n",
       "\n",
       "       vezes_passou_de_30_59_dias  razao_debito  salario_mensal  \\\n",
       "0                               0      0.081775          8180.0   \n",
       "1                               0      0.153112          2200.0   \n",
       "2                               0      0.148800          7499.0   \n",
       "3                               0      0.351635          5900.0   \n",
       "4                               0      0.065959          2167.0   \n",
       "...                           ...           ...             ...   \n",
       "39995                           1      0.062858         10833.0   \n",
       "39996                           0      0.013598          8456.0   \n",
       "39997                           0      0.663056          6000.0   \n",
       "39998                           2      0.865438          5045.0   \n",
       "39999                           0      0.002285          3500.0   \n",
       "\n",
       "       numero_linhas_crdto_aberto  numero_vezes_passou_90_dias  \\\n",
       "0                               3                            0   \n",
       "1                               3                            0   \n",
       "2                              20                            0   \n",
       "3                              15                            0   \n",
       "4                               3                            0   \n",
       "...                           ...                          ...   \n",
       "39995                           9                            1   \n",
       "39996                           7                            0   \n",
       "39997                          17                            0   \n",
       "39998                          12                            0   \n",
       "39999                           0                            1   \n",
       "\n",
       "       numero_emprestimos_imobiliarios  numero_de_vezes_que_passou_60_89_dias  \\\n",
       "0                                    2                                      0   \n",
       "1                                    0                                      0   \n",
       "2                                    1                                      0   \n",
       "3                                    1                                      1   \n",
       "4                                    0                                      0   \n",
       "...                                ...                                    ...   \n",
       "39995                                0                                      0   \n",
       "39996                                0                                      0   \n",
       "39997                                2                                      0   \n",
       "39998                                4                                      0   \n",
       "39999                                0                                      0   \n",
       "\n",
       "       numero_de_dependentes  \n",
       "0                        0.0  \n",
       "1                        0.0  \n",
       "2                        0.0  \n",
       "3                        0.0  \n",
       "4                        0.0  \n",
       "...                      ...  \n",
       "39995                    0.0  \n",
       "39996                    0.0  \n",
       "39997                    0.0  \n",
       "39998                    0.0  \n",
       "39999                    0.0  \n",
       "\n",
       "[40000 rows x 12 columns]"
      ]
     },
     "execution_count": 130,
     "metadata": {},
     "output_type": "execute_result"
    }
   ],
   "source": [
    "data_test"
   ]
  },
  {
   "cell_type": "code",
   "execution_count": 131,
   "metadata": {},
   "outputs": [
    {
     "data": {
      "text/plain": [
       "0    35792\n",
       "1     4208\n",
       "Name: sera_inadimplente, dtype: int64"
      ]
     },
     "execution_count": 131,
     "metadata": {},
     "output_type": "execute_result"
    }
   ],
   "source": [
    "data_test['sera_inadimplente'].value_counts()"
   ]
  },
  {
   "cell_type": "code",
   "execution_count": 151,
   "metadata": {},
   "outputs": [
    {
     "name": "stdout",
     "output_type": "stream",
     "text": [
      "Teste:\n",
      "4208 usuarios possivelmente inadimplentes -> 10.52% dos dados totais\n",
      "35792 usuarios possivelmente adimplentes -> 89.48% dos dados totais\n",
      "\n"
     ]
    }
   ],
   "source": [
    "# print de informações\n",
    "qtd_total_test = data_test.shape[0]\n",
    "inadimplentes_test = sum(data_test['sera_inadimplente'])\n",
    "adimplentes_test = qtd_total_test - inadimplentes_test\n",
    "\n",
    "print(\"Teste:\")\n",
    "print(f\"{inadimplentes_test} usuarios possivelmente inadimplentes -> {inadimplentes_test/qtd_total_test * 100:3.2f}% dos dados totais\")\n",
    "print(f\"{adimplentes_test} usuarios possivelmente adimplentes -> {adimplentes_test/qtd_total_test * 100:3.2f}% dos dados totais\\n\")"
   ]
  },
  {
   "cell_type": "code",
   "execution_count": 154,
   "metadata": {},
   "outputs": [],
   "source": [
    "data_test.to_csv('case_datarisk/predito.csv', index=False)"
   ]
  },
  {
   "cell_type": "code",
   "execution_count": 77,
   "metadata": {},
   "outputs": [],
   "source": [
    "# Exportando o modelo em Pickle\n",
    "# Descomentar as linhas abaixo para salvar o modelo\n",
    "\n",
    "# output = open('modelo_rf', 'wb')\n",
    "# pickle.dump(adj_th_rf, output)\n",
    "# output.close()"
   ]
  }
 ],
 "metadata": {
  "interpreter": {
   "hash": "8d97a3dbca231d9020d4cca2fd426dfd394f300c675eea7ed921aca4ffa7b18a"
  },
  "kernelspec": {
   "display_name": "Python 3.8.2 64-bit ('base': conda)",
   "language": "python",
   "name": "python3"
  },
  "language_info": {
   "codemirror_mode": {
    "name": "ipython",
    "version": 3
   },
   "file_extension": ".py",
   "mimetype": "text/x-python",
   "name": "python",
   "nbconvert_exporter": "python",
   "pygments_lexer": "ipython3",
   "version": "3.8.2"
  },
  "orig_nbformat": 4
 },
 "nbformat": 4,
 "nbformat_minor": 2
}
